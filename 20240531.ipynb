{
  "nbformat": 4,
  "nbformat_minor": 0,
  "metadata": {
    "colab": {
      "provenance": [],
      "authorship_tag": "ABX9TyNyj6ndn7DQ7vlBhrA5lVQb",
      "include_colab_link": true
    },
    "kernelspec": {
      "name": "python3",
      "display_name": "Python 3"
    },
    "language_info": {
      "name": "python"
    }
  },
  "cells": [
    {
      "cell_type": "markdown",
      "metadata": {
        "id": "view-in-github",
        "colab_type": "text"
      },
      "source": [
        "<a href=\"https://colab.research.google.com/github/s11000/pandas-data-frame/blob/main/20240531.ipynb\" target=\"_parent\"><img src=\"https://colab.research.google.com/assets/colab-badge.svg\" alt=\"Open In Colab\"/></a>"
      ]
    },
    {
      "cell_type": "code",
      "source": [
        "array=[]\n",
        "for i in range(3):\n",
        "    x=int(input())\n",
        "    array.append(x)\n",
        "print(max(array))\n",
        "print(min(array))"
      ],
      "metadata": {
        "colab": {
          "base_uri": "https://localhost:8080/"
        },
        "id": "QTpGE29sOcsJ",
        "outputId": "a5d783d4-f674-4c38-bb06-cbafda0a1e7f"
      },
      "execution_count": 78,
      "outputs": [
        {
          "output_type": "stream",
          "name": "stdout",
          "text": [
            "45\n",
            "33\n",
            "42\n",
            "45\n",
            "33\n"
          ]
        }
      ]
    },
    {
      "cell_type": "code",
      "source": [
        "   num1 = int(input())\n",
        "num2 = int(input())\n",
        "num3 = int(input())\n",
        "maxV = num1\n",
        "minV = num3\n",
        "\n",
        "if (num2 > maxV):\n",
        "    maxV = num2\n",
        "if (num3 > maxV):\n",
        "    maxV = num3\n",
        "print(maxV)\n",
        "\n",
        "if (num2 < minV):\n",
        "    minV = num2\n",
        "if (num1 < minV):\n",
        "    minV = num1\n",
        "print(minV)"
      ],
      "metadata": {
        "colab": {
          "base_uri": "https://localhost:8080/"
        },
        "id": "h82ss-9CCRYJ",
        "outputId": "9a40ada0-3683-4f25-e977-1dc5e89d5051"
      },
      "execution_count": 77,
      "outputs": [
        {
          "output_type": "stream",
          "name": "stdout",
          "text": [
            "5\n",
            "6\n",
            "9\n",
            "9\n",
            "5\n"
          ]
        }
      ]
    },
    {
      "cell_type": "code",
      "source": [],
      "metadata": {
        "id": "CRfmq6whCRVZ"
      },
      "execution_count": null,
      "outputs": []
    },
    {
      "cell_type": "code",
      "source": [],
      "metadata": {
        "id": "SPgOwn4M-L9b"
      },
      "execution_count": 47,
      "outputs": []
    },
    {
      "cell_type": "code",
      "source": [],
      "metadata": {
        "id": "GlAVmnuAA_le"
      },
      "execution_count": null,
      "outputs": []
    },
    {
      "cell_type": "code",
      "source": [],
      "metadata": {
        "id": "4nY1VwwR-Lzb"
      },
      "execution_count": null,
      "outputs": []
    },
    {
      "cell_type": "code",
      "source": [],
      "metadata": {
        "id": "mSG64JL_O-z0"
      },
      "execution_count": null,
      "outputs": []
    },
    {
      "cell_type": "code",
      "source": [],
      "metadata": {
        "id": "W305xQJC9ng0"
      },
      "execution_count": null,
      "outputs": []
    },
    {
      "cell_type": "code",
      "source": [],
      "metadata": {
        "id": "9drobOYH9neU"
      },
      "execution_count": null,
      "outputs": []
    }
  ]
}