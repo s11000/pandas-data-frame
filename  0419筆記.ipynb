{
  "nbformat": 4,
  "nbformat_minor": 0,
  "metadata": {
    "colab": {
      "name": "Untitled14.ipynb",
      "provenance": [],
      "authorship_tag": "ABX9TyMIYYuSrqQmGtI5M1lDhfp9",
      "include_colab_link": true
    },
    "kernelspec": {
      "name": "python3",
      "display_name": "Python 3"
    },
    "language_info": {
      "name": "python"
    }
  },
  "cells": [
    {
      "cell_type": "markdown",
      "metadata": {
        "id": "view-in-github",
        "colab_type": "text"
      },
      "source": [
        "<a href=\"https://colab.research.google.com/github/s11000/pandas-data-frame/blob/main/%200419%E7%AD%86%E8%A8%98.ipynb\" target=\"_parent\"><img src=\"https://colab.research.google.com/assets/colab-badge.svg\" alt=\"Open In Colab\"/></a>"
      ]
    },
    {
      "cell_type": "code",
      "execution_count": 1,
      "metadata": {
        "id": "J7FHg1F0ipI_"
      },
      "outputs": [],
      "source": [
        "from sklearn import datasets\n",
        "import numpy as np\n",
        "from sklearn.model_selection import train_test_split"
      ]
    },
    {
      "cell_type": "code",
      "source": [
        "iris = datasets.load_iris() # 載入數據集\n",
        "\n",
        "X = iris.data[:, [2, 3]]\n",
        " \n",
        " \n",
        "y = iris.target # 標籤已經轉換成 0，1，2 了\n",
        "X_train, X_test, y_train, y_test = train_test_split(X, y,\n",
        "test_size=0.3, random_state=0) # 抽出 30%當測試"
      ],
      "metadata": {
        "id": "uNbMe3RNiv6J"
      },
      "execution_count": 18,
      "outputs": []
    },
    {
      "cell_type": "code",
      "source": [
        "from sklearn.preprocessing import StandardScaler\n",
        "sc = StandardScaler()\n",
        "sc.fit(X_train) # 估算每個特徵的平均值和標準差\n",
        "sc.mean_ # 查看特徵的平均值\n",
        "sc.scale_ # 查看特徵的標準差\n",
        "X_train_std = sc.transform(X_train)\n",
        "# 注意：這裡我們要用同樣的參數來標準化測試集，使得測試集和訓練集之間\n",
        " \n",
        "X_test_std = sc.transform(X_test)\n"
      ],
      "metadata": {
        "id": "Is_JE_Xyiv8V"
      },
      "execution_count": 19,
      "outputs": []
    },
    {
      "cell_type": "code",
      "source": [
        "from sklearn.linear_model import Perceptron\n",
        "#ppn = Perceptron(n_iter=200, eta0=0.1, random_state=0)\n",
        "ppn = Perceptron()\n",
        "ppn.fit(X_train_std, y_train)\n",
        "ppn.coef_\n",
        "ppn.intercept_\n",
        "y_pred = ppn.predict(X_test_std)\n",
        "y_pred \n",
        "y_test\n",
        "y_pred == y_test\n",
        "print('Misclassified samples: %d' % (y_test != y_pred).sum())\n",
        "from sklearn.metrics import accuracy_score\n",
        "print('Accuracy: %.2f' % accuracy_score(y_test, y_pred))"
      ],
      "metadata": {
        "colab": {
          "base_uri": "https://localhost:8080/"
        },
        "id": "ic8SNx1EiwBN",
        "outputId": "9a0982c1-00d6-4448-ccb8-44031179e4e5"
      },
      "execution_count": 20,
      "outputs": [
        {
          "output_type": "stream",
          "name": "stdout",
          "text": [
            "Misclassified samples: 5\n",
            "Accuracy: 0.89\n"
          ]
        }
      ]
    },
    {
      "cell_type": "code",
      "source": [
        ""
      ],
      "metadata": {
        "id": "6LcjlRfCsux-"
      },
      "execution_count": null,
      "outputs": []
    },
    {
      "cell_type": "code",
      "source": [
        "X_train = [[6], [8], [10], [14], [18]] \n",
        "y_train = [[7], [9], [13], [17.5], [18]]\n",
        "from sklearn.linear_model import LinearRegression\n",
        "regressor = LinearRegression()\n",
        "regressor.fit(X_train, y_train)\n",
        "\n",
        "import numpy as np\n",
        "xx = np.linspace(0, 26, 100) \n",
        "xx = xx.reshape(xx.shape[0], 1)\n",
        "xx.reshape(1,xx.shape[0])[0]\n",
        "\n",
        "yy = regressor.predict(xx)\n",
        "import matplotlib.pyplot as plt\n",
        "\n"
      ],
      "metadata": {
        "id": "wLCmXnA7ucRk"
      },
      "execution_count": 60,
      "outputs": []
    },
    {
      "cell_type": "code",
      "source": [
        "import matplotlib.pyplot as plt\n",
        "plt.scatter(X_train, y_train) \n",
        "plt1, = plt.plot(xx, yy, label=\"Degree=1\") \n",
        "plt.axis([0, 25, 0, 25]) \n",
        "plt.xlabel('Diameter of Pizza') \n",
        "plt.ylabel('Price of Pizza') \n",
        "plt.legend(handles = [plt1]) # plt.show()\n"
      ],
      "metadata": {
        "colab": {
          "base_uri": "https://localhost:8080/",
          "height": 300
        },
        "id": "G_kB_bzqucPN",
        "outputId": "38abc693-e77f-4038-c795-2df61170b3d4"
      },
      "execution_count": 61,
      "outputs": [
        {
          "output_type": "execute_result",
          "data": {
            "text/plain": [
              "<matplotlib.legend.Legend at 0x7f5f271d3ad0>"
            ]
          },
          "metadata": {},
          "execution_count": 61
        },
        {
          "output_type": "display_data",
          "data": {
            "text/plain": [
              "<Figure size 432x288 with 1 Axes>"
            ],
            "image/png": "[encoded data removed]"
          },
          "metadata": {
            "needs_background": "light"
          }
        }
      ]
    },
    {
      "cell_type": "code",
      "source": [
        "from sklearn.preprocessing import PolynomialFeatures\n",
        "poly2 = PolynomialFeatures(degree=2)\n",
        "\n",
        "X_train_poly2 = poly2.fit_transform(X_train)\n",
        "\n",
        "regressor_poly2 = LinearRegression()\n",
        "\n",
        "regressor_poly2.fit(X_train_poly2, y_train)\n",
        "xx_poly2 = poly2.transform(xx)\n",
        "yy_poly2 = regressor_poly2.predict(xx_poly2)\n",
        " \n",
        " "
      ],
      "metadata": {
        "id": "g84L4QkkucNC"
      },
      "execution_count": 68,
      "outputs": []
    },
    {
      "cell_type": "code",
      "source": [
        "plt.scatter(X_train, y_train) \n",
        "plt1, = plt.plot(xx, yy, label='Degree=1')\n",
        "plt2, = plt.plot(xx, yy_poly2, label='Degree=2')\n",
        "plt.axis([0, 25, 0, 25]) \n",
        "plt.xlabel('Diameter of Pizza')\n",
        "plt.ylabel('Price of Pizza') \n",
        "plt.legend(handles = [plt1, plt2])\n",
        "plt.show()\n",
        "\n"
      ],
      "metadata": {
        "colab": {
          "base_uri": "https://localhost:8080/",
          "height": 283
        },
        "id": "FZYWAFjaucKc",
        "outputId": "ba07cb85-6449-4a11-ac9c-d12c2d01a97d"
      },
      "execution_count": 69,
      "outputs": [
        {
          "output_type": "display_data",
          "data": {
            "text/plain": [
              "<Figure size 432x288 with 1 Axes>"
            ],
            "image/png": "[encoded data removed]"
          },
          "metadata": {
            "needs_background": "light"
          }
        }
      ]
    },
    {
      "cell_type": "code",
      "source": [
        " print( 'The R-squared value of Polynominal Regressor (Degree=2) performing on the training data is', regressor_poly2.score(X_train_poly2, y_train))\n",
        " "
      ],
      "metadata": {
        "colab": {
          "base_uri": "https://localhost:8080/"
        },
        "id": "lKGDve9nucHv",
        "outputId": "e8329586-c2b0-4096-ddc5-a7c1231f134a"
      },
      "execution_count": 70,
      "outputs": [
        {
          "output_type": "stream",
          "name": "stdout",
          "text": [
            "The R-squared value of Polynominal Regressor (Degree=2) performing on the training data is 0.9816421639597427\n"
          ]
        }
      ]
    },
    {
      "cell_type": "code",
      "source": [
        "from sklearn.preprocessing import PolynomialFeatures\n",
        " \n",
        "poly4 = PolynomialFeatures(degree=4) \n",
        "X_train_poly4 = poly4.fit_transform(X_train)  \n",
        "poly4 = PolynomialFeatures(degree=4) \n",
        "X_train_poly4 = poly4.fit_transform(X_train)\n",
        "\n",
        " \n",
        " "
      ],
      "metadata": {
        "id": "dtQWR5n1ub9r"
      },
      "execution_count": 81,
      "outputs": []
    },
    {
      "cell_type": "code",
      "source": [
        "regressor_poly4 = LinearRegression()\n",
        "\n",
        "regressor_poly4.fit(X_train_poly4, y_train)\n",
        "\n",
        " "
      ],
      "metadata": {
        "colab": {
          "base_uri": "https://localhost:8080/"
        },
        "id": "HqByAtTwub4h",
        "outputId": "5c324b8b-8474-4f79-f3a2-1885b1c3af84"
      },
      "execution_count": 83,
      "outputs": [
        {
          "output_type": "execute_result",
          "data": {
            "text/plain": [
              "LinearRegression()"
            ]
          },
          "metadata": {},
          "execution_count": 83
        }
      ]
    },
    {
      "cell_type": "code",
      "source": [
        "xx_poly4 = poly4.transform(xx)\n",
        "\n",
        "yy_poly4 = regressor_poly4.predict(xx_poly4)\n",
        " "
      ],
      "metadata": {
        "id": "LDjeCEc3ub1E"
      },
      "execution_count": 85,
      "outputs": []
    },
    {
      "cell_type": "code",
      "source": [
        "plt.scatter(X_train, y_train) \n",
        "plt1, = plt.plot(xx, yy, label='Degree=1') \n",
        "plt2, = plt.plot(xx, yy_poly2, label='Degree=2')\n",
        "plt4, = plt.plot(xx, yy_poly4, label='Degree=4')\n",
        "plt.axis([0, 25, 0, 25]) \n",
        "plt.xlabel('Diameter of Pizza') \n",
        "plt.ylabel('Price of Pizza') \n",
        "plt.legend(handles = [plt1, plt2, plt4])\n",
        "plt.show() \n"
      ],
      "metadata": {
        "colab": {
          "base_uri": "https://localhost:8080/",
          "height": 283
        },
        "id": "bWtosWRTyoHM",
        "outputId": "ff2f7595-3dad-4782-b0d2-5324857825db"
      },
      "execution_count": 87,
      "outputs": [
        {
          "output_type": "display_data",
          "data": {
            "text/plain": [
              "<Figure size 432x288 with 1 Axes>"
            ],
            "image/png": "[encoded data removed]"
          },
          "metadata": {
            "needs_background": "light"
          }
        }
      ]
    },
    {
      "cell_type": "code",
      "source": [
        "X_test = [[6], [8], [11], [16]] \n",
        "y_test = [[8], [12], [15], [18]]\n",
        "\n",
        " "
      ],
      "metadata": {
        "id": "Uob3lolazCs3"
      },
      "execution_count": 88,
      "outputs": []
    },
    {
      "cell_type": "code",
      "source": [
        "regressor.score(X_test, y_test)\n",
        "\n",
        " "
      ],
      "metadata": {
        "colab": {
          "base_uri": "https://localhost:8080/"
        },
        "id": "wntciqU_zCrc",
        "outputId": "5f4404b9-76c8-47c9-92f8-9422e523eacb"
      },
      "execution_count": 89,
      "outputs": [
        {
          "output_type": "execute_result",
          "data": {
            "text/plain": [
              "0.809726797707665"
            ]
          },
          "metadata": {},
          "execution_count": 89
        }
      ]
    },
    {
      "cell_type": "code",
      "source": [
        "from sklearn.linear_model import Lasso\n",
        "lasso_poly4 = Lasso()\n"
      ],
      "metadata": {
        "id": "Nc0REV82zCpJ"
      },
      "execution_count": 100,
      "outputs": []
    },
    {
      "cell_type": "code",
      "source": [
        "lasso_poly4.fit(X_train_poly4, y_train)\n",
        "   "
      ],
      "metadata": {
        "colab": {
          "base_uri": "https://localhost:8080/"
        },
        "id": "eo0Keh2QzCgW",
        "outputId": "fe9dd31d-eb99-4c5e-ede7-54747ac08bff"
      },
      "execution_count": 103,
      "outputs": [
        {
          "output_type": "stream",
          "name": "stderr",
          "text": [
            "/usr/local/lib/python3.7/dist-packages/sklearn/linear_model/_coordinate_descent.py:648: ConvergenceWarning: Objective did not converge. You might want to increase the number of iterations, check the scale of the features or consider increasing regularisation. Duality gap: 7.226e-01, tolerance: 9.720e-03\n",
            "  coef_, l1_reg, l2_reg, X, y, max_iter, tol, rng, random, positive\n"
          ]
        },
        {
          "output_type": "execute_result",
          "data": {
            "text/plain": [
              "Lasso()"
            ]
          },
          "metadata": {},
          "execution_count": 103
        }
      ]
    },
    {
      "cell_type": "code",
      "source": [
        "from sklearn.linear_model import Lasso\n",
        "lasso_poly4 = Lasso()\n",
        "X_test = [[6], [8], [11], [16]] \n",
        "y_test = [[8], [12], [15], [18]]\n",
        "lasso_poly4.fit(X_train_poly4, y_train)\n",
        "\n",
        "\n",
        " "
      ],
      "metadata": {
        "colab": {
          "base_uri": "https://localhost:8080/"
        },
        "id": "cMU717AEzCde",
        "outputId": "1e2c910b-a653-45f1-e199-96298813d3f7"
      },
      "execution_count": 108,
      "outputs": [
        {
          "output_type": "stream",
          "name": "stderr",
          "text": [
            "/usr/local/lib/python3.7/dist-packages/sklearn/linear_model/_coordinate_descent.py:648: ConvergenceWarning: Objective did not converge. You might want to increase the number of iterations, check the scale of the features or consider increasing regularisation. Duality gap: 7.226e-01, tolerance: 9.720e-03\n",
            "  coef_, l1_reg, l2_reg, X, y, max_iter, tol, rng, random, positive\n"
          ]
        },
        {
          "output_type": "execute_result",
          "data": {
            "text/plain": [
              "Lasso()"
            ]
          },
          "metadata": {},
          "execution_count": 108
        }
      ]
    },
    {
      "cell_type": "code",
      "source": [
        "\n",
        "\n",
        " "
      ],
      "metadata": {
        "colab": {
          "base_uri": "https://localhost:8080/",
          "height": 201
        },
        "id": "D6FZ_mpuzCW1",
        "outputId": "288bbb7b-cd55-44cb-dc12-b38ec399d0c2"
      },
      "execution_count": 119,
      "outputs": [
        {
          "output_type": "error",
          "ename": "NameError",
          "evalue": "ignored",
          "traceback": [
            "\u001b[0;31m---------------------------------------------------------------------------\u001b[0m",
            "\u001b[0;31mNameError\u001b[0m                                 Traceback (most recent call last)",
            "\u001b[0;32m<ipython-input-119-207c4aed4ff8>\u001b[0m in \u001b[0;36m<module>\u001b[0;34m()\u001b[0m\n\u001b[0;32m----> 1\u001b[0;31m \u001b[0mprint\u001b[0m\u001b[0;34m(\u001b[0m\u001b[0mX_test_poly4\u001b[0m\u001b[0;34m,\u001b[0m \u001b[0my_test\u001b[0m\u001b[0;34m)\u001b[0m\u001b[0;34m\u001b[0m\u001b[0;34m\u001b[0m\u001b[0m\n\u001b[0m\u001b[1;32m      2\u001b[0m \u001b[0;34m\u001b[0m\u001b[0m\n\u001b[1;32m      3\u001b[0m \u001b[0;34m\u001b[0m\u001b[0m\n",
            "\u001b[0;31mNameError\u001b[0m: name 'X_test_poly4' is not defined"
          ]
        }
      ]
    },
    {
      "cell_type": "code",
      "source": [
        "from sklearn.linear_model import Ridge\n",
        "\n",
        " "
      ],
      "metadata": {
        "id": "d-UT3dye1uUh"
      },
      "execution_count": 114,
      "outputs": []
    },
    {
      "cell_type": "code",
      "source": [
        "ridge_poly4 = Ridge()\n",
        "ridge_poly4.fit(X_train_poly4, y_train)\n",
        " \n",
        " \n",
        " "
      ],
      "metadata": {
        "colab": {
          "base_uri": "https://localhost:8080/"
        },
        "id": "u979heVB1uSS",
        "outputId": "b7c239be-3f81-4a22-c3aa-44fe603ffd23"
      },
      "execution_count": 118,
      "outputs": [
        {
          "output_type": "execute_result",
          "data": {
            "text/plain": [
              "Ridge()"
            ]
          },
          "metadata": {},
          "execution_count": 118
        }
      ]
    },
    {
      "cell_type": "code",
      "source": [
        ""
      ],
      "metadata": {
        "id": "f8p33r361uPW"
      },
      "execution_count": null,
      "outputs": []
    },
    {
      "cell_type": "code",
      "source": [
        ""
      ],
      "metadata": {
        "id": "1iEEj8Oa1uNb"
      },
      "execution_count": null,
      "outputs": []
    },
    {
      "cell_type": "code",
      "source": [
        ""
      ],
      "metadata": {
        "id": "VvRnvHvB1uLT"
      },
      "execution_count": null,
      "outputs": []
    }
  ]
}