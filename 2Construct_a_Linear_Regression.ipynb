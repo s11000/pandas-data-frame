{
  "nbformat": 4,
  "nbformat_minor": 0,
  "metadata": {
    "colab": {
      "provenance": [],
      "authorship_tag": "ABX9TyNnDAz79YVvIqB645/pq6XJ",
      "include_colab_link": true
    },
    "kernelspec": {
      "name": "python3",
      "display_name": "Python 3"
    },
    "language_info": {
      "name": "python"
    }
  },
  "cells": [
    {
      "cell_type": "markdown",
      "metadata": {
        "id": "view-in-github",
        "colab_type": "text"
      },
      "source": [
        "<a href=\"https://colab.research.google.com/github/s11000/pandas-data-frame/blob/main/2Construct_a_Linear_Regression.ipynb\" target=\"_parent\"><img src=\"https://colab.research.google.com/assets/colab-badge.svg\" alt=\"Open In Colab\"/></a>"
      ]
    },
    {
      "cell_type": "code",
      "execution_count": 1,
      "metadata": {
        "colab": {
          "base_uri": "https://localhost:8080/"
        },
        "id": "dc4_H8GT_1ez",
        "outputId": "3b9ee574-811b-484e-8622-a2c0daef1bd9"
      },
      "outputs": [
        {
          "output_type": "stream",
          "name": "stderr",
          "text": [
            "/usr/local/lib/python3.8/dist-packages/sklearn/utils/deprecation.py:87: FutureWarning: Function load_boston is deprecated; `load_boston` is deprecated in 1.0 and will be removed in 1.2.\n",
            "\n",
            "    The Boston housing prices dataset has an ethical problem. You can refer to\n",
            "    the documentation of this function for further details.\n",
            "\n",
            "    The scikit-learn maintainers therefore strongly discourage the use of this\n",
            "    dataset unless the purpose of the code is to study and educate about\n",
            "    ethical issues in data science and machine learning.\n",
            "\n",
            "    In this special case, you can fetch the dataset from the original\n",
            "    source::\n",
            "\n",
            "        import pandas as pd\n",
            "        import numpy as np\n",
            "\n",
            "\n",
            "        data_url = \"http://lib.stat.cmu.edu/datasets/boston\"\n",
            "        raw_df = pd.read_csv(data_url, sep=\"\\s+\", skiprows=22, header=None)\n",
            "        data = np.hstack([raw_df.values[::2, :], raw_df.values[1::2, :2]])\n",
            "        target = raw_df.values[1::2, 2]\n",
            "\n",
            "    Alternative datasets include the California housing dataset (i.e.\n",
            "    :func:`~sklearn.datasets.fetch_california_housing`) and the Ames housing\n",
            "    dataset. You can load the datasets as follows::\n",
            "\n",
            "        from sklearn.datasets import fetch_california_housing\n",
            "        housing = fetch_california_housing()\n",
            "\n",
            "    for the California housing dataset and::\n",
            "\n",
            "        from sklearn.datasets import fetch_openml\n",
            "        housing = fetch_openml(name=\"house_prices\", as_frame=True)\n",
            "\n",
            "    for the Ames housing dataset.\n",
            "    \n",
            "  warnings.warn(msg, category=FutureWarning)\n"
          ]
        }
      ],
      "source": [
        "import pandas\n",
        "import numpy as np\n",
        "import matplotlib.pyplot as plt\n",
        "from sklearn.datasets import load_boston\n",
        "\n",
        "def simple_linear_regression(raw_x,raw_y):\n",
        "  n = np.size(raw_x)\n",
        "  x = np.array(raw_x)\n",
        "  y = np.array(raw_y)\n",
        "  x_mean = np.mean(x)\n",
        "  y_mean = np.mean(y)\n",
        "\n",
        "  num1 = np.sum(y*x) - n*y_mean*x_mean\n",
        "  num2 = np.sum(x*x) - n*x_mean*x_mean\n",
        "  b_1 = num1 / num2\n",
        "  b_0 = y_mean - b_1 * x_mean\n",
        "  return(b_0,b_1)\n",
        "\n",
        "rawData = load_boston()\n",
        "bostonDataset = pandas.DataFrame(rawData.data,columns=rawData.feature_names)\n",
        "bostonDataset['MEDV'] = rawData.target\n",
        "\n",
        "x = np.array(bostonDataset['LSTAT'])[:,np.newaxis]\n",
        "y = np.array(bostonDataset['MEDV'])[:,np.newaxis]\n",
        "\n",
        "b0,b1 = simple_linear_regression(x,y)\n",
        "bfl_x = x\n",
        "bfl_y = b0 + b1 *bfl_x"
      ]
    },
    {
      "cell_type": "code",
      "source": [
        "plt.scatter(x,y)\n",
        "plt.plot(bfl_x,bfl_y, color = \"r\")\n",
        "plt.xlabel('LSTAT')\n",
        "plt.ylabel('MEDV')\n",
        "\n",
        "plt.show()\n",
        "print('The intercept of the best fitting line is',b0)\n",
        "print('The slope of the best fitting line is',b1)\n",
        "     "
      ],
      "metadata": {
        "colab": {
          "base_uri": "https://localhost:8080/",
          "height": 314
        },
        "id": "2ZnjXt9P_9Kk",
        "outputId": "13ce383d-4bae-4ffe-9bce-197cf92c228c"
      },
      "execution_count": 2,
      "outputs": [
        {
          "output_type": "display_data",
          "data": {
            "text/plain": [
              "<Figure size 432x288 with 1 Axes>"
            ],
            "image/png": "[encoded data removed]"
          },
          "metadata": {
            "needs_background": "light"
          }
        },
        {
          "output_type": "stream",
          "name": "stdout",
          "text": [
            "The intercept of the best fitting line is 34.553840879383145\n",
            "The slope of the best fitting line is -0.950049353757994\n"
          ]
        }
      ]
    },
    {
      "cell_type": "code",
      "source": [
        "import numpy as np\n",
        "import matplotlib.pyplot as plt\n",
        "\n",
        "def func(x):return np.square(x)\n",
        "\n",
        "def dfunc(x):return 2 * x\n",
        "\n",
        "def GD(x_start,df,epochs,lr):\n",
        "  \"\"\"梯度下降法\"\"\"\n",
        "  xs = np.zeros(epochs+1)\n",
        "  x = x_start\n",
        "  xs[0] = x\n",
        "  for i in range(epochs):\n",
        "    dx = df(x)\n",
        "    v = - dx * lr\n",
        "    x += v\n",
        "    xs[i+1] = x\n",
        "  return xs\n",
        "     \n"
      ],
      "metadata": {
        "id": "7v17WhGF_9Ic"
      },
      "execution_count": 3,
      "outputs": []
    },
    {
      "cell_type": "code",
      "source": [
        "x_start = 5\n",
        "epochs = 15\n",
        "\n",
        "lr = 0.3\n",
        "\n",
        "x = GD(x_start,dfunc,epochs,lr=lr)\n",
        "print(x)\n",
        "\n",
        "color = 'r'\n",
        "\n",
        "  \n",
        "from numpy import arange\n",
        "t = arange(-6.0,6.0,0.01)\n",
        "plt.plot(t,func(t),c='b') \n",
        "plt.plot(x,func(x),c=color,label='lr={}'.format(lr))\n",
        "plt.scatter(x,func(x),c=color,)\n",
        "plt.legend()\n",
        "plt.show()\n"
      ],
      "metadata": {
        "colab": {
          "base_uri": "https://localhost:8080/",
          "height": 334
        },
        "id": "BLg2-vew_9GD",
        "outputId": "004fc13a-ffe0-493b-d81d-6d4b973899de"
      },
      "execution_count": 4,
      "outputs": [
        {
          "output_type": "stream",
          "name": "stdout",
          "text": [
            "[5.00000000e+00 2.00000000e+00 8.00000000e-01 3.20000000e-01\n",
            " 1.28000000e-01 5.12000000e-02 2.04800000e-02 8.19200000e-03\n",
            " 3.27680000e-03 1.31072000e-03 5.24288000e-04 2.09715200e-04\n",
            " 8.38860800e-05 3.35544320e-05 1.34217728e-05 5.36870912e-06]\n"
          ]
        },
        {
          "output_type": "display_data",
          "data": {
            "text/plain": [
              "<Figure size 432x288 with 1 Axes>"
            ],
            "image/png": "[encoded data removed]"
          },
          "metadata": {
            "needs_background": "light"
          }
        }
      ]
    },
    {
      "cell_type": "code",
      "source": [
        "import numpy as np\n",
        "from pylab import *\n",
        "\n",
        "pageSpeeds = np.random.normal(3.0,1.0,1000)\n",
        "purchaseAmount = 100 -(pageSpeeds + np.random.normal(0,0.1,1000))*3\n",
        "scatter(pageSpeeds,purchaseAmount)\n",
        "     \n"
      ],
      "metadata": {
        "colab": {
          "base_uri": "https://localhost:8080/",
          "height": 282
        },
        "id": "nrMEJuhC_9Dz",
        "outputId": "90c57d8f-b3c4-4f36-c7f6-2d0d9d87fb2e"
      },
      "execution_count": 5,
      "outputs": [
        {
          "output_type": "execute_result",
          "data": {
            "text/plain": [
              "<matplotlib.collections.PathCollection at 0x7fc50b8f3a90>"
            ]
          },
          "metadata": {},
          "execution_count": 5
        },
        {
          "output_type": "display_data",
          "data": {
            "text/plain": [
              "<Figure size 432x288 with 1 Axes>"
            ],
            "image/png": "[encoded data removed]"
          },
          "metadata": {
            "needs_background": "light"
          }
        }
      ]
    },
    {
      "cell_type": "code",
      "source": [],
      "metadata": {
        "id": "EFkRZR0T_9Br"
      },
      "execution_count": null,
      "outputs": []
    },
    {
      "cell_type": "code",
      "source": [],
      "metadata": {
        "id": "I9lqma-4_8_j"
      },
      "execution_count": null,
      "outputs": []
    }
  ]
}