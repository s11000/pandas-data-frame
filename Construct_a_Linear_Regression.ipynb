{
  "nbformat": 4,
  "nbformat_minor": 0,
  "metadata": {
    "colab": {
      "provenance": [],
      "authorship_tag": "ABX9TyNJFEFHOSxornk58IcdcgFt",
      "include_colab_link": true
    },
    "kernelspec": {
      "name": "python3",
      "display_name": "Python 3"
    },
    "language_info": {
      "name": "python"
    }
  },
  "cells": [
    {
      "cell_type": "markdown",
      "metadata": {
        "id": "view-in-github",
        "colab_type": "text"
      },
      "source": [
        "<a href=\"https://colab.research.google.com/github/s11000/pandas-data-frame/blob/main/Construct_a_Linear_Regression.ipynb\" target=\"_parent\"><img src=\"https://colab.research.google.com/assets/colab-badge.svg\" alt=\"Open In Colab\"/></a>"
      ]
    },
    {
      "cell_type": "code",
      "source": [
        "import pandas\n",
        "import numpy as np\n",
        "import matplotlib.pyplot as plt\n",
        "from sklearn.datasets import load_boston\n",
        "\n",
        "def simple_linear_regress(raw_x,raw_y):\n",
        "  n = np.size(raw_x)\n",
        "  x = np.array(raw_x)\n",
        "  y = np.array(raw_y)\n",
        "  x_mean = np.mean(x)\n",
        "  y_mean = np.mean(y)\n",
        "\n",
        "  num1 = np.sum(y*x) - n*y_mean*x_mean\n",
        "  num2 = np.sum(x*x) - n*x_mean*x_mean\n",
        "  b_1 = num1 / num2\n",
        "  b_0 = y_mean - b_1 * x_mean\n",
        "  return (b_0,b_1)\n",
        "\n",
        "  rawData = load_boston()\n",
        "  bostonDataset = pandas.DataFrame(rawData.data,columns=rawData.feature_names)\n",
        "  bostonDataset['MEDV'] = rawData.target\n",
        "\n",
        "  x = np.array(bostonDataset['LSTAT'])[:,np.newaxis]\n",
        "  y = np.array(bostonDataset['MEDV'])[:,np.newaxis]\n",
        "\n",
        "  b0,b1 = simple_linear_regress(x,y)\n",
        "  bf1_x = x\n",
        "  bf1_y = b0 + b1 *bf1_x\n",
        "     \n",
        "\n",
        "  plt.scatter(x,y)\n",
        "  plt.plot(bf1_x,bf1_y,color = \"r\")\n",
        "\n",
        "  plt.xlabel('LSTAT')\n",
        "  plt.ylabel('MEDV')\n",
        "  plt.show()\n",
        "  print('The intercept of the best fitting line is',b0)\n",
        "  print('The slope of the best fitting line is',b1)\n",
        "\n",
        " \n",
        "     "
      ],
      "metadata": {
        "id": "phRBs9v3qyDc"
      },
      "execution_count": 4,
      "outputs": []
    },
    {
      "cell_type": "code",
      "source": [
        "import pandas\n",
        "import numpy as np\n",
        "import matplotlib.pyplot as plt \n",
        "from sklearn.datasets import load_boston\n",
        "\n",
        "def simple_linear_regress(raw_x,raw_y):\n",
        "  n = np.size(raw_x)\n",
        "  x = np.array(raw_x)\n",
        "  y = np.array(raw_y)\n",
        "  x_mean = np.mean(x)\n",
        "  y_mean = np.mean(y)\n",
        "\n",
        "  num1 = np.sum(y*x) - n*y_mean*x_mean\n",
        "  num2 = np.sum(x*x) - n*x_mean*x_mean\n",
        "  b_1 = num1 / num2\n",
        "  b_0 = y_mean - b_1 * x_mean\n",
        "  return (b_0,b_1)\n",
        "\n",
        "  rawData = load_boston()\n",
        "  bostonDataset = pandas.DataFrame(rawData.data,columns=rawData.feature_names)\n",
        "  bostonDataset['MEDV'] = rawData.target\n",
        "\n",
        "  x = np.array(bostonDataset['LSTAT'])[:,np.newaxis]\n",
        "  y = np.array(bostonDataset['MEDV'])[:,np.newaxis]\n",
        "\n",
        "  b0,b1 = simple_linear_regress(x,y)\n",
        "  bf1_x = x\n",
        "  bf1_y = b0 + b1 *bf1_x\n",
        "\n",
        "  plt.scatter(x,y)\n",
        "  plt.plot(bf1_x,bf1_y,color = \"r\")\n",
        "\n",
        "  plt.xlabel('LSTAT')\n",
        "  plt.ylabel('MEDV')\n",
        "\n",
        "  plt.show()\n",
        "  print('The intercept of the best fitting line is',b0)\n",
        "  print('The slope of the best fitting line is',b1)\n",
        "     "
      ],
      "metadata": {
        "id": "FKrKu7VQqx-x"
      },
      "execution_count": 8,
      "outputs": []
    },
    {
      "cell_type": "code",
      "source": [
        "import numpy as np\n",
        "import matplotlib.pyplot as plt\n",
        "\n",
        "def func(x):return np.square(x)\n",
        "\n",
        "def dfunc(x):return 2 * x\n",
        "\n",
        "def GD(x_start,df,epochs,lr):\n",
        "  \"\"\"\n",
        "  梯度下降法\n",
        "  \"\"\"\n",
        "  xs = np.zeros(epochs+1)\n",
        "  x = x_start\n",
        "  xs[0] = x\n",
        "  for i in range(epochs):\n",
        "    dx = df(x)\n",
        "\n",
        "    v = - dx * lr\n",
        "    x += v\n",
        "    xs[i+1] = x\n",
        "  return xs\n",
        "\n",
        "  x_start = 5\n",
        "\n",
        "  epochs = 15\n",
        "\n",
        "  lr = 0.3\n",
        "\n",
        "  x = GD(x_star,dfunc,epochs,lr=lr)\n",
        "  print(x)\n",
        "\n",
        "  color = 'r'\n",
        "\n",
        "  \n",
        "  from numpy import arange\n",
        "  t = arange(-6.0,6.0,0.01)\n",
        "  plt.plot(t,func(t),c='b') \n",
        "  plt.plot(x,func(x),c=color,label='lr={}'.format(lr))\n",
        "  plt.scatter(x,func(x),c=color,)\n",
        "  plt.legend()\n",
        "  plt.show()\n",
        "     "
      ],
      "metadata": {
        "id": "Q0F2BX-fqx8c"
      },
      "execution_count": 9,
      "outputs": []
    },
    {
      "cell_type": "code",
      "source": [
        "import numpy as np\n",
        "import matplotlib.pyplot as plt\n",
        "\n",
        "def func(x):return np.square(x)\n",
        "\n",
        "def dfunc(x):return 2 * x\n",
        "\n",
        "def GD(x_start,df,epochs,lr):\n",
        "  \"\"\"梯度下降法\"\"\"\n",
        "  xs = np.zeros(epochs+1)\n",
        "  x = x_start\n",
        "  xs[0] = x\n",
        "  for i in range(epochs):\n",
        "    dx = df(x)\n",
        "    v = - dx * lr\n",
        "    x += v\n",
        "    xs[i+1] = x\n",
        "  return xs\n",
        "     \n",
        "\n",
        "x_start = 5\n",
        "epochs = 15\n",
        "\n",
        "lr = 0.3\n",
        "\n",
        "x = GD(x_start,dfunc,epochs,lr=lr)\n",
        "print(x)\n",
        "\n",
        "color = 'r'\n",
        "\n",
        "  \n",
        "from numpy import arange\n",
        "t = arange(-6.0,6.0,0.01)\n",
        "plt.plot(t,func(t),c='b') \n",
        "plt.plot(x,func(x),c=color,label='lr={}'.format(lr))\n",
        "plt.scatter(x,func(x),c=color,)\n",
        "plt.legend()\n",
        "plt.show()"
      ],
      "metadata": {
        "colab": {
          "base_uri": "https://localhost:8080/",
          "height": 334
        },
        "id": "bxTepgY498Gk",
        "outputId": "67101e14-46b7-4ed8-c0a0-88e9a9f6be8d"
      },
      "execution_count": 10,
      "outputs": [
        {
          "output_type": "stream",
          "name": "stdout",
          "text": [
            "[5.00000000e+00 2.00000000e+00 8.00000000e-01 3.20000000e-01\n",
            " 1.28000000e-01 5.12000000e-02 2.04800000e-02 8.19200000e-03\n",
            " 3.27680000e-03 1.31072000e-03 5.24288000e-04 2.09715200e-04\n",
            " 8.38860800e-05 3.35544320e-05 1.34217728e-05 5.36870912e-06]\n"
          ]
        },
        {
          "output_type": "display_data",
          "data": {
            "text/plain": [
              "<Figure size 432x288 with 1 Axes>"
            ],
            "image/png": "[encoded data removed]"
          },
          "metadata": {
            "needs_background": "light"
          }
        }
      ]
    },
    {
      "cell_type": "code",
      "source": [],
      "metadata": {
        "id": "NK8QkJVQ98El"
      },
      "execution_count": null,
      "outputs": []
    },
    {
      "cell_type": "code",
      "source": [
        "import pandas\n",
        "import numpy as np\n",
        "import matplotlib.pyplot as plt\n",
        "from sklearn.datasets import load_boston\n",
        "\n",
        "def simple_linear_regression(raw_x,raw_y):\n",
        "  n = np.size(raw_x)\n",
        "  x = np.array(raw_x)\n",
        "  y = np.array(raw_y)\n",
        "  x_mean = np.mean(x)\n",
        "  y_mean = np.mean(y)\n",
        "\n",
        "  num1 = np.sum(y*x) - n*y_mean*x_mean\n",
        "  num2 = np.sum(x*x) - n*x_mean*x_mean\n",
        "  b_1 = num1 / num2\n",
        "  b_0 = y_mean - b_1 * x_mean\n",
        "  return (b_0,b_1)\n",
        "\n",
        "rawData = load_boston()\n",
        "bostonDataset = pandas.DataFrame(rawData.data,columns=rawData.feature_names)\n",
        "bostonDataset['MEDV'] = rawData.target\n",
        "\n",
        "x = np.array(bostonDataset['LSTAT'])[:,np.newaxis]\n",
        "y = np.array(bostonDataset['MEDV'])[:,np.newaxis]\n",
        "\n",
        "b0,b1 = simple_linear_regression(x,y)\n",
        "bfl_x = x\n",
        "bfl_y = b0 + b1 *bfl_x\n",
        "\n",
        "plt.plot(bfl_x,bfl_y, color = \"r\")\n",
        "plt.xlabel('LSTAT')\n",
        "plt.ylabel('MEDV')\n",
        "\n",
        "plt.show()\n",
        "print('The intercept of the best fitting line is',b0)\n",
        "print('The slope of the best fitting line is',b1)\n",
        "     "
      ],
      "metadata": {
        "colab": {
          "base_uri": "https://localhost:8080/",
          "height": 959
        },
        "id": "LDfCiXoV98CE",
        "outputId": "327c6e5e-9b41-46fd-95fe-5092e3a59514"
      },
      "execution_count": 11,
      "outputs": [
        {
          "output_type": "stream",
          "name": "stderr",
          "text": [
            "/usr/local/lib/python3.8/dist-packages/sklearn/utils/deprecation.py:87: FutureWarning: Function load_boston is deprecated; `load_boston` is deprecated in 1.0 and will be removed in 1.2.\n",
            "\n",
            "    The Boston housing prices dataset has an ethical problem. You can refer to\n",
            "    the documentation of this function for further details.\n",
            "\n",
            "    The scikit-learn maintainers therefore strongly discourage the use of this\n",
            "    dataset unless the purpose of the code is to study and educate about\n",
            "    ethical issues in data science and machine learning.\n",
            "\n",
            "    In this special case, you can fetch the dataset from the original\n",
            "    source::\n",
            "\n",
            "        import pandas as pd\n",
            "        import numpy as np\n",
            "\n",
            "\n",
            "        data_url = \"http://lib.stat.cmu.edu/datasets/boston\"\n",
            "        raw_df = pd.read_csv(data_url, sep=\"\\s+\", skiprows=22, header=None)\n",
            "        data = np.hstack([raw_df.values[::2, :], raw_df.values[1::2, :2]])\n",
            "        target = raw_df.values[1::2, 2]\n",
            "\n",
            "    Alternative datasets include the California housing dataset (i.e.\n",
            "    :func:`~sklearn.datasets.fetch_california_housing`) and the Ames housing\n",
            "    dataset. You can load the datasets as follows::\n",
            "\n",
            "        from sklearn.datasets import fetch_california_housing\n",
            "        housing = fetch_california_housing()\n",
            "\n",
            "    for the California housing dataset and::\n",
            "\n",
            "        from sklearn.datasets import fetch_openml\n",
            "        housing = fetch_openml(name=\"house_prices\", as_frame=True)\n",
            "\n",
            "    for the Ames housing dataset.\n",
            "    \n",
            "  warnings.warn(msg, category=FutureWarning)\n"
          ]
        },
        {
          "output_type": "display_data",
          "data": {
            "text/plain": [
              "<Figure size 432x288 with 1 Axes>"
            ],
            "image/png": "[encoded data removed]"
          },
          "metadata": {
            "needs_background": "light"
          }
        },
        {
          "output_type": "stream",
          "name": "stdout",
          "text": [
            "The intercept of the best fitting line is 34.553840879383145\n",
            "The slope of the best fitting line is -0.950049353757994\n"
          ]
        }
      ]
    },
    {
      "cell_type": "code",
      "source": [
        "import numpy as np\n",
        "from pylab import*\n",
        "\n",
        "pageSpeeds = np.random.normal(3.0,1.0,1000)\n",
        "purchaseAmount = 100 -(pageSpeeds + np.arange.normal(0,0.1,1000))*3\n",
        "scatter(pageSpeeds,purchaseAmount)"
      ],
      "metadata": {
        "colab": {
          "base_uri": "https://localhost:8080/",
          "height": 219
        },
        "id": "R09pzzYL97_F",
        "outputId": "ac7c6264-04b9-4774-bcab-20abd41ccd98"
      },
      "execution_count": 12,
      "outputs": [
        {
          "output_type": "error",
          "ename": "AttributeError",
          "evalue": "ignored",
          "traceback": [
            "\u001b[0;31m---------------------------------------------------------------------------\u001b[0m",
            "\u001b[0;31mAttributeError\u001b[0m                            Traceback (most recent call last)",
            "\u001b[0;32m<ipython-input-12-9f991613dc5f>\u001b[0m in \u001b[0;36m<module>\u001b[0;34m\u001b[0m\n\u001b[1;32m      3\u001b[0m \u001b[0;34m\u001b[0m\u001b[0m\n\u001b[1;32m      4\u001b[0m \u001b[0mpageSpeeds\u001b[0m \u001b[0;34m=\u001b[0m \u001b[0mnp\u001b[0m\u001b[0;34m.\u001b[0m\u001b[0mrandom\u001b[0m\u001b[0;34m.\u001b[0m\u001b[0mnormal\u001b[0m\u001b[0;34m(\u001b[0m\u001b[0;36m3.0\u001b[0m\u001b[0;34m,\u001b[0m\u001b[0;36m1.0\u001b[0m\u001b[0;34m,\u001b[0m\u001b[0;36m1000\u001b[0m\u001b[0;34m)\u001b[0m\u001b[0;34m\u001b[0m\u001b[0;34m\u001b[0m\u001b[0m\n\u001b[0;32m----> 5\u001b[0;31m \u001b[0mpurchaseAmount\u001b[0m \u001b[0;34m=\u001b[0m \u001b[0;36m100\u001b[0m \u001b[0;34m-\u001b[0m\u001b[0;34m(\u001b[0m\u001b[0mpageSpeeds\u001b[0m \u001b[0;34m+\u001b[0m \u001b[0mnp\u001b[0m\u001b[0;34m.\u001b[0m\u001b[0marange\u001b[0m\u001b[0;34m.\u001b[0m\u001b[0mnormal\u001b[0m\u001b[0;34m(\u001b[0m\u001b[0;36m0\u001b[0m\u001b[0;34m,\u001b[0m\u001b[0;36m0.1\u001b[0m\u001b[0;34m,\u001b[0m\u001b[0;36m1000\u001b[0m\u001b[0;34m)\u001b[0m\u001b[0;34m)\u001b[0m\u001b[0;34m*\u001b[0m\u001b[0;36m3\u001b[0m\u001b[0;34m\u001b[0m\u001b[0;34m\u001b[0m\u001b[0m\n\u001b[0m\u001b[1;32m      6\u001b[0m \u001b[0mscatter\u001b[0m\u001b[0;34m(\u001b[0m\u001b[0mpageSpeeds\u001b[0m\u001b[0;34m,\u001b[0m\u001b[0mpurchaseAmount\u001b[0m\u001b[0;34m)\u001b[0m\u001b[0;34m\u001b[0m\u001b[0;34m\u001b[0m\u001b[0m\n",
            "\u001b[0;31mAttributeError\u001b[0m: 'builtin_function_or_method' object has no attribute 'normal'"
          ]
        }
      ]
    },
    {
      "cell_type": "code",
      "source": [],
      "metadata": {
        "id": "4VWkZbQ1978s"
      },
      "execution_count": null,
      "outputs": []
    },
    {
      "cell_type": "code",
      "source": [],
      "metadata": {
        "id": "hAkZMhvK976s"
      },
      "execution_count": null,
      "outputs": []
    },
    {
      "cell_type": "code",
      "source": [],
      "metadata": {
        "id": "9GjZSxUI974l"
      },
      "execution_count": null,
      "outputs": []
    },
    {
      "cell_type": "code",
      "source": [
        "import matplotlib.pyplot as plt\n",
        "\n",
        "xp = np.linspace(0,7)"
      ],
      "metadata": {
        "id": "PaR6fSSWqx5t"
      },
      "execution_count": null,
      "outputs": []
    },
    {
      "cell_type": "code",
      "source": [],
      "metadata": {
        "id": "BPcXEj4qqx3U"
      },
      "execution_count": null,
      "outputs": []
    },
    {
      "cell_type": "code",
      "source": [],
      "metadata": {
        "id": "H1A9Nde1qx1U"
      },
      "execution_count": null,
      "outputs": []
    },
    {
      "cell_type": "code",
      "source": [],
      "metadata": {
        "id": "K3k5DhZZqxy_"
      },
      "execution_count": null,
      "outputs": []
    },
    {
      "cell_type": "code",
      "source": [],
      "metadata": {
        "id": "UPLOr_6pqxw1"
      },
      "execution_count": null,
      "outputs": []
    },
    {
      "cell_type": "code",
      "source": [],
      "metadata": {
        "id": "6B-OeidUqxud"
      },
      "execution_count": null,
      "outputs": []
    },
    {
      "cell_type": "code",
      "execution_count": null,
      "metadata": {
        "id": "oDUjOq9rqwze"
      },
      "outputs": [],
      "source": []
    }
  ]
}