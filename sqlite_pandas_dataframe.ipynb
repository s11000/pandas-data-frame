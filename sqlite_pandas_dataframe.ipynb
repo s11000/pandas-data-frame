{
  "nbformat": 4,
  "nbformat_minor": 0,
  "metadata": {
    "colab": {
      "name": "sqlite_pandas_dataframe.ipynb",
      "provenance": [],
      "collapsed_sections": [],
      "authorship_tag": "ABX9TyNpgC4i62Zvkh8cWBAaWueL",
      "include_colab_link": true
    },
    "kernelspec": {
      "name": "python3",
      "display_name": "Python 3"
    },
    "language_info": {
      "name": "python"
    }
  },
  "cells": [
    {
      "cell_type": "markdown",
      "metadata": {
        "id": "view-in-github",
        "colab_type": "text"
      },
      "source": [
        "<a href=\"https://colab.research.google.com/github/s11000/pandas-data-frame/blob/main/sqlite_pandas_dataframe.ipynb\" target=\"_parent\"><img src=\"https://colab.research.google.com/assets/colab-badge.svg\" alt=\"Open In Colab\"/></a>"
      ]
    },
    {
      "cell_type": "markdown",
      "source": [
        "# T094000175 ( 曾龍 ) 2022-04-01 14:12\n",
        " 0 \n",
        "0401_(期中平時成績)作業繳交區\n",
        "\n",
        "期中平時報告: 資料科學與numpy實務報告\n",
        "\n",
        "資料科學(Data Science): == > \n",
        "有何用處? \n",
        "金融業? \n",
        "資訊安全? \n",
        "電子商務?\n",
        "資料科學(Data Science) \n",
        "常用套件 == > 你如何向老闆說明這些套件\n",
        "Google Colab 開發環境\n",
        "\n",
        "numpy  == > 有何用處? \n",
        "有何重要性? \n",
        "numpy資料型態 \n",
        "ndarray及其屬性\n",
        "ndarray的建立\n",
        "ndarray的運算\n",
        "ndarray特殊的機制: broadcasting\n",
        "ndarray超級技能: Universal Function \n",
        "\n"
      ],
      "metadata": {
        "id": "pTjxusudb2mD"
      }
    },
    {
      "cell_type": "markdown",
      "source": [
        ""
      ],
      "metadata": {
        "id": "5wcYlYJRf-kb"
      }
    },
    {
      "cell_type": "code",
      "execution_count": 1,
      "metadata": {
        "id": "C2joxhjBb1sg"
      },
      "outputs": [],
      "source": [
        "import sqlite3"
      ]
    },
    {
      "cell_type": "code",
      "source": [
        " pip install pandas"
      ],
      "metadata": {
        "colab": {
          "base_uri": "https://localhost:8080/"
        },
        "id": "VvDgCTnbjEDf",
        "outputId": "e9e029fa-889d-48cf-f742-78fbdff1a615"
      },
      "execution_count": 2,
      "outputs": [
        {
          "output_type": "stream",
          "name": "stdout",
          "text": [
            "Requirement already satisfied: pandas in /usr/local/lib/python3.7/dist-packages (1.3.5)\n",
            "Requirement already satisfied: pytz>=2017.3 in /usr/local/lib/python3.7/dist-packages (from pandas) (2022.1)\n",
            "Requirement already satisfied: python-dateutil>=2.7.3 in /usr/local/lib/python3.7/dist-packages (from pandas) (2.8.2)\n",
            "Requirement already satisfied: numpy>=1.17.3 in /usr/local/lib/python3.7/dist-packages (from pandas) (1.21.6)\n",
            "Requirement already satisfied: six>=1.5 in /usr/local/lib/python3.7/dist-packages (from python-dateutil>=2.7.3->pandas) (1.15.0)\n"
          ]
        }
      ]
    },
    {
      "cell_type": "code",
      "source": [
        "import pandas as pd\n",
        "import sqlite3"
      ],
      "metadata": {
        "id": "bLosIes8jEGX"
      },
      "execution_count": 3,
      "outputs": []
    },
    {
      "cell_type": "code",
      "source": [
        "import pandas as pd\n",
        " \n",
        "!wget=https://raw.githubusercontent.com/johnashu/datacamp/master/sp500.csv"
      ],
      "metadata": {
        "id": "ECIdqr4ljEI5"
      },
      "execution_count": 33,
      "outputs": []
    },
    {
      "cell_type": "code",
      "source": [
        "!wget=https://github.com/johnashu/datacamp/blob/master/sp500.csv\n"
      ],
      "metadata": {
        "id": "z6O8vjvZjELD"
      },
      "execution_count": 34,
      "outputs": []
    },
    {
      "cell_type": "code",
      "source": [
        "# the URL to read\n",
        "url = \"https://www.fdic.gov/resources/resolutions/bank-failures/failed-bank-list/\"\n",
        "# read it\n",
        "banks = pd.read_html(url)\n",
        "# examine a subset of the first table read\n",
        "banks[0][0:5].iloc[:,0:10]"
      ],
      "metadata": {
        "colab": {
          "base_uri": "https://localhost:8080/",
          "height": 331
        },
        "id": "85oiS_64jy3-",
        "outputId": "ab6fff92-20bf-4788-9a24-81df129e8f00"
      },
      "execution_count": 19,
      "outputs": [
        {
          "output_type": "execute_result",
          "data": {
            "text/plain": [
              "                      Bank NameBank           CityCity StateSt  CertCert  \\\n",
              "0                 Almena State Bank             Almena      KS     15426   \n",
              "1        First City Bank of Florida  Fort Walton Beach      FL     16748   \n",
              "2              The First State Bank      Barboursville      WV     14361   \n",
              "3                Ericson State Bank            Ericson      NE     18265   \n",
              "4  City National Bank of New Jersey             Newark      NJ     21111   \n",
              "\n",
              "      Acquiring InstitutionAI Closing DateClosing  FundFund  \n",
              "0                 Equity Bank    October 23, 2020     10538  \n",
              "1   United Fidelity Bank, fsb    October 16, 2020     10537  \n",
              "2              MVB Bank, Inc.       April 3, 2020     10536  \n",
              "3  Farmers and Merchants Bank   February 14, 2020     10535  \n",
              "4             Industrial Bank    November 1, 2019     10534  "
            ],
            "text/html": [
              "\n",
              "  <div id=\"df-b5460b99-9334-41bf-b000-15e0a70f1fb3\">\n",
              "    <div class=\"colab-df-container\">\n",
              "      <div>\n",
              "<style scoped>\n",
              "    .dataframe tbody tr th:only-of-type {\n",
              "        vertical-align: middle;\n",
              "    }\n",
              "\n",
              "    .dataframe tbody tr th {\n",
              "        vertical-align: top;\n",
              "    }\n",
              "\n",
              "    .dataframe thead th {\n",
              "        text-align: right;\n",
              "    }\n",
              "</style>\n",
              "<table border=\"1\" class=\"dataframe\">\n",
              "  <thead>\n",
              "    <tr style=\"text-align: right;\">\n",
              "      <th></th>\n",
              "      <th>Bank NameBank</th>\n",
              "      <th>CityCity</th>\n",
              "      <th>StateSt</th>\n",
              "      <th>CertCert</th>\n",
              "      <th>Acquiring InstitutionAI</th>\n",
              "      <th>Closing DateClosing</th>\n",
              "      <th>FundFund</th>\n",
              "    </tr>\n",
              "  </thead>\n",
              "  <tbody>\n",
              "    <tr>\n",
              "      <th>0</th>\n",
              "      <td>Almena State Bank</td>\n",
              "      <td>Almena</td>\n",
              "      <td>KS</td>\n",
              "      <td>15426</td>\n",
              "      <td>Equity Bank</td>\n",
              "      <td>October 23, 2020</td>\n",
              "      <td>10538</td>\n",
              "    </tr>\n",
              "    <tr>\n",
              "      <th>1</th>\n",
              "      <td>First City Bank of Florida</td>\n",
              "      <td>Fort Walton Beach</td>\n",
              "      <td>FL</td>\n",
              "      <td>16748</td>\n",
              "      <td>United Fidelity Bank, fsb</td>\n",
              "      <td>October 16, 2020</td>\n",
              "      <td>10537</td>\n",
              "    </tr>\n",
              "    <tr>\n",
              "      <th>2</th>\n",
              "      <td>The First State Bank</td>\n",
              "      <td>Barboursville</td>\n",
              "      <td>WV</td>\n",
              "      <td>14361</td>\n",
              "      <td>MVB Bank, Inc.</td>\n",
              "      <td>April 3, 2020</td>\n",
              "      <td>10536</td>\n",
              "    </tr>\n",
              "    <tr>\n",
              "      <th>3</th>\n",
              "      <td>Ericson State Bank</td>\n",
              "      <td>Ericson</td>\n",
              "      <td>NE</td>\n",
              "      <td>18265</td>\n",
              "      <td>Farmers and Merchants Bank</td>\n",
              "      <td>February 14, 2020</td>\n",
              "      <td>10535</td>\n",
              "    </tr>\n",
              "    <tr>\n",
              "      <th>4</th>\n",
              "      <td>City National Bank of New Jersey</td>\n",
              "      <td>Newark</td>\n",
              "      <td>NJ</td>\n",
              "      <td>21111</td>\n",
              "      <td>Industrial Bank</td>\n",
              "      <td>November 1, 2019</td>\n",
              "      <td>10534</td>\n",
              "    </tr>\n",
              "  </tbody>\n",
              "</table>\n",
              "</div>\n",
              "      <button class=\"colab-df-convert\" onclick=\"convertToInteractive('df-b5460b99-9334-41bf-b000-15e0a70f1fb3')\"\n",
              "              title=\"Convert this dataframe to an interactive table.\"\n",
              "              style=\"display:none;\">\n",
              "        \n",
              "  <svg xmlns=\"http://www.w3.org/2000/svg\" height=\"24px\"viewBox=\"0 0 24 24\"\n",
              "       width=\"24px\">\n",
              "    <path d=\"M0 0h24v24H0V0z\" fill=\"none\"/>\n",
              "    <path d=\"M18.56 5.44l.94 2.06.94-2.06 2.06-.94-2.06-.94-.94-2.06-.94 2.06-2.06.94zm-11 1L8.5 8.5l.94-2.06 2.06-.94-2.06-.94L8.5 2.5l-.94 2.06-2.06.94zm10 10l.94 2.06.94-2.06 2.06-.94-2.06-.94-.94-2.06-.94 2.06-2.06.94z\"/><path d=\"M17.41 7.96l-1.37-1.37c-.4-.4-.92-.59-1.43-.59-.52 0-1.04.2-1.43.59L10.3 9.45l-7.72 7.72c-.78.78-.78 2.05 0 2.83L4 21.41c.39.39.9.59 1.41.59.51 0 1.02-.2 1.41-.59l7.78-7.78 2.81-2.81c.8-.78.8-2.07 0-2.86zM5.41 20L4 18.59l7.72-7.72 1.47 1.35L5.41 20z\"/>\n",
              "  </svg>\n",
              "      </button>\n",
              "      \n",
              "  <style>\n",
              "    .colab-df-container {\n",
              "      display:flex;\n",
              "      flex-wrap:wrap;\n",
              "      gap: 12px;\n",
              "    }\n",
              "\n",
              "    .colab-df-convert {\n",
              "      background-color: #E8F0FE;\n",
              "      border: none;\n",
              "      border-radius: 50%;\n",
              "      cursor: pointer;\n",
              "      display: none;\n",
              "      fill: #1967D2;\n",
              "      height: 32px;\n",
              "      padding: 0 0 0 0;\n",
              "      width: 32px;\n",
              "    }\n",
              "\n",
              "    .colab-df-convert:hover {\n",
              "      background-color: #E2EBFA;\n",
              "      box-shadow: 0px 1px 2px rgba(60, 64, 67, 0.3), 0px 1px 3px 1px rgba(60, 64, 67, 0.15);\n",
              "      fill: #174EA6;\n",
              "    }\n",
              "\n",
              "    [theme=dark] .colab-df-convert {\n",
              "      background-color: #3B4455;\n",
              "      fill: #D2E3FC;\n",
              "    }\n",
              "\n",
              "    [theme=dark] .colab-df-convert:hover {\n",
              "      background-color: #434B5C;\n",
              "      box-shadow: 0px 1px 3px 1px rgba(0, 0, 0, 0.15);\n",
              "      filter: drop-shadow(0px 1px 2px rgba(0, 0, 0, 0.3));\n",
              "      fill: #FFFFFF;\n",
              "    }\n",
              "  </style>\n",
              "\n",
              "      <script>\n",
              "        const buttonEl =\n",
              "          document.querySelector('#df-b5460b99-9334-41bf-b000-15e0a70f1fb3 button.colab-df-convert');\n",
              "        buttonEl.style.display =\n",
              "          google.colab.kernel.accessAllowed ? 'block' : 'none';\n",
              "\n",
              "        async function convertToInteractive(key) {\n",
              "          const element = document.querySelector('#df-b5460b99-9334-41bf-b000-15e0a70f1fb3');\n",
              "          const dataTable =\n",
              "            await google.colab.kernel.invokeFunction('convertToInteractive',\n",
              "                                                     [key], {});\n",
              "          if (!dataTable) return;\n",
              "\n",
              "          const docLinkHtml = 'Like what you see? Visit the ' +\n",
              "            '<a target=\"_blank\" href=https://colab.research.google.com/notebooks/data_table.ipynb>data table notebook</a>'\n",
              "            + ' to learn more about interactive tables.';\n",
              "          element.innerHTML = '';\n",
              "          dataTable['output_type'] = 'display_data';\n",
              "          await google.colab.output.renderOutput(dataTable, element);\n",
              "          const docLink = document.createElement('div');\n",
              "          docLink.innerHTML = docLinkHtml;\n",
              "          element.appendChild(docLink);\n",
              "        }\n",
              "      </script>\n",
              "    </div>\n",
              "  </div>\n",
              "  "
            ]
          },
          "metadata": {},
          "execution_count": 19
        }
      ]
    },
    {
      "cell_type": "code",
      "source": [
        "import pandas as pd\n",
        "import sqlite3\n",
        " \n",
        " \n",
        "df = pd.read_csv('/content/500.csv')  #讀取CSV資料集檔案\n",
        "print(df)"
      ],
      "metadata": {
        "colab": {
          "base_uri": "https://localhost:8080/"
        },
        "id": "_7zyot_Qjy6J",
        "outputId": "0372ae21-c25a-4391-eb55-820f9d7081e7"
      },
      "execution_count": 35,
      "outputs": [
        {
          "output_type": "stream",
          "name": "stdout",
          "text": [
            "             Date,Open,High,Low,Close,Volume,Adj Close\n",
            "0    2015-01-02,2058.899902,2072.360107,2046.040039...\n",
            "1    2015-01-05,2054.439941,2054.439941,2017.339966...\n",
            "2    2015-01-06,2022.1500239999998,2030.25,1992.439...\n",
            "3    2015-01-07,2005.550049,2029.609985,2005.550049...\n",
            "4    2015-01-08,2030.609985,2064.080078,2030.609985...\n",
            "..                                                 ...\n",
            "247  2015-12-24,2063.52002,2067.360107,2058.72998,2...\n",
            "248  2015-12-28,2057.77002,2057.77002,2044.199951,2...\n",
            "249  2015-12-29,2060.540039,2081.560059,2060.540039...\n",
            "250  2015-12-30,2077.340088,2077.340088,2061.969971...\n",
            "251  2015-12-31,2060.590088,2062.540039,2043.619995...\n",
            "\n",
            "[252 rows x 1 columns]\n"
          ]
        }
      ]
    },
    {
      "cell_type": "code",
      "source": [
        "import pandas as pd\n",
        "import sqlite3\n",
        " \n",
        " \n",
        "df = pd.read_csv('500.csv')  #讀取CSV資料集檔案\n",
        " \n",
        "conn = sqlite3.connect('sp500.db')  #建立資料庫\n",
        "cursor = conn.cursor()\n",
        "cursor.execute('CREATE TABLE SP500(Data, Open, High, Low, Close,Volume)')  #建立資料表\n",
        "conn.commit()"
      ],
      "metadata": {
        "id": "4DcZ4KDftp3z"
      },
      "execution_count": 41,
      "outputs": []
    },
    {
      "cell_type": "code",
      "source": [
        "import pandas as pd\n",
        "import sqlite3\n",
        " \n",
        " \n",
        "df = pd.read_csv('Billionaire.csv')  #讀取CSV資料集檔案\n",
        " \n",
        "conn = sqlite3.connect('billionaire.db')  #建立資料庫\n",
        "cursor = conn.cursor()\n",
        "cursor.execute('CREATE TABLE Billionaire(Name, NetWorth, Country, Source, Rank)')  #建立資料表\n",
        "conn.commit()"
      ],
      "metadata": {
        "id": "CUFukKG5tp6V"
      },
      "execution_count": null,
      "outputs": []
    },
    {
      "cell_type": "code",
      "source": [
        "import sqlite3"
      ],
      "metadata": {
        "id": "vUVMoy8Ntp9d"
      },
      "execution_count": 51,
      "outputs": []
    },
    {
      "cell_type": "code",
      "source": [
        "pip install pandas"
      ],
      "metadata": {
        "colab": {
          "base_uri": "https://localhost:8080/"
        },
        "id": "tOkj015y4EHG",
        "outputId": "00325927-51d1-4791-e638-0f4314e15199"
      },
      "execution_count": 52,
      "outputs": [
        {
          "output_type": "stream",
          "name": "stdout",
          "text": [
            "Requirement already satisfied: pandas in /usr/local/lib/python3.7/dist-packages (1.3.5)\n",
            "Requirement already satisfied: numpy>=1.17.3 in /usr/local/lib/python3.7/dist-packages (from pandas) (1.21.6)\n",
            "Requirement already satisfied: pytz>=2017.3 in /usr/local/lib/python3.7/dist-packages (from pandas) (2022.1)\n",
            "Requirement already satisfied: python-dateutil>=2.7.3 in /usr/local/lib/python3.7/dist-packages (from pandas) (2.8.2)\n",
            "Requirement already satisfied: six>=1.5 in /usr/local/lib/python3.7/dist-packages (from python-dateutil>=2.7.3->pandas) (1.15.0)\n"
          ]
        }
      ]
    },
    {
      "cell_type": "code",
      "source": [
        "import pandas as pd\n",
        "import sqlite3"
      ],
      "metadata": {
        "id": "hz1ZhRkZ4EJf"
      },
      "execution_count": 53,
      "outputs": []
    },
    {
      "cell_type": "code",
      "source": [
        "import pandas as pd\n",
        "import sqlite3\n",
        " \n",
        " \n",
        "df = pd.read_csv('Billionaire.csv')  #讀取CSV資料集檔案\n",
        "print(df)"
      ],
      "metadata": {
        "colab": {
          "base_uri": "https://localhost:8080/"
        },
        "id": "KBkK8rFS4EMQ",
        "outputId": "8f2a8c32-71fd-4ea2-8e94-81928d59dd09"
      },
      "execution_count": 54,
      "outputs": [
        {
          "output_type": "stream",
          "name": "stdout",
          "text": [
            "                          Name NetWorth        Country         Source  Rank  \\\n",
            "0                   Jeff Bezos   $177 B  United States         Amazon     1   \n",
            "1                    Elon Musk   $151 B  United States  Tesla, SpaceX     2   \n",
            "2     Bernard Arnault & family   $150 B         France           LVMH     3   \n",
            "3                   Bill Gates   $124 B  United States      Microsoft     4   \n",
            "4              Mark Zuckerberg    $97 B  United States       Facebook     5   \n",
            "...                        ...      ...            ...            ...   ...   \n",
            "2750         Daniel Yong Zhang     $1 B          China     e-commerce  2674   \n",
            "2751             Zhang Yuqiang     $1 B          China     Fiberglass  2674   \n",
            "2752             Zhao Meiguang     $1 B          China    gold mining  2674   \n",
            "2753            Zhong Naixiong     $1 B          China   conglomerate  2674   \n",
            "2754           Zhou Wei family     $1 B          China       Software  2674   \n",
            "\n",
            "       Age          Industry  \n",
            "0     57.0        Technology  \n",
            "1     49.0        Automotive  \n",
            "2     72.0  Fashion & Retail  \n",
            "3     65.0        Technology  \n",
            "4     36.0        Technology  \n",
            "...    ...               ...  \n",
            "2750  49.0        Technology  \n",
            "2751  65.0     Manufacturing  \n",
            "2752  58.0   Metals & Mining  \n",
            "2753  58.0       Diversified  \n",
            "2754  54.0        Technology  \n",
            "\n",
            "[2755 rows x 7 columns]\n"
          ]
        }
      ]
    },
    {
      "cell_type": "code",
      "source": [
        "import pandas as pd\n",
        "import sqlite3\n",
        " \n",
        " \n",
        "df = pd.read_csv('Billionaire.csv')  #讀取CSV資料集檔案\n",
        " \n",
        "conn = sqlite3.connect('billionaire.db')  #建立資料庫\n",
        "cursor = conn.cursor()\n",
        "cursor.execute('CREATE TABLE Billionaire(Name, NetWorth, Country, Source, Rank, Age, Industry)')  #建立資料表\n",
        "conn.commit()"
      ],
      "metadata": {
        "id": "TL-u1Nok4VvZ"
      },
      "execution_count": 103,
      "outputs": []
    },
    {
      "cell_type": "code",
      "source": [
        "import pandas as pd\n",
        "import sqlite3\n",
        " \n",
        " \n",
        "df = pd.read_csv('Billionaire.csv')  #讀取CSV資料集檔案\n",
        " \n",
        "conn = sqlite3.connect('billionaire.db')  #建立資料庫\n",
        "cursor = conn.cursor()\n",
        "cursor.execute('CREATE TABLE Billionaire(Name, NetWorth, Country, Source, Rank, Age, Industry)')  #建立資料表\n",
        "conn.commit()\n",
        " \n",
        "#如果資料表存在，就寫入資料，否則建立資料表\n",
        "df.to_sql('Billionaire', conn, if_exists='append', index=False)"
      ],
      "metadata": {
        "id": "U9fzw1ce4VtL"
      },
      "execution_count": 105,
      "outputs": []
    }
  ]
}