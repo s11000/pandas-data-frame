{
  "nbformat": 4,
  "nbformat_minor": 0,
  "metadata": {
    "colab": {
      "name": "三月二十五筆記1.ipynb",
      "provenance": [],
      "authorship_tag": "ABX9TyM6JoVcR/67qYnLU2rv/AIp",
      "include_colab_link": true
    },
    "kernelspec": {
      "name": "python3",
      "display_name": "Python 3"
    },
    "language_info": {
      "name": "python"
    }
  },
  "cells": [
    {
      "cell_type": "markdown",
      "metadata": {
        "id": "view-in-github",
        "colab_type": "text"
      },
      "source": [
        "<a href=\"https://colab.research.google.com/github/s11000/pandas-data-frame/blob/main/%E4%B8%89%E6%9C%88%E4%BA%8C%E5%8D%81%E4%BA%94%E7%AD%86%E8%A8%981.ipynb\" target=\"_parent\"><img src=\"https://colab.research.google.com/assets/colab-badge.svg\" alt=\"Open In Colab\"/></a>"
      ]
    },
    {
      "cell_type": "markdown",
      "source": [
        "# 3_4_pandas_20220325.md"
      ],
      "metadata": {
        "id": "BZONIo0hrl0P"
      }
    },
    {
      "cell_type": "code",
      "execution_count": 1,
      "metadata": {
        "id": "zXUWFaqOrRt3"
      },
      "outputs": [],
      "source": [
        "import pandas as pd\n",
        "import numpy as np"
      ]
    },
    {
      "cell_type": "code",
      "source": [
        "import pandas as pd\n",
        "df = pd.DataFrame({'X':[78,85,96,80,86], 'Y':[84,94,89,83,86],'Z':[86,97,96,72,83]});\n",
        "print(df)"
      ],
      "metadata": {
        "colab": {
          "base_uri": "https://localhost:8080/"
        },
        "id": "enukhzLVsD5U",
        "outputId": "dd81bf1a-0271-4af4-8c96-c9c548c1f2b4"
      },
      "execution_count": 2,
      "outputs": [
        {
          "output_type": "stream",
          "name": "stdout",
          "text": [
            "    X   Y   Z\n",
            "0  78  84  86\n",
            "1  85  94  97\n",
            "2  96  89  96\n",
            "3  80  83  72\n",
            "4  86  86  83\n"
          ]
        }
      ]
    },
    {
      "cell_type": "code",
      "source": [
        "import pandas as pd\n",
        "df = pd.DataFrame({'X':[78,85,96,80,86], 'Y':[84,94,89,83,86],'Z':[86,97,96,72,83]});\n",
        "print(df)"
      ],
      "metadata": {
        "colab": {
          "base_uri": "https://localhost:8080/"
        },
        "id": "LuhoGxrosKgI",
        "outputId": "008c72b1-2542-4c47-eb7b-6ad58a5e162f"
      },
      "execution_count": 3,
      "outputs": [
        {
          "output_type": "stream",
          "name": "stdout",
          "text": [
            "    X   Y   Z\n",
            "0  78  84  86\n",
            "1  85  94  97\n",
            "2  96  89  96\n",
            "3  80  83  72\n",
            "4  86  86  83\n"
          ]
        }
      ]
    },
    {
      "cell_type": "code",
      "source": [
        " import pandas as pd\n",
        "import numpy as np\n",
        "\n",
        "exam_data  = {'name': ['Anastasia', 'Dima', 'Katherine', 'James', 'Emily', 'Michael', 'Matthew', 'Laura', 'Kevin', 'Jonas'],\n",
        "        'score': [12.5, 9, 16.5, np.nan, 9, 20, 14.5, np.nan, 8, 19],\n",
        "        'attempts': [1, 3, 2, 3, 2, 3, 1, 1, 2, 1],\n",
        "        'qualify': ['yes', 'no', 'yes', 'no', 'no', 'yes', 'yes', 'no', 'no', 'yes']}\n",
        "labels = ['a', 'b', 'c', 'd', 'e', 'f', 'g', 'h', 'i', 'j']\n",
        "\n",
        "df = pd.DataFrame(exam_data , index=labels)\n",
        "print(\"Summary of the basic information about this DataFrame and its data:\")\n",
        "print(df.info())"
      ],
      "metadata": {
        "colab": {
          "base_uri": "https://localhost:8080/"
        },
        "id": "vvtP-kY7sPzq",
        "outputId": "5ab51790-2b8a-488e-da0e-a53927252031"
      },
      "execution_count": 5,
      "outputs": [
        {
          "output_type": "stream",
          "name": "stdout",
          "text": [
            "Summary of the basic information about this DataFrame and its data:\n",
            "<class 'pandas.core.frame.DataFrame'>\n",
            "Index: 10 entries, a to j\n",
            "Data columns (total 4 columns):\n",
            " #   Column    Non-Null Count  Dtype  \n",
            "---  ------    --------------  -----  \n",
            " 0   name      10 non-null     object \n",
            " 1   score     8 non-null      float64\n",
            " 2   attempts  10 non-null     int64  \n",
            " 3   qualify   10 non-null     object \n",
            "dtypes: float64(1), int64(1), object(2)\n",
            "memory usage: 400.0+ bytes\n",
            "None\n"
          ]
        }
      ]
    },
    {
      "cell_type": "code",
      "source": [
        "import pandas as pd\n",
        "import numpy as np\n",
        "\n",
        "exam_data  = {'name': ['Anastasia', 'Dima', 'Katherine', 'James', 'Emily', 'Michael', 'Matthew', 'Laura', 'Kevin', 'Jonas'],\n",
        "        'score': [12.5, 9, 16.5, np.nan, 9, 20, 14.5, np.nan, 8, 19],\n",
        "        'attempts': [1, 3, 2, 3, 2, 3, 1, 1, 2, 1],\n",
        "        'qualify': ['yes', 'no', 'yes', 'no', 'no', 'yes', 'yes', 'no', 'no', 'yes']}\n",
        "labels = ['a', 'b', 'c', 'd', 'e', 'f', 'g', 'h', 'i', 'j']\n",
        "\n",
        "df = pd.DataFrame(exam_data , index=labels)\n",
        "print(\"First three rows of the data frame:\")\n",
        "print(df.iloc[:3])"
      ],
      "metadata": {
        "colab": {
          "base_uri": "https://localhost:8080/"
        },
        "id": "a5xRScbrsP2L",
        "outputId": "37784c91-38a9-4016-8437-d1103b118925"
      },
      "execution_count": 6,
      "outputs": [
        {
          "output_type": "stream",
          "name": "stdout",
          "text": [
            "First three rows of the data frame:\n",
            "        name  score  attempts qualify\n",
            "a  Anastasia   12.5         1     yes\n",
            "b       Dima    9.0         3      no\n",
            "c  Katherine   16.5         2     yes\n"
          ]
        }
      ]
    },
    {
      "cell_type": "code",
      "source": [
        "import pandas as pd\n",
        "import numpy as np\n",
        "\n",
        "exam_data  = {'name': ['Anastasia', 'Dima', 'Katherine', 'James', 'Emily', 'Michael', 'Matthew', 'Laura', 'Kevin', 'Jonas'],\n",
        "        'score': [12.5, 9, 16.5, np.nan, 9, 20, 14.5, np.nan, 8, 19],\n",
        "        'attempts': [1, 3, 2, 3, 2, 3, 1, 1, 2, 1],\n",
        "        'qualify': ['yes', 'no', 'yes', 'no', 'no', 'yes', 'yes', 'no', 'no', 'yes']}\n",
        "labels = ['a', 'b', 'c', 'd', 'e', 'f', 'g', 'h', 'i', 'j']\n",
        "\n",
        "df = pd.DataFrame(exam_data , index=labels)\n",
        "print(\"Select specific columns:\")\n",
        "print(df[['name', 'score']])"
      ],
      "metadata": {
        "colab": {
          "base_uri": "https://localhost:8080/"
        },
        "id": "GJZbS1e4sP9t",
        "outputId": "39e5fddd-890d-430b-8fdf-963a83fe2c09"
      },
      "execution_count": 7,
      "outputs": [
        {
          "output_type": "stream",
          "name": "stdout",
          "text": [
            "Select specific columns:\n",
            "        name  score\n",
            "a  Anastasia   12.5\n",
            "b       Dima    9.0\n",
            "c  Katherine   16.5\n",
            "d      James    NaN\n",
            "e      Emily    9.0\n",
            "f    Michael   20.0\n",
            "g    Matthew   14.5\n",
            "h      Laura    NaN\n",
            "i      Kevin    8.0\n",
            "j      Jonas   19.0\n"
          ]
        }
      ]
    },
    {
      "cell_type": "code",
      "source": [
        "import pandas as pd\n",
        "import numpy as np\n",
        "\n",
        "exam_data  = {'name': ['Anastasia', 'Dima', 'Katherine', 'James', 'Emily', 'Michael', 'Matthew', 'Laura', 'Kevin', 'Jonas'],\n",
        "        'score': [12.5, 9, 16.5, np.nan, 9, 20, 14.5, np.nan, 8, 19],\n",
        "        'attempts': [1, 3, 2, 3, 2, 3, 1, 1, 2, 1],\n",
        "        'qualify': ['yes', 'no', 'yes', 'no', 'no', 'yes', 'yes', 'no', 'no', 'yes']}\n",
        "labels = ['a', 'b', 'c', 'd', 'e', 'f', 'g', 'h', 'i', 'j']\n",
        "\n",
        "df = pd.DataFrame(exam_data , index=labels)\n",
        "print(\"Select specific columns:\")\n",
        "print(df[['name', 'score']])"
      ],
      "metadata": {
        "colab": {
          "base_uri": "https://localhost:8080/"
        },
        "id": "sAIhb2SLsQCS",
        "outputId": "88b232ed-3dc7-4fca-efc9-82287b4e4b28"
      },
      "execution_count": 8,
      "outputs": [
        {
          "output_type": "stream",
          "name": "stdout",
          "text": [
            "Select specific columns:\n",
            "        name  score\n",
            "a  Anastasia   12.5\n",
            "b       Dima    9.0\n",
            "c  Katherine   16.5\n",
            "d      James    NaN\n",
            "e      Emily    9.0\n",
            "f    Michael   20.0\n",
            "g    Matthew   14.5\n",
            "h      Laura    NaN\n",
            "i      Kevin    8.0\n",
            "j      Jonas   19.0\n"
          ]
        }
      ]
    },
    {
      "cell_type": "code",
      "source": [
        ""
      ],
      "metadata": {
        "id": "iC8VfWiBsQFk"
      },
      "execution_count": null,
      "outputs": []
    },
    {
      "cell_type": "code",
      "source": [
        "import pandas as pd\n",
        "import numpy as np\n",
        "\n",
        "exam_data  = {'name': ['Anastasia', 'Dima', 'Katherine', 'James', 'Emily', 'Michael', 'Matthew', 'Laura', 'Kevin', 'Jonas'],\n",
        "        'score': [12.5, 9, 16.5, np.nan, 9, 20, 14.5, np.nan, 8, 19],\n",
        "        'attempts' : [1, 3, 2, 3, 2, 3, 1, 1, 2, 1],\n",
        "        'qualify': ['yes', 'no', 'yes', 'no', 'no', 'yes', 'yes', 'no', 'no', 'yes']}\n",
        "labels = ['a', 'b', 'c', 'd', 'e', 'f', 'g', 'h', 'i', 'j']\n",
        "\n",
        "df = pd.DataFrame(exam_data , index=labels)\n",
        "print(\"Number of attempts in the examination is greater than 2:\")\n",
        "print(df[df['attempts'] > 2])"
      ],
      "metadata": {
        "colab": {
          "base_uri": "https://localhost:8080/"
        },
        "id": "mFOOb4EMsQHj",
        "outputId": "521f1b97-2c60-49bd-8884-20c5c4da9d7a"
      },
      "execution_count": 9,
      "outputs": [
        {
          "output_type": "stream",
          "name": "stdout",
          "text": [
            "Number of attempts in the examination is greater than 2:\n",
            "      name  score  attempts qualify\n",
            "b     Dima    9.0         3      no\n",
            "d    James    NaN         3      no\n",
            "f  Michael   20.0         3     yes\n"
          ]
        }
      ]
    },
    {
      "cell_type": "code",
      "source": [
        "import pandas as pd\n",
        "import numpy as np\n",
        "exam_data  = {'name': ['Anastasia', 'Dima', 'Katherine', 'James', 'Emily', 'Michael', 'Matthew', 'Laura', 'Kevin', 'Jonas'],\n",
        "        'score': [12.5, 9, 16.5, np.nan, 9, 20, 14.5, np.nan, 8, 19],\n",
        "        'attempts': [1, 3, 2, 3, 2, 3, 1, 1, 2, 1],\n",
        "        'qualify': ['yes', 'no', 'yes', 'no', 'no', 'yes', 'yes', 'no', 'no', 'yes']}\n",
        "labels = ['a', 'b', 'c', 'd', 'e', 'f', 'g', 'h', 'i', 'j']\n",
        "\n",
        "df = pd.DataFrame(exam_data , index=labels)\n",
        "print(\"Rows where score is missing:\")\n",
        "print(df[df['score'].isnull()])"
      ],
      "metadata": {
        "colab": {
          "base_uri": "https://localhost:8080/"
        },
        "id": "Njy2QSiEs7jR",
        "outputId": "318c7996-d9cf-4000-9814-6ecc7ac5307e"
      },
      "execution_count": 10,
      "outputs": [
        {
          "output_type": "stream",
          "name": "stdout",
          "text": [
            "Rows where score is missing:\n",
            "    name  score  attempts qualify\n",
            "d  James    NaN         3      no\n",
            "h  Laura    NaN         1      no\n"
          ]
        }
      ]
    },
    {
      "cell_type": "code",
      "source": [
        "import pandas as pd\n",
        "import numpy as np\n",
        "exam_data  = {'name': ['Anastasia', 'Dima', 'Katherine', 'James', 'Emily', 'Michael', 'Matthew', 'Laura', 'Kevin', 'Jonas'],\n",
        "        'score': [12.5, 9, 16.5, np.nan, 9, 20, 14.5, np.nan, 8, 19],\n",
        "        'attempts': [1, 3, 2, 3, 2, 3, 1, 1, 2, 1],\n",
        "        'qualify': ['yes', 'no', 'yes', 'no', 'no', 'yes', 'yes', 'no', 'no', 'yes']}\n",
        "labels = ['a', 'b', 'c', 'd', 'e', 'f', 'g', 'h', 'i', 'j']\n",
        "\n",
        "df = pd.DataFrame(exam_data , index=labels)\n",
        "print(\"Rows where score between 15 and 20 (inclusive):\")\n",
        "print(df[df['score'].between(15, 20)])"
      ],
      "metadata": {
        "colab": {
          "base_uri": "https://localhost:8080/"
        },
        "id": "ZteULgJUs7nj",
        "outputId": "a5a63387-b709-4543-b26b-51d2b84fa6d9"
      },
      "execution_count": 11,
      "outputs": [
        {
          "output_type": "stream",
          "name": "stdout",
          "text": [
            "Rows where score between 15 and 20 (inclusive):\n",
            "        name  score  attempts qualify\n",
            "c  Katherine   16.5         2     yes\n",
            "f    Michael   20.0         3     yes\n",
            "j      Jonas   19.0         1     yes\n"
          ]
        }
      ]
    },
    {
      "cell_type": "code",
      "source": [
        "import pandas as pd\n",
        "import numpy as np\n",
        "exam_data  = {'name': ['Anastasia', 'Dima', 'Katherine', 'James', 'Emily', 'Michael', 'Matthew', 'Laura', 'Kevin', 'Jonas'],\n",
        "        'score': [12.5, 9, 16.5, np.nan, 9, 20, 14.5, np.nan, 8, 19],\n",
        "        'attempts': [1, 3, 2, 3, 2, 3, 1, 1, 2, 1],\n",
        "        'qualify': ['yes', 'no', 'yes', 'no', 'no', 'yes', 'yes', 'no', 'no', 'yes']}\n",
        "labels = ['a', 'b', 'c', 'd', 'e', 'f', 'g', 'h', 'i', 'j']\n",
        "df = pd.DataFrame(exam_data , index=labels)\n",
        "print(\"Number of attempts in the examination is less than 2 and score greater than 15 :\")\n",
        "print(df[(df['attempts'] < 2) & (df['score'] > 15)])"
      ],
      "metadata": {
        "colab": {
          "base_uri": "https://localhost:8080/"
        },
        "id": "28DU25rks7qv",
        "outputId": "c9d4d6af-23e8-43c9-ea31-3b8f14169992"
      },
      "execution_count": 12,
      "outputs": [
        {
          "output_type": "stream",
          "name": "stdout",
          "text": [
            "Number of attempts in the examination is less than 2 and score greater than 15 :\n",
            "    name  score  attempts qualify\n",
            "j  Jonas   19.0         1     yes\n"
          ]
        }
      ]
    },
    {
      "cell_type": "code",
      "source": [
        "import pandas as pd\n",
        "import numpy as np\n",
        "exam_data  = {'name': ['Anastasia', 'Dima', 'Katherine', 'James', 'Emily', 'Michael', 'Matthew', 'Laura', 'Kevin', 'Jonas'],\n",
        "        'score': [12.5, 9, 16.5, np.nan, 9, 20, 14.5, np.nan, 8, 19],\n",
        "        'attempts': [1, 3, 2, 3, 2, 3, 1, 1, 2, 1],\n",
        "        'qualify': ['yes', 'no', 'yes', 'no', 'no', 'yes', 'yes', 'no', 'no', 'yes']}\n",
        "labels = ['a', 'b', 'c', 'd', 'e', 'f', 'g', 'h', 'i', 'j']\n",
        "df = pd.DataFrame(exam_data , index=labels)\n",
        "print(\"Number of attempts in the examination is less than 2 and score greater than 15 :\")\n",
        "print(df[(df['attempts'] < 2) & (df['score'] > 15)])"
      ],
      "metadata": {
        "colab": {
          "base_uri": "https://localhost:8080/"
        },
        "id": "HgfcEv3Bs7zA",
        "outputId": "dd8053c8-be07-419c-fc7b-2006d6ff6887"
      },
      "execution_count": 13,
      "outputs": [
        {
          "output_type": "stream",
          "name": "stdout",
          "text": [
            "Number of attempts in the examination is less than 2 and score greater than 15 :\n",
            "    name  score  attempts qualify\n",
            "j  Jonas   19.0         1     yes\n"
          ]
        }
      ]
    },
    {
      "cell_type": "code",
      "source": [
        "import pandas as pd\n",
        "import numpy as np\n",
        "exam_data  = {'name': ['Anastasia', 'Dima', 'Katherine', 'James', 'Emily', 'Michael', 'Matthew', 'Laura', 'Kevin', 'Jonas'],\n",
        "        'score': [12.5, 9, 16.5, np.nan, 9, 20, 14.5, np.nan, 8, 19],\n",
        "        'attempts': [1, 3, 2, 3, 2, 3, 1, 1, 2, 1],\n",
        "        'qualify': ['yes', 'no', 'yes', 'no', 'no', 'yes', 'yes', 'no', 'no', 'yes']}\n",
        "labels = ['a', 'b', 'c', 'd', 'e', 'f', 'g', 'h', 'i', 'j']\n",
        "\n",
        "df = pd.DataFrame(exam_data , index=labels)\n",
        "print(\"\\nSum of the examination attempts by the students:\")\n",
        "print(df['attempts'].sum())"
      ],
      "metadata": {
        "colab": {
          "base_uri": "https://localhost:8080/"
        },
        "id": "jiORqiaXs72M",
        "outputId": "998c318d-e35c-4fc1-b27f-1e345bc91533"
      },
      "execution_count": 14,
      "outputs": [
        {
          "output_type": "stream",
          "name": "stdout",
          "text": [
            "\n",
            "Sum of the examination attempts by the students:\n",
            "19\n"
          ]
        }
      ]
    },
    {
      "cell_type": "code",
      "source": [
        "import pandas as pd\n",
        "import numpy as np\n",
        "exam_data  = {'name': ['Anastasia', 'Dima', 'Katherine', 'James', 'Emily', 'Michael', 'Matthew', 'Laura', 'Kevin', 'Jonas'],\n",
        "        'score': [12.5, 9, 16.5, np.nan, 9, 20, 14.5, np.nan, 8, 19],\n",
        "        'attempts': [1, 3, 2, 3, 2, 3, 1, 1, 2, 1],\n",
        "        'qualify': ['yes', 'no', 'yes', 'no', 'no', 'yes', 'yes', 'no', 'no', 'yes']}\n",
        "labels = ['a', 'b', 'c', 'd', 'e', 'f', 'g', 'h', 'i', 'j']\n",
        "\n",
        "df = pd.DataFrame(exam_data , index=labels)\n",
        "print(\"\\nMean score for each different student in data frame:\")\n",
        "print(df['score'].mean())"
      ],
      "metadata": {
        "colab": {
          "base_uri": "https://localhost:8080/"
        },
        "id": "IFagt-OBs74s",
        "outputId": "d45eb0c7-95c9-4567-d08f-d98f2b38a732"
      },
      "execution_count": 15,
      "outputs": [
        {
          "output_type": "stream",
          "name": "stdout",
          "text": [
            "\n",
            "Mean score for each different student in data frame:\n",
            "13.5625\n"
          ]
        }
      ]
    },
    {
      "cell_type": "code",
      "source": [
        "import pandas as pd\n",
        "import numpy as np\n",
        "exam_data  = {'name': ['Anastasia', 'Dima', 'Katherine', 'James', 'Emily', 'Michael', 'Matthew', 'Laura', 'Kevin', 'Jonas'],\n",
        "        'score': [12.5, 9, 16.5, np.nan, 9, 20, 14.5, np.nan, 8, 19],\n",
        "        'attempts': [1, 3, 2, 3, 2, 3, 1, 1, 2, 1],\n",
        "        'qualify': ['yes', 'no', 'yes', 'no', 'no', 'yes', 'yes', 'no', 'no', 'yes']}\n",
        "labels = ['a', 'b', 'c', 'd', 'e', 'f', 'g', 'h', 'i', 'j']\n",
        "df = pd.DataFrame(exam_data , index=labels)\n",
        "print(\"Original rows:\")\n",
        "print(df)\n",
        "print(\"\\nAppend a new row:\")\n",
        "df.loc['k'] = [1, 'Suresh', 'yes', 15.5]\n",
        "print(\"Print all records after insert a new record:\")\n",
        "print(df)\n",
        "print(\"\\nDelete the new row and display the original  rows:\")\n",
        "df = df.drop('k')\n",
        "print(df)"
      ],
      "metadata": {
        "colab": {
          "base_uri": "https://localhost:8080/"
        },
        "id": "EsGGjkVCsQKI",
        "outputId": "281842b6-cf8b-47fd-b44c-142a6db5c7ff"
      },
      "execution_count": 16,
      "outputs": [
        {
          "output_type": "stream",
          "name": "stdout",
          "text": [
            "Original rows:\n",
            "        name  score  attempts qualify\n",
            "a  Anastasia   12.5         1     yes\n",
            "b       Dima    9.0         3      no\n",
            "c  Katherine   16.5         2     yes\n",
            "d      James    NaN         3      no\n",
            "e      Emily    9.0         2      no\n",
            "f    Michael   20.0         3     yes\n",
            "g    Matthew   14.5         1     yes\n",
            "h      Laura    NaN         1      no\n",
            "i      Kevin    8.0         2      no\n",
            "j      Jonas   19.0         1     yes\n",
            "\n",
            "Append a new row:\n",
            "Print all records after insert a new record:\n",
            "        name   score attempts qualify\n",
            "a  Anastasia    12.5        1     yes\n",
            "b       Dima     9.0        3      no\n",
            "c  Katherine    16.5        2     yes\n",
            "d      James     NaN        3      no\n",
            "e      Emily     9.0        2      no\n",
            "f    Michael    20.0        3     yes\n",
            "g    Matthew    14.5        1     yes\n",
            "h      Laura     NaN        1      no\n",
            "i      Kevin     8.0        2      no\n",
            "j      Jonas    19.0        1     yes\n",
            "k          1  Suresh      yes    15.5\n",
            "\n",
            "Delete the new row and display the original  rows:\n",
            "        name score attempts qualify\n",
            "a  Anastasia  12.5        1     yes\n",
            "b       Dima   9.0        3      no\n",
            "c  Katherine  16.5        2     yes\n",
            "d      James   NaN        3      no\n",
            "e      Emily   9.0        2      no\n",
            "f    Michael  20.0        3     yes\n",
            "g    Matthew  14.5        1     yes\n",
            "h      Laura   NaN        1      no\n",
            "i      Kevin   8.0        2      no\n",
            "j      Jonas  19.0        1     yes\n"
          ]
        }
      ]
    },
    {
      "cell_type": "code",
      "source": [
        "import pandas as pd\n",
        "import numpy as np\n",
        "exam_data  = {'name': ['Anastasia', 'Dima', 'Katherine', 'James', 'Emily', 'Michael', 'Matthew', 'Laura', 'Kevin', 'Jonas'],\n",
        "        'score': [12.5, 9, 16.5, np.nan, 9, 20, 14.5, np.nan, 8, 19],\n",
        "        'attempts': [1, 3, 2, 3, 2, 3, 1, 1, 2, 1],\n",
        "        'qualify': ['yes', 'no', 'yes', 'no', 'no', 'yes', 'yes', 'no', 'no', 'yes']}\n",
        "labels = ['a', 'b', 'c', 'd', 'e', 'f', 'g', 'h', 'i', 'j']\n",
        "df = pd.DataFrame(exam_data , index=labels)\n",
        "print(\"Orginal rows:\")\n",
        "print(df)\n",
        "df.sort_values(by=['name', 'score'], ascending=[False, True])\n",
        "print(\"Sort the data frame first by ‘name’ in descending order, then by ‘score’ in ascending order:\")\n",
        "print(df)"
      ],
      "metadata": {
        "colab": {
          "base_uri": "https://localhost:8080/"
        },
        "id": "2uuJ1l5utneK",
        "outputId": "1928abb8-fda0-4fa5-dac5-cf63e2d828d4"
      },
      "execution_count": 17,
      "outputs": [
        {
          "output_type": "stream",
          "name": "stdout",
          "text": [
            "Orginal rows:\n",
            "        name  score  attempts qualify\n",
            "a  Anastasia   12.5         1     yes\n",
            "b       Dima    9.0         3      no\n",
            "c  Katherine   16.5         2     yes\n",
            "d      James    NaN         3      no\n",
            "e      Emily    9.0         2      no\n",
            "f    Michael   20.0         3     yes\n",
            "g    Matthew   14.5         1     yes\n",
            "h      Laura    NaN         1      no\n",
            "i      Kevin    8.0         2      no\n",
            "j      Jonas   19.0         1     yes\n",
            "Sort the data frame first by ‘name’ in descending order, then by ‘score’ in ascending order:\n",
            "        name  score  attempts qualify\n",
            "a  Anastasia   12.5         1     yes\n",
            "b       Dima    9.0         3      no\n",
            "c  Katherine   16.5         2     yes\n",
            "d      James    NaN         3      no\n",
            "e      Emily    9.0         2      no\n",
            "f    Michael   20.0         3     yes\n",
            "g    Matthew   14.5         1     yes\n",
            "h      Laura    NaN         1      no\n",
            "i      Kevin    8.0         2      no\n",
            "j      Jonas   19.0         1     yes\n"
          ]
        }
      ]
    },
    {
      "cell_type": "code",
      "source": [
        "import pandas as pd\n",
        "import numpy as np\n",
        "exam_data  = {'name': ['Anastasia', 'Dima', 'Katherine', 'James', 'Emily', 'Michael', 'Matthew', 'Laura', 'Kevin', 'Jonas'],\n",
        "        'score': [12.5, 9, 16.5, np.nan, 9, 20, 14.5, np.nan, 8, 19],\n",
        "        'attempts': [1, 3, 2, 3, 2, 3, 1, 1, 2, 1],\n",
        "        'qualify': ['yes', 'no', 'yes', 'no', 'no', 'yes', 'yes', 'no', 'no', 'yes']}\n",
        "labels = ['a', 'b', 'c', 'd', 'e', 'f', 'g', 'h', 'i', 'j']\n",
        "df = pd.DataFrame(exam_data , index=labels)\n",
        "print(\"Original rows:\")\n",
        "print(df)\n",
        "print(\"\\nReplace the 'qualify' column contains the values 'yes' and 'no'  with True and  False:\")\n",
        "df['qualify'] = df['qualify'].map({'yes': True, 'no': False})\n",
        "print(df)"
      ],
      "metadata": {
        "colab": {
          "base_uri": "https://localhost:8080/"
        },
        "id": "TcHTz-wbtnhE",
        "outputId": "20684067-8ccd-49e8-e0f0-68acf2d336d9"
      },
      "execution_count": 18,
      "outputs": [
        {
          "output_type": "stream",
          "name": "stdout",
          "text": [
            "Original rows:\n",
            "        name  score  attempts qualify\n",
            "a  Anastasia   12.5         1     yes\n",
            "b       Dima    9.0         3      no\n",
            "c  Katherine   16.5         2     yes\n",
            "d      James    NaN         3      no\n",
            "e      Emily    9.0         2      no\n",
            "f    Michael   20.0         3     yes\n",
            "g    Matthew   14.5         1     yes\n",
            "h      Laura    NaN         1      no\n",
            "i      Kevin    8.0         2      no\n",
            "j      Jonas   19.0         1     yes\n",
            "\n",
            "Replace the 'qualify' column contains the values 'yes' and 'no'  with True and  False:\n",
            "        name  score  attempts  qualify\n",
            "a  Anastasia   12.5         1     True\n",
            "b       Dima    9.0         3    False\n",
            "c  Katherine   16.5         2     True\n",
            "d      James    NaN         3    False\n",
            "e      Emily    9.0         2    False\n",
            "f    Michael   20.0         3     True\n",
            "g    Matthew   14.5         1     True\n",
            "h      Laura    NaN         1    False\n",
            "i      Kevin    8.0         2    False\n",
            "j      Jonas   19.0         1     True\n"
          ]
        }
      ]
    },
    {
      "cell_type": "code",
      "source": [
        "import pandas as pd\n",
        "import numpy as np\n",
        "exam_data  = {'name': ['Anastasia', 'Dima', 'Katherine', 'James', 'Emily', 'Michael', 'Matthew', 'Laura', 'Kevin', 'Jonas'],\n",
        "        'score': [12.5, 9, 16.5, np.nan, 9, 20, 14.5, np.nan, 8, 19],\n",
        "        'attempts': [1, 3, 2, 3, 2, 3, 1, 1, 2, 1],\n",
        "        'qualify': ['yes', 'no', 'yes', 'no', 'no', 'yes', 'yes', 'no', 'no', 'yes']}\n",
        "labels = ['a', 'b', 'c', 'd', 'e', 'f', 'g', 'h', 'i', 'j']\n",
        "df = pd.DataFrame(exam_data , index=labels)\n",
        "print(\"Original rows:\")\n",
        "print(df)\n",
        "print(\"\\nChange the name 'James' to ‘Suresh’:\")\n",
        "df['name'] = df['name'].replace('James', 'Suresh')\n",
        "print(df)"
      ],
      "metadata": {
        "colab": {
          "base_uri": "https://localhost:8080/"
        },
        "id": "thPKw49otnjk",
        "outputId": "ee2a39a5-152e-491a-8d27-d65b8c6c02ba"
      },
      "execution_count": 19,
      "outputs": [
        {
          "output_type": "stream",
          "name": "stdout",
          "text": [
            "Original rows:\n",
            "        name  score  attempts qualify\n",
            "a  Anastasia   12.5         1     yes\n",
            "b       Dima    9.0         3      no\n",
            "c  Katherine   16.5         2     yes\n",
            "d      James    NaN         3      no\n",
            "e      Emily    9.0         2      no\n",
            "f    Michael   20.0         3     yes\n",
            "g    Matthew   14.5         1     yes\n",
            "h      Laura    NaN         1      no\n",
            "i      Kevin    8.0         2      no\n",
            "j      Jonas   19.0         1     yes\n",
            "\n",
            "Change the name 'James' to ‘Suresh’:\n",
            "        name  score  attempts qualify\n",
            "a  Anastasia   12.5         1     yes\n",
            "b       Dima    9.0         3      no\n",
            "c  Katherine   16.5         2     yes\n",
            "d     Suresh    NaN         3      no\n",
            "e      Emily    9.0         2      no\n",
            "f    Michael   20.0         3     yes\n",
            "g    Matthew   14.5         1     yes\n",
            "h      Laura    NaN         1      no\n",
            "i      Kevin    8.0         2      no\n",
            "j      Jonas   19.0         1     yes\n"
          ]
        }
      ]
    },
    {
      "cell_type": "code",
      "source": [
        "import pandas as pd\n",
        "import numpy as np\n",
        "exam_data  = {'name': ['Anastasia', 'Dima', 'Katherine', 'James', 'Emily', 'Michael', 'Matthew', 'Laura', 'Kevin', 'Jonas'],\n",
        "        'score': [12.5, 9, 16.5, np.nan, 9, 20, 14.5, np.nan, 8, 19],\n",
        "        'attempts': [1, 3, 2, 3, 2, 3, 1, 1, 2, 1],\n",
        "        'qualify': ['yes', 'no', 'yes', 'no', 'no', 'yes', 'yes', 'no', 'no', 'yes']}\n",
        "labels = ['a', 'b', 'c', 'd', 'e', 'f', 'g', 'h', 'i', 'j']\n",
        "df = pd.DataFrame(exam_data , index=labels)\n",
        "print(\"Original rows:\")\n",
        "print(df)\n",
        "print(\"\\nChange the name 'James' to ‘Suresh’:\")\n",
        "df['name'] = df['name'].replace('James', 'Suresh')\n",
        "print(df)"
      ],
      "metadata": {
        "colab": {
          "base_uri": "https://localhost:8080/"
        },
        "id": "B2XRnJhjtnlt",
        "outputId": "b8138421-9949-4dbb-955a-a00c820980ca"
      },
      "execution_count": 20,
      "outputs": [
        {
          "output_type": "stream",
          "name": "stdout",
          "text": [
            "Original rows:\n",
            "        name  score  attempts qualify\n",
            "a  Anastasia   12.5         1     yes\n",
            "b       Dima    9.0         3      no\n",
            "c  Katherine   16.5         2     yes\n",
            "d      James    NaN         3      no\n",
            "e      Emily    9.0         2      no\n",
            "f    Michael   20.0         3     yes\n",
            "g    Matthew   14.5         1     yes\n",
            "h      Laura    NaN         1      no\n",
            "i      Kevin    8.0         2      no\n",
            "j      Jonas   19.0         1     yes\n",
            "\n",
            "Change the name 'James' to ‘Suresh’:\n",
            "        name  score  attempts qualify\n",
            "a  Anastasia   12.5         1     yes\n",
            "b       Dima    9.0         3      no\n",
            "c  Katherine   16.5         2     yes\n",
            "d     Suresh    NaN         3      no\n",
            "e      Emily    9.0         2      no\n",
            "f    Michael   20.0         3     yes\n",
            "g    Matthew   14.5         1     yes\n",
            "h      Laura    NaN         1      no\n",
            "i      Kevin    8.0         2      no\n",
            "j      Jonas   19.0         1     yes\n"
          ]
        }
      ]
    },
    {
      "cell_type": "code",
      "source": [
        "import pandas as pd\n",
        "import numpy as np\n",
        "exam_data  = {'name': ['Anastasia', 'Dima', 'Katherine', 'James', 'Emily', 'Michael', 'Matthew', 'Laura', 'Kevin', 'Jonas'],\n",
        "        'score': [12.5, 9, 16.5, np.nan, 9, 20, 14.5, np.nan, 8, 19],\n",
        "        'attempts': [1, 3, 2, 3, 2, 3, 1, 1, 2, 1],\n",
        "        'qualify': ['yes', 'no', 'yes', 'no', 'no', 'yes', 'yes', 'no', 'no', 'yes']}\n",
        "labels = ['a', 'b', 'c', 'd', 'e', 'f', 'g', 'h', 'i', 'j']\n",
        "df = pd.DataFrame(exam_data , index=labels)\n",
        "print(\"Original rows:\")\n",
        "print(df)\n",
        "print(\"\\nChange the name 'James' to ‘Suresh’:\")\n",
        "df['name'] = df['name'].replace('James', 'Suresh')\n",
        "print(df)"
      ],
      "metadata": {
        "colab": {
          "base_uri": "https://localhost:8080/"
        },
        "id": "j3vHP1vYtnoC",
        "outputId": "b2be9d8d-069d-4e45-d502-a799249e0168"
      },
      "execution_count": 21,
      "outputs": [
        {
          "output_type": "stream",
          "name": "stdout",
          "text": [
            "Original rows:\n",
            "        name  score  attempts qualify\n",
            "a  Anastasia   12.5         1     yes\n",
            "b       Dima    9.0         3      no\n",
            "c  Katherine   16.5         2     yes\n",
            "d      James    NaN         3      no\n",
            "e      Emily    9.0         2      no\n",
            "f    Michael   20.0         3     yes\n",
            "g    Matthew   14.5         1     yes\n",
            "h      Laura    NaN         1      no\n",
            "i      Kevin    8.0         2      no\n",
            "j      Jonas   19.0         1     yes\n",
            "\n",
            "Change the name 'James' to ‘Suresh’:\n",
            "        name  score  attempts qualify\n",
            "a  Anastasia   12.5         1     yes\n",
            "b       Dima    9.0         3      no\n",
            "c  Katherine   16.5         2     yes\n",
            "d     Suresh    NaN         3      no\n",
            "e      Emily    9.0         2      no\n",
            "f    Michael   20.0         3     yes\n",
            "g    Matthew   14.5         1     yes\n",
            "h      Laura    NaN         1      no\n",
            "i      Kevin    8.0         2      no\n",
            "j      Jonas   19.0         1     yes\n"
          ]
        }
      ]
    },
    {
      "cell_type": "code",
      "source": [
        "import pandas as pd\n",
        "import numpy as np\n",
        "exam_data  = {'name': ['Anastasia', 'Dima', 'Katherine', 'James', 'Emily', 'Michael', 'Matthew', 'Laura', 'Kevin', 'Jonas'],\n",
        "        'score': [12.5, 9, 16.5, np.nan, 9, 20, 14.5, np.nan, 8, 19],\n",
        "        'attempts': [1, 3, 2, 3, 2, 3, 1, 1, 2, 1],\n",
        "        'qualify': ['yes', 'no', 'yes', 'no', 'no', 'yes', 'yes', 'no', 'no', 'yes']}\n",
        "labels = ['a', 'b', 'c', 'd', 'e', 'f', 'g', 'h', 'i', 'j']\n",
        "df = pd.DataFrame(exam_data , index=labels)\n",
        "print(\"Original rows:\")\n",
        "print(df)\n",
        "print(\"\\nChange the name 'James' to ‘Suresh’:\")\n",
        "df['name'] = df['name'].replace('James', 'Suresh')\n",
        "print(df)"
      ],
      "metadata": {
        "colab": {
          "base_uri": "https://localhost:8080/"
        },
        "id": "Imht_K8htnqS",
        "outputId": "2d477288-a692-4c5c-b06d-001ff335302a"
      },
      "execution_count": 22,
      "outputs": [
        {
          "output_type": "stream",
          "name": "stdout",
          "text": [
            "Original rows:\n",
            "        name  score  attempts qualify\n",
            "a  Anastasia   12.5         1     yes\n",
            "b       Dima    9.0         3      no\n",
            "c  Katherine   16.5         2     yes\n",
            "d      James    NaN         3      no\n",
            "e      Emily    9.0         2      no\n",
            "f    Michael   20.0         3     yes\n",
            "g    Matthew   14.5         1     yes\n",
            "h      Laura    NaN         1      no\n",
            "i      Kevin    8.0         2      no\n",
            "j      Jonas   19.0         1     yes\n",
            "\n",
            "Change the name 'James' to ‘Suresh’:\n",
            "        name  score  attempts qualify\n",
            "a  Anastasia   12.5         1     yes\n",
            "b       Dima    9.0         3      no\n",
            "c  Katherine   16.5         2     yes\n",
            "d     Suresh    NaN         3      no\n",
            "e      Emily    9.0         2      no\n",
            "f    Michael   20.0         3     yes\n",
            "g    Matthew   14.5         1     yes\n",
            "h      Laura    NaN         1      no\n",
            "i      Kevin    8.0         2      no\n",
            "j      Jonas   19.0         1     yes\n"
          ]
        }
      ]
    },
    {
      "cell_type": "code",
      "source": [
        "import pandas as pd\n",
        "import numpy as np\n",
        "exam_data  = {'name': ['Anastasia', 'Dima', 'Katherine', 'James', 'Emily', 'Michael', 'Matthew', 'Laura', 'Kevin', 'Jonas'],\n",
        "        'score': [12.5, 9, 16.5, np.nan, 9, 20, 14.5, np.nan, 8, 19],\n",
        "        'attempts': [1, 3, 2, 3, 2, 3, 1, 1, 2, 1],\n",
        "        'qualify': ['yes', 'no', 'yes', 'no', 'no', 'yes', 'yes', 'no', 'no', 'yes']}\n",
        "labels = ['a', 'b', 'c', 'd', 'e', 'f', 'g', 'h', 'i', 'j']\n",
        "df = pd.DataFrame(exam_data , index=labels)\n",
        "print(\"Original rows:\")\n",
        "print(df)\n",
        "print(\"\\nChange the name 'James' to ‘Suresh’:\")\n",
        "df['name'] = df['name'].replace('James', 'Suresh')\n",
        "print(df)"
      ],
      "metadata": {
        "colab": {
          "base_uri": "https://localhost:8080/"
        },
        "id": "p0ttOZWPtnsf",
        "outputId": "7d45e895-5481-42ce-f58a-dfc02ff567ea"
      },
      "execution_count": 23,
      "outputs": [
        {
          "output_type": "stream",
          "name": "stdout",
          "text": [
            "Original rows:\n",
            "        name  score  attempts qualify\n",
            "a  Anastasia   12.5         1     yes\n",
            "b       Dima    9.0         3      no\n",
            "c  Katherine   16.5         2     yes\n",
            "d      James    NaN         3      no\n",
            "e      Emily    9.0         2      no\n",
            "f    Michael   20.0         3     yes\n",
            "g    Matthew   14.5         1     yes\n",
            "h      Laura    NaN         1      no\n",
            "i      Kevin    8.0         2      no\n",
            "j      Jonas   19.0         1     yes\n",
            "\n",
            "Change the name 'James' to ‘Suresh’:\n",
            "        name  score  attempts qualify\n",
            "a  Anastasia   12.5         1     yes\n",
            "b       Dima    9.0         3      no\n",
            "c  Katherine   16.5         2     yes\n",
            "d     Suresh    NaN         3      no\n",
            "e      Emily    9.0         2      no\n",
            "f    Michael   20.0         3     yes\n",
            "g    Matthew   14.5         1     yes\n",
            "h      Laura    NaN         1      no\n",
            "i      Kevin    8.0         2      no\n",
            "j      Jonas   19.0         1     yes\n"
          ]
        }
      ]
    },
    {
      "cell_type": "code",
      "source": [
        "import pandas as pd\n",
        "import numpy as np\n",
        "exam_data = [{'name':'Anastasia', 'score':12.5}, {'name':'Dima','score':9}, {'name':'Katherine','score':16.5}]\n",
        "df = pd.DataFrame(exam_data)\n",
        "for index, row in df.iterrows():\n",
        "    print(row['name'], row['score'])"
      ],
      "metadata": {
        "colab": {
          "base_uri": "https://localhost:8080/"
        },
        "id": "ZmZoA9Ystnuy",
        "outputId": "420ab285-500c-4b91-8297-1d2457890df9"
      },
      "execution_count": 24,
      "outputs": [
        {
          "output_type": "stream",
          "name": "stdout",
          "text": [
            "Anastasia 12.5\n",
            "Dima 9.0\n",
            "Katherine 16.5\n"
          ]
        }
      ]
    },
    {
      "cell_type": "code",
      "source": [
        "import pandas as pd\n",
        "import numpy as np\n",
        "exam_data = [{'name':'Anastasia', 'score':12.5}, {'name':'Dima','score':9}, {'name':'Katherine','score':16.5}]\n",
        "df = pd.DataFrame(exam_data)\n",
        "for index, row in df.iterrows():\n",
        "    print(row['name'], row['score'])"
      ],
      "metadata": {
        "colab": {
          "base_uri": "https://localhost:8080/"
        },
        "id": "JnstydSjtnw1",
        "outputId": "2eb8ec63-4e77-4fb8-c414-709f8cc919b5"
      },
      "execution_count": 25,
      "outputs": [
        {
          "output_type": "stream",
          "name": "stdout",
          "text": [
            "Anastasia 12.5\n",
            "Dima 9.0\n",
            "Katherine 16.5\n"
          ]
        }
      ]
    },
    {
      "cell_type": "code",
      "source": [
        " import pandas as pd\n",
        "import numpy as np\n",
        "exam_data  = {'name': ['Anastasia', 'Dima', 'Katherine', 'James', 'Emily', 'Michael', 'Matthew', 'Laura', 'Kevin', 'Jonas'],\n",
        "        'score': [12.5, 9, 16.5, np.nan, 9, 20, 14.5, np.nan, 8, 19],\n",
        "        'attempts': [1, 3, 2, 3, 2, 3, 1, 1, 2, 1],\n",
        "        'qualify': ['yes', 'no', 'yes', 'no', 'no', 'yes', 'yes', 'no', 'no', 'yes']}\n",
        "labels = ['a', 'b', 'c', 'd', 'e', 'f', 'g', 'h', 'i', 'j']\n",
        "df = pd.DataFrame(exam_data , index=labels)\n",
        "print(list(df.columns.values))"
      ],
      "metadata": {
        "colab": {
          "base_uri": "https://localhost:8080/"
        },
        "id": "ZVJOCt0IuWFS",
        "outputId": "37c36888-9da2-4909-e0c9-f3a9bd65e9a8"
      },
      "execution_count": 27,
      "outputs": [
        {
          "output_type": "stream",
          "name": "stdout",
          "text": [
            "['name', 'score', 'attempts', 'qualify']\n"
          ]
        }
      ]
    },
    {
      "cell_type": "code",
      "source": [
        "import pandas as pd\n",
        "import numpy as np\n",
        "exam_data  = {'name': ['Anastasia', 'Dima', 'Katherine', 'James', 'Emily', 'Michael', 'Matthew', 'Laura', 'Kevin', 'Jonas'],\n",
        "        'score': [12.5, 9, 16.5, np.nan, 9, 20, 14.5, np.nan, 8, 19],\n",
        "        'attempts': [1, 3, 2, 3, 2, 3, 1, 1, 2, 1],\n",
        "        'qualify': ['yes', 'no', 'yes', 'no', 'no', 'yes', 'yes', 'no', 'no', 'yes']}\n",
        "labels = ['a', 'b', 'c', 'd', 'e', 'f', 'g', 'h', 'i', 'j']\n",
        "df = pd.DataFrame(exam_data , index=labels)\n",
        "print(list(df.columns.values))"
      ],
      "metadata": {
        "colab": {
          "base_uri": "https://localhost:8080/"
        },
        "id": "o3BiYmkzuWH5",
        "outputId": "8f2c2aac-bf80-4a94-f842-333c29e7a752"
      },
      "execution_count": 28,
      "outputs": [
        {
          "output_type": "stream",
          "name": "stdout",
          "text": [
            "['name', 'score', 'attempts', 'qualify']\n"
          ]
        }
      ]
    },
    {
      "cell_type": "code",
      "source": [
        " import pandas as pd\n",
        "import numpy as np\n",
        "d = {'col1': [1, 4, 3, 4, 5], 'col2': [4, 5, 6, 7, 8], 'col3': [7, 8, 9, 0, 1]}\n",
        "df = pd.DataFrame(data=d)\n",
        "print(\"Original DataFrame\")\n",
        "print(df)\n",
        "print('Rows for colum1 value == 4')\n",
        "print(df.loc[df['col1'] == 4])"
      ],
      "metadata": {
        "colab": {
          "base_uri": "https://localhost:8080/"
        },
        "id": "9nSdtBayuWQL",
        "outputId": "31b48a13-bd8d-4514-a47c-b1a099b61000"
      },
      "execution_count": 30,
      "outputs": [
        {
          "output_type": "stream",
          "name": "stdout",
          "text": [
            "Original DataFrame\n",
            "   col1  col2  col3\n",
            "0     1     4     7\n",
            "1     4     5     8\n",
            "2     3     6     9\n",
            "3     4     7     0\n",
            "4     5     8     1\n",
            "Rows for colum1 value == 4\n",
            "   col1  col2  col3\n",
            "1     4     5     8\n",
            "3     4     7     0\n"
          ]
        }
      ]
    },
    {
      "cell_type": "code",
      "source": [
        " import pandas as pd\n",
        "import numpy as np\n",
        "d = {'col1': [1, 4, 3, 4, 5], 'col2': [4, 5, 6, 7, 8], 'col3': [7, 8, 9, 0, 1]}\n",
        "df = pd.DataFrame(data=d)\n",
        "print(\"Original DataFrame\")\n",
        "print(df)\n",
        "print('Rows for colum1 value == 4')\n",
        "print(df.loc[df['col1'] == 4])"
      ],
      "metadata": {
        "colab": {
          "base_uri": "https://localhost:8080/"
        },
        "id": "ozldqg4twFnX",
        "outputId": "f60f3c22-c1c7-4d64-949a-3a83647aec7d"
      },
      "execution_count": 32,
      "outputs": [
        {
          "output_type": "stream",
          "name": "stdout",
          "text": [
            "Original DataFrame\n",
            "   col1  col2  col3\n",
            "0     1     4     7\n",
            "1     4     5     8\n",
            "2     3     6     9\n",
            "3     4     7     0\n",
            "4     5     8     1\n",
            "Rows for colum1 value == 4\n",
            "   col1  col2  col3\n",
            "1     4     5     8\n",
            "3     4     7     0\n"
          ]
        }
      ]
    },
    {
      "cell_type": "code",
      "source": [
        "import pandas as pd\n",
        "import numpy as np\n",
        "d = {'col1': [1, 4, 3, 4, 5], 'col2': [4, 5, 6, 7, 8], 'col3': [7, 8, 9, 0, 1]}\n",
        "df = pd.DataFrame(data=d)\n",
        "print(\"Original DataFrame\")\n",
        "print(df)\n",
        "print('After add one row:')\n",
        "df2 = {'col1': 10, 'col2': 11, 'col3': 12}\n",
        "df = df.append(df2, ignore_index=True)\n",
        "print(df)"
      ],
      "metadata": {
        "colab": {
          "base_uri": "https://localhost:8080/"
        },
        "id": "syP-521PwFp2",
        "outputId": "6a3ccef1-4fe8-41cc-ce65-e50ba6739c0c"
      },
      "execution_count": 33,
      "outputs": [
        {
          "output_type": "stream",
          "name": "stdout",
          "text": [
            "Original DataFrame\n",
            "   col1  col2  col3\n",
            "0     1     4     7\n",
            "1     4     5     8\n",
            "2     3     6     9\n",
            "3     4     7     0\n",
            "4     5     8     1\n",
            "After add one row:\n",
            "   col1  col2  col3\n",
            "0     1     4     7\n",
            "1     4     5     8\n",
            "2     3     6     9\n",
            "3     4     7     0\n",
            "4     5     8     1\n",
            "5    10    11    12\n"
          ]
        }
      ]
    },
    {
      "cell_type": "code",
      "source": [
        "import pandas as pd\n",
        "import numpy as np\n",
        "d = {'col1': [1, 4, 3, 4, 5], 'col2': [4, 5, 6, 7, 8], 'col3': [7, 8, 9, 0, 1]}\n",
        "df = pd.DataFrame(data=d)\n",
        "print(\"Original DataFrame\")\n",
        "print(df)\n",
        "print('Data from new_file.csv file:')\n",
        "df.to_csv('new_file.csv', sep='\\t', index=False)\n",
        "new_df = pd.read_csv('new_file.csv')\n",
        "print(new_df)"
      ],
      "metadata": {
        "colab": {
          "base_uri": "https://localhost:8080/"
        },
        "id": "l9-loDsWwFs3",
        "outputId": "036480f4-9176-4dfd-a983-b1babe69a05e"
      },
      "execution_count": 34,
      "outputs": [
        {
          "output_type": "stream",
          "name": "stdout",
          "text": [
            "Original DataFrame\n",
            "   col1  col2  col3\n",
            "0     1     4     7\n",
            "1     4     5     8\n",
            "2     3     6     9\n",
            "3     4     7     0\n",
            "4     5     8     1\n",
            "Data from new_file.csv file:\n",
            "  col1\\tcol2\\tcol3\n",
            "0          1\\t4\\t7\n",
            "1          4\\t5\\t8\n",
            "2          3\\t6\\t9\n",
            "3          4\\t7\\t0\n",
            "4          5\\t8\\t1\n"
          ]
        }
      ]
    },
    {
      "cell_type": "code",
      "source": [
        "import pandas as pd\n",
        "df1 = pd.DataFrame({'name': ['Anastasia', 'Dima', 'Katherine', 'James', 'Emily', 'Michael', 'Matthew', 'Laura', 'Kevin', 'Jonas'],\n",
        "'city': ['California', 'Los Angeles', 'California', 'California', 'California', 'Los Angeles', 'Los Angeles', 'Georgia', 'Georgia', 'Los Angeles']})\n",
        "g1 = df1.groupby([\"city\"]).size().reset_index(name='Number of people')\n",
        "print(g1)"
      ],
      "metadata": {
        "colab": {
          "base_uri": "https://localhost:8080/"
        },
        "id": "2_jRM0kAwFvD",
        "outputId": "55f18018-466a-4bcf-90e8-3d33136464f0"
      },
      "execution_count": 35,
      "outputs": [
        {
          "output_type": "stream",
          "name": "stdout",
          "text": [
            "          city  Number of people\n",
            "0   California                 4\n",
            "1      Georgia                 2\n",
            "2  Los Angeles                 4\n"
          ]
        }
      ]
    },
    {
      "cell_type": "code",
      "source": [
        "import pandas as pd\n",
        "import numpy as np\n",
        "d = {'col1': [1, 4, 3, 4, 5], 'col2': [4, 5, 6, 7, 8], 'col3': [7, 8, 9, 0, 1]}\n",
        "df = pd.DataFrame(data=d)\n",
        "print(\"Original DataFrame\")\n",
        "print(df)\n",
        "df = df[df.col2 != 5]\n",
        "print(\"New DataFrame\")\n",
        "print(df)"
      ],
      "metadata": {
        "colab": {
          "base_uri": "https://localhost:8080/"
        },
        "id": "au5Ktr84wFxN",
        "outputId": "2055e35c-fcbf-4d3d-9436-a0d181844224"
      },
      "execution_count": 36,
      "outputs": [
        {
          "output_type": "stream",
          "name": "stdout",
          "text": [
            "Original DataFrame\n",
            "   col1  col2  col3\n",
            "0     1     4     7\n",
            "1     4     5     8\n",
            "2     3     6     9\n",
            "3     4     7     0\n",
            "4     5     8     1\n",
            "New DataFrame\n",
            "   col1  col2  col3\n",
            "0     1     4     7\n",
            "2     3     6     9\n",
            "3     4     7     0\n",
            "4     5     8     1\n"
          ]
        }
      ]
    },
    {
      "cell_type": "code",
      "source": [
        "import pandas as pd\n",
        "import numpy as np\n",
        "d = {'col1': [1, 4, 3, 4, 5], 'col2': [4, 5, 6, 7, 8], 'col3': [7, 8, 9, 0, 1]}\n",
        "df = pd.DataFrame(data=d)\n",
        "print(\"Original DataFrame\")\n",
        "print(df)\n",
        "df = df[df.col2 != 5]\n",
        "print(\"New DataFrame\")\n",
        "print(df)"
      ],
      "metadata": {
        "colab": {
          "base_uri": "https://localhost:8080/"
        },
        "id": "oyfEBCGmwF0F",
        "outputId": "a07dd3fe-b487-4ce6-c1ca-5da9fb61cd68"
      },
      "execution_count": 37,
      "outputs": [
        {
          "output_type": "stream",
          "name": "stdout",
          "text": [
            "Original DataFrame\n",
            "   col1  col2  col3\n",
            "0     1     4     7\n",
            "1     4     5     8\n",
            "2     3     6     9\n",
            "3     4     7     0\n",
            "4     5     8     1\n",
            "New DataFrame\n",
            "   col1  col2  col3\n",
            "0     1     4     7\n",
            "2     3     6     9\n",
            "3     4     7     0\n",
            "4     5     8     1\n"
          ]
        }
      ]
    },
    {
      "cell_type": "code",
      "source": [
        "import pandas as pd\n",
        "import numpy as np\n",
        "d = {'col1': [1, 4, 3, 4, 5], 'col2': [4, 5, 6, 7, 8], 'col3': [7, 8, 9, 0, 1]}\n",
        "df = pd.DataFrame(data=d)\n",
        "print(\"Original DataFrame\")\n",
        "print(df)\n",
        "result = df.iloc[[2]]\n",
        "print(\"Index-2: Details\")\n",
        "print(result)"
      ],
      "metadata": {
        "colab": {
          "base_uri": "https://localhost:8080/"
        },
        "id": "Pbe81NUtwF2a",
        "outputId": "aad8a352-f53a-4e3d-8de6-8518b2f54de2"
      },
      "execution_count": 38,
      "outputs": [
        {
          "output_type": "stream",
          "name": "stdout",
          "text": [
            "Original DataFrame\n",
            "   col1  col2  col3\n",
            "0     1     4     7\n",
            "1     4     5     8\n",
            "2     3     6     9\n",
            "3     4     7     0\n",
            "4     5     8     1\n",
            "Index-2: Details\n",
            "   col1  col2  col3\n",
            "2     3     6     9\n"
          ]
        }
      ]
    },
    {
      "cell_type": "code",
      "source": [
        "import pandas as pd\n",
        "import numpy as np\n",
        "exam_data = {'name': ['Anastasia', 'Dima', 'Katherine', 'James', 'Emily', 'Michael', 'Matthew', 'Laura', 'Kevin', 'Jonas'],\n",
        "        'score': [12.5, 9, 16.5, np.nan, 9, 20, 14.5, np.nan, 8, 19],\n",
        "        'attempts': [1, 3, 2, 3, 2, 3, 1, 1, 2, 1],\n",
        "        'qualify': ['yes', 'no', 'yes', 'no', 'no', 'yes', 'yes', 'no', 'no', 'yes']}\n",
        "df = pd.DataFrame(exam_data)\n",
        "print(\"Original DataFrame\")\n",
        "print(df)\n",
        "df =  df.fillna(0)\n",
        "print(\"\\nNew DataFrame replacing all NaN with 0:\")\n",
        "print(df)"
      ],
      "metadata": {
        "colab": {
          "base_uri": "https://localhost:8080/"
        },
        "id": "1JM35fnawF44",
        "outputId": "a417f20f-54a9-49bf-ec3d-f3d8d39d96eb"
      },
      "execution_count": 39,
      "outputs": [
        {
          "output_type": "stream",
          "name": "stdout",
          "text": [
            "Original DataFrame\n",
            "        name  score  attempts qualify\n",
            "0  Anastasia   12.5         1     yes\n",
            "1       Dima    9.0         3      no\n",
            "2  Katherine   16.5         2     yes\n",
            "3      James    NaN         3      no\n",
            "4      Emily    9.0         2      no\n",
            "5    Michael   20.0         3     yes\n",
            "6    Matthew   14.5         1     yes\n",
            "7      Laura    NaN         1      no\n",
            "8      Kevin    8.0         2      no\n",
            "9      Jonas   19.0         1     yes\n",
            "\n",
            "New DataFrame replacing all NaN with 0:\n",
            "        name  score  attempts qualify\n",
            "0  Anastasia   12.5         1     yes\n",
            "1       Dima    9.0         3      no\n",
            "2  Katherine   16.5         2     yes\n",
            "3      James    0.0         3      no\n",
            "4      Emily    9.0         2      no\n",
            "5    Michael   20.0         3     yes\n",
            "6    Matthew   14.5         1     yes\n",
            "7      Laura    0.0         1      no\n",
            "8      Kevin    8.0         2      no\n",
            "9      Jonas   19.0         1     yes\n"
          ]
        }
      ]
    },
    {
      "cell_type": "code",
      "source": [
        "import pandas as pd\n",
        "import numpy as np\n",
        "exam_data = {'name': ['Anastasia', 'Dima', 'Katherine', 'James', 'Emily', 'Michael', 'Matthew', 'Laura', 'Kevin', 'Jonas'],\n",
        "        'score': [12.5, 9, 16.5, np.nan, 9, 20, 14.5, np.nan, 8, 19],\n",
        "        'attempts': [1, 3, 2, 3, 2, 3, 1, 1, 2, 1],\n",
        "        'qualify': ['yes', 'no', 'yes', 'no', 'no', 'yes', 'yes', 'no', 'no', 'yes']}\n",
        "df = pd.DataFrame(exam_data)\n",
        "print(\"Original DataFrame\")\n",
        "print(df)\n",
        "df =  df.fillna(0)\n",
        "print(\"\\nNew DataFrame replacing all NaN with 0:\")\n",
        "print(df)"
      ],
      "metadata": {
        "colab": {
          "base_uri": "https://localhost:8080/"
        },
        "id": "pohg1zASwF7g",
        "outputId": "375641e9-2c30-41f2-b82b-724acfaeb4a1"
      },
      "execution_count": 40,
      "outputs": [
        {
          "output_type": "stream",
          "name": "stdout",
          "text": [
            "Original DataFrame\n",
            "        name  score  attempts qualify\n",
            "0  Anastasia   12.5         1     yes\n",
            "1       Dima    9.0         3      no\n",
            "2  Katherine   16.5         2     yes\n",
            "3      James    NaN         3      no\n",
            "4      Emily    9.0         2      no\n",
            "5    Michael   20.0         3     yes\n",
            "6    Matthew   14.5         1     yes\n",
            "7      Laura    NaN         1      no\n",
            "8      Kevin    8.0         2      no\n",
            "9      Jonas   19.0         1     yes\n",
            "\n",
            "New DataFrame replacing all NaN with 0:\n",
            "        name  score  attempts qualify\n",
            "0  Anastasia   12.5         1     yes\n",
            "1       Dima    9.0         3      no\n",
            "2  Katherine   16.5         2     yes\n",
            "3      James    0.0         3      no\n",
            "4      Emily    9.0         2      no\n",
            "5    Michael   20.0         3     yes\n",
            "6    Matthew   14.5         1     yes\n",
            "7      Laura    0.0         1      no\n",
            "8      Kevin    8.0         2      no\n",
            "9      Jonas   19.0         1     yes\n"
          ]
        }
      ]
    },
    {
      "cell_type": "code",
      "source": [
        " import pandas as pd\n",
        "import numpy as np\n",
        "exam_data = {'name': ['Anastasia', 'Dima', 'Katherine', 'James', 'Emily', 'Michael', 'Matthew', 'Laura', 'Kevin', 'Jonas'],\n",
        "        'score': [12.5, 9, 16.5, np.nan, 9, 20, 14.5, np.nan, 8, 19],\n",
        "        'attempts': [1, 3, 2, 3, 2, 3, 1, 1, 2, 1],\n",
        "        'qualify': ['yes', 'no', 'yes', 'no', 'no', 'yes', 'yes', 'no', 'no', 'yes']}\n",
        "df = pd.DataFrame(exam_data)\n",
        "print(\"Original DataFrame\")\n",
        "print(df)\n",
        "print(\"\\nAfter removing first and second rows\")\n",
        "df = df.drop([0, 1])\n",
        "print(df)\n",
        "print(\"\\nReset the Index:\")\n",
        "df = df.reset_index()\n",
        "print(df)"
      ],
      "metadata": {
        "colab": {
          "base_uri": "https://localhost:8080/"
        },
        "id": "l6ptZZ-9xGdy",
        "outputId": "d65846d8-04dd-4069-ec7b-66a8cab3373c"
      },
      "execution_count": 42,
      "outputs": [
        {
          "output_type": "stream",
          "name": "stdout",
          "text": [
            "Original DataFrame\n",
            "        name  score  attempts qualify\n",
            "0  Anastasia   12.5         1     yes\n",
            "1       Dima    9.0         3      no\n",
            "2  Katherine   16.5         2     yes\n",
            "3      James    NaN         3      no\n",
            "4      Emily    9.0         2      no\n",
            "5    Michael   20.0         3     yes\n",
            "6    Matthew   14.5         1     yes\n",
            "7      Laura    NaN         1      no\n",
            "8      Kevin    8.0         2      no\n",
            "9      Jonas   19.0         1     yes\n",
            "\n",
            "After removing first and second rows\n",
            "        name  score  attempts qualify\n",
            "2  Katherine   16.5         2     yes\n",
            "3      James    NaN         3      no\n",
            "4      Emily    9.0         2      no\n",
            "5    Michael   20.0         3     yes\n",
            "6    Matthew   14.5         1     yes\n",
            "7      Laura    NaN         1      no\n",
            "8      Kevin    8.0         2      no\n",
            "9      Jonas   19.0         1     yes\n",
            "\n",
            "Reset the Index:\n",
            "   index       name  score  attempts qualify\n",
            "0      2  Katherine   16.5         2     yes\n",
            "1      3      James    NaN         3      no\n",
            "2      4      Emily    9.0         2      no\n",
            "3      5    Michael   20.0         3     yes\n",
            "4      6    Matthew   14.5         1     yes\n",
            "5      7      Laura    NaN         1      no\n",
            "6      8      Kevin    8.0         2      no\n",
            "7      9      Jonas   19.0         1     yes\n"
          ]
        }
      ]
    },
    {
      "cell_type": "code",
      "source": [
        " "
      ],
      "metadata": {
        "colab": {
          "base_uri": "https://localhost:8080/"
        },
        "id": "x9UE86nOxGgt",
        "outputId": "be36828b-6d9a-4f7a-aeed-7f4ef09ade12"
      },
      "execution_count": 43,
      "outputs": [
        {
          "output_type": "stream",
          "name": "stdout",
          "text": [
            "Original DataFrame\n",
            "        name  score  attempts qualify\n",
            "0  Anastasia   12.5         1     yes\n",
            "1       Dima    9.0         3      no\n",
            "2  Katherine   16.5         2     yes\n",
            "3      James    NaN         3      no\n",
            "4      Emily    9.0         2      no\n",
            "5    Michael   20.0         3     yes\n",
            "6    Matthew   14.5         1     yes\n",
            "7      Laura    NaN         1      no\n",
            "8      Kevin    8.0         2      no\n",
            "9      Jonas   19.0         1     yes\n",
            "\n",
            "After removing first and second rows\n",
            "        name  score  attempts qualify\n",
            "2  Katherine   16.5         2     yes\n",
            "3      James    NaN         3      no\n",
            "4      Emily    9.0         2      no\n",
            "5    Michael   20.0         3     yes\n",
            "6    Matthew   14.5         1     yes\n",
            "7      Laura    NaN         1      no\n",
            "8      Kevin    8.0         2      no\n",
            "9      Jonas   19.0         1     yes\n",
            "\n",
            "Reset the Index:\n",
            "   index       name  score  attempts qualify\n",
            "0      2  Katherine   16.5         2     yes\n",
            "1      3      James    NaN         3      no\n",
            "2      4      Emily    9.0         2      no\n",
            "3      5    Michael   20.0         3     yes\n",
            "4      6    Matthew   14.5         1     yes\n",
            "5      7      Laura    NaN         1      no\n",
            "6      8      Kevin    8.0         2      no\n",
            "7      9      Jonas   19.0         1     yes\n"
          ]
        }
      ]
    },
    {
      "cell_type": "code",
      "source": [
        "import pandas as pd\n",
        "import numpy as np\n",
        "s1 = pd.Series(['100', '200', 'python', '300.12', '400'])\n",
        "s2 = pd.Series(['10', '20', 'php', '30.12', '40'])\n",
        "print(\"Data Series:\")\n",
        "print(s1)\n",
        "print(s2)\n",
        "df = pd.concat([s1, s2], axis=1)\n",
        "print(\"New DataFrame combining two series:\")\n",
        "print(df)"
      ],
      "metadata": {
        "colab": {
          "base_uri": "https://localhost:8080/"
        },
        "id": "UkyKt0SXxGix",
        "outputId": "59d83f07-5836-49a6-83a9-3b63532dba89"
      },
      "execution_count": 44,
      "outputs": [
        {
          "output_type": "stream",
          "name": "stdout",
          "text": [
            "Data Series:\n",
            "0       100\n",
            "1       200\n",
            "2    python\n",
            "3    300.12\n",
            "4       400\n",
            "dtype: object\n",
            "0       10\n",
            "1       20\n",
            "2      php\n",
            "3    30.12\n",
            "4       40\n",
            "dtype: object\n",
            "New DataFrame combining two series:\n",
            "        0      1\n",
            "0     100     10\n",
            "1     200     20\n",
            "2  python    php\n",
            "3  300.12  30.12\n",
            "4     400     40\n"
          ]
        }
      ]
    },
    {
      "cell_type": "code",
      "source": [
        "import pandas as pd\n",
        "import numpy as np\n",
        "exam_data = {'name': ['Anastasia', 'Dima', 'Katherine', 'James', 'Emily', 'Michael', 'Matthew', 'Laura', 'Kevin', 'Jonas'],\n",
        "        'score': [12.5, 9, 16.5, np.nan, 9, 20, 14.5, np.nan, 8, 19],\n",
        "        'attempts': [1, 3, 2, 3, 2, 3, 1, 1, 2, 1],\n",
        "        'qualify': ['yes', 'no', 'yes', 'no', 'no', 'yes', 'yes', 'no', 'no', 'yes']}\n",
        "df = pd.DataFrame(exam_data)\n",
        "print(\"Original DataFrame:\")\n",
        "print(df)\n",
        "df = df.sample(frac=1)\n",
        "print(\"\\nNew DataFrame:\")\n",
        "print(df)"
      ],
      "metadata": {
        "colab": {
          "base_uri": "https://localhost:8080/"
        },
        "id": "MQQxUyFLxGlZ",
        "outputId": "00f8ff58-f470-4560-e053-d7ff4da5115e"
      },
      "execution_count": 45,
      "outputs": [
        {
          "output_type": "stream",
          "name": "stdout",
          "text": [
            "Original DataFrame:\n",
            "        name  score  attempts qualify\n",
            "0  Anastasia   12.5         1     yes\n",
            "1       Dima    9.0         3      no\n",
            "2  Katherine   16.5         2     yes\n",
            "3      James    NaN         3      no\n",
            "4      Emily    9.0         2      no\n",
            "5    Michael   20.0         3     yes\n",
            "6    Matthew   14.5         1     yes\n",
            "7      Laura    NaN         1      no\n",
            "8      Kevin    8.0         2      no\n",
            "9      Jonas   19.0         1     yes\n",
            "\n",
            "New DataFrame:\n",
            "        name  score  attempts qualify\n",
            "0  Anastasia   12.5         1     yes\n",
            "4      Emily    9.0         2      no\n",
            "1       Dima    9.0         3      no\n",
            "7      Laura    NaN         1      no\n",
            "9      Jonas   19.0         1     yes\n",
            "2  Katherine   16.5         2     yes\n",
            "6    Matthew   14.5         1     yes\n",
            "8      Kevin    8.0         2      no\n",
            "3      James    NaN         3      no\n",
            "5    Michael   20.0         3     yes\n"
          ]
        }
      ]
    },
    {
      "cell_type": "code",
      "source": [
        "import pandas as pd\n",
        "import numpy as np\n",
        "s = pd.Series(['3/11/2000', '3/12/2000', '3/13/2000'])\n",
        "print(\"String Date:\")\n",
        "print(s)\n",
        "r = pd.to_datetime(pd.Series(s))\n",
        "df = pd.DataFrame(r)\n",
        "print(\"Original DataFrame (string to datetime):\")\n",
        "print(df)"
      ],
      "metadata": {
        "colab": {
          "base_uri": "https://localhost:8080/"
        },
        "id": "LcddNek7xGnv",
        "outputId": "4cb9d1e0-a972-482e-d777-5fc62be03445"
      },
      "execution_count": 46,
      "outputs": [
        {
          "output_type": "stream",
          "name": "stdout",
          "text": [
            "String Date:\n",
            "0    3/11/2000\n",
            "1    3/12/2000\n",
            "2    3/13/2000\n",
            "dtype: object\n",
            "Original DataFrame (string to datetime):\n",
            "           0\n",
            "0 2000-03-11\n",
            "1 2000-03-12\n",
            "2 2000-03-13\n"
          ]
        }
      ]
    },
    {
      "cell_type": "code",
      "source": [
        "import pandas as pd\n",
        "d = {'col1': [1, 2, 3], 'col2': [4, 5, 6], 'col3': [7, 8, 9]}\n",
        "df = pd.DataFrame(data=d)\n",
        "print(\"Original DataFrame\")\n",
        "print(df)\n",
        "df=df.rename(columns = {'col2':'Column2'})\n",
        "print(\"New DataFrame after renaming second column:\")\n",
        "print(df)"
      ],
      "metadata": {
        "colab": {
          "base_uri": "https://localhost:8080/"
        },
        "id": "OC6zVlSsyBk3",
        "outputId": "0b360626-0d17-4a70-9910-6ea7162a194f"
      },
      "execution_count": 47,
      "outputs": [
        {
          "output_type": "stream",
          "name": "stdout",
          "text": [
            "Original DataFrame\n",
            "   col1  col2  col3\n",
            "0     1     4     7\n",
            "1     2     5     8\n",
            "2     3     6     9\n",
            "New DataFrame after renaming second column:\n",
            "   col1  Column2  col3\n",
            "0     1        4     7\n",
            "1     2        5     8\n",
            "2     3        6     9\n"
          ]
        }
      ]
    },
    {
      "cell_type": "code",
      "source": [
        "import pandas as pd\n",
        "d = {'col1': [1, 2, 3], 'col2': [4, 5, 6], 'col3': [7, 8, 9]}\n",
        "df = pd.DataFrame(data=d)\n",
        "print(\"Original DataFrame\")\n",
        "print(df)\n",
        "col2_list = df[\"col2\"].tolist()\n",
        "print(\"Col2 of the DataFrame to list:\")\n",
        "print(col2_list)"
      ],
      "metadata": {
        "colab": {
          "base_uri": "https://localhost:8080/"
        },
        "id": "GxVp_3m5yBmw",
        "outputId": "61ec1335-e32d-4e65-89e7-54ae6e2ad4b8"
      },
      "execution_count": 48,
      "outputs": [
        {
          "output_type": "stream",
          "name": "stdout",
          "text": [
            "Original DataFrame\n",
            "   col1  col2  col3\n",
            "0     1     4     7\n",
            "1     2     5     8\n",
            "2     3     6     9\n",
            "Col2 of the DataFrame to list:\n",
            "[4, 5, 6]\n"
          ]
        }
      ]
    },
    {
      "cell_type": "code",
      "source": [
        "import pandas\n",
        "import numpy\n",
        "dtype = [('Column1','int32'), ('Column2','float32'), ('Column3','float32')]\n",
        "values = numpy.zeros(15, dtype=dtype)\n",
        "index = ['Index'+str(i) for i in range(1, len(values)+1)]\n",
        "df = pandas.DataFrame(values, index=index)\n",
        "print(df)"
      ],
      "metadata": {
        "colab": {
          "base_uri": "https://localhost:8080/"
        },
        "id": "A9E_eWFxyBow",
        "outputId": "cf2acf58-73f7-4cb1-ac0c-4275a8fe1ddf"
      },
      "execution_count": 49,
      "outputs": [
        {
          "output_type": "stream",
          "name": "stdout",
          "text": [
            "         Column1  Column2  Column3\n",
            "Index1         0      0.0      0.0\n",
            "Index2         0      0.0      0.0\n",
            "Index3         0      0.0      0.0\n",
            "Index4         0      0.0      0.0\n",
            "Index5         0      0.0      0.0\n",
            "Index6         0      0.0      0.0\n",
            "Index7         0      0.0      0.0\n",
            "Index8         0      0.0      0.0\n",
            "Index9         0      0.0      0.0\n",
            "Index10        0      0.0      0.0\n",
            "Index11        0      0.0      0.0\n",
            "Index12        0      0.0      0.0\n",
            "Index13        0      0.0      0.0\n",
            "Index14        0      0.0      0.0\n",
            "Index15        0      0.0      0.0\n"
          ]
        }
      ]
    },
    {
      "cell_type": "code",
      "source": [
        "import pandas as pd\n",
        "d = {'col1': [1, 2, 3, 4, 7], 'col2': [4, 5, 6, 9, 5], 'col3': [7, 8, 12, 1, 11]}\n",
        "df = pd.DataFrame(data=d)\n",
        "print(\"Original DataFrame\")\n",
        "print(df)\n",
        "print(\"Row where col1 has maximum value:\")\n",
        "print(df['col1'].argmax())\n",
        "print(\"Row where col2 has maximum value:\")\n",
        "print(df['col2'].argmax())\n",
        "print(\"Row where col3 has maximum value:\")\n",
        "print(df['col3'].argmax())"
      ],
      "metadata": {
        "colab": {
          "base_uri": "https://localhost:8080/"
        },
        "id": "jciZvytwyBsG",
        "outputId": "cf1d11ef-6c56-4b4f-9a64-45b872f076e6"
      },
      "execution_count": 50,
      "outputs": [
        {
          "output_type": "stream",
          "name": "stdout",
          "text": [
            "Original DataFrame\n",
            "   col1  col2  col3\n",
            "0     1     4     7\n",
            "1     2     5     8\n",
            "2     3     6    12\n",
            "3     4     9     1\n",
            "4     7     5    11\n",
            "Row where col1 has maximum value:\n",
            "4\n",
            "Row where col2 has maximum value:\n",
            "3\n",
            "Row where col3 has maximum value:\n",
            "2\n"
          ]
        }
      ]
    },
    {
      "cell_type": "code",
      "source": [
        "import pandas as pd\n",
        "d = {'col1': [1, 2, 3, 4, 7], 'col2': [4, 5, 6, 9, 5], 'col3': [7, 8, 12, 1, 11]}\n",
        "df = pd.DataFrame(data=d)\n",
        "print(\"Original DataFrame\")\n",
        "print(df)\n",
        "if 'col4' in df.columns:\n",
        "  print(\"Col4 is present in DataFrame.\")\n",
        "else:\n",
        "  print(\"Col4 is not present in DataFrame.\")\n",
        "if 'col1' in df.columns:\n",
        "  print(\"Col1 is present in DataFrame.\")\n",
        "else:\n",
        "  print(\"Col1 is not present in DataFrame.\")"
      ],
      "metadata": {
        "colab": {
          "base_uri": "https://localhost:8080/"
        },
        "id": "T0rielDjyBuV",
        "outputId": "a20a4879-a180-413d-ddbc-17361ce081ac"
      },
      "execution_count": 51,
      "outputs": [
        {
          "output_type": "stream",
          "name": "stdout",
          "text": [
            "Original DataFrame\n",
            "   col1  col2  col3\n",
            "0     1     4     7\n",
            "1     2     5     8\n",
            "2     3     6    12\n",
            "3     4     9     1\n",
            "4     7     5    11\n",
            "Col4 is not present in DataFrame.\n",
            "Col1 is present in DataFrame.\n"
          ]
        }
      ]
    },
    {
      "cell_type": "code",
      "source": [
        "import pandas as pd\n",
        "d = {'col1': [1, 2, 3, 4, 7], 'col2': [4, 5, 6, 9, 5], 'col3': [7, 8, 12, 1, 11]}\n",
        "df = pd.DataFrame(data=d)\n",
        "print(\"Original DataFrame\")\n",
        "print(df)\n",
        "print(\"Value of Row1\")\n",
        "print(df.iloc[0])\n",
        "print(\"Value of Row4\")\n",
        "print(df.iloc[3])"
      ],
      "metadata": {
        "colab": {
          "base_uri": "https://localhost:8080/"
        },
        "id": "OCNf4gvuyBxA",
        "outputId": "22183bde-0721-411f-9b9f-2e1b3e7d4f96"
      },
      "execution_count": 52,
      "outputs": [
        {
          "output_type": "stream",
          "name": "stdout",
          "text": [
            "Original DataFrame\n",
            "   col1  col2  col3\n",
            "0     1     4     7\n",
            "1     2     5     8\n",
            "2     3     6    12\n",
            "3     4     9     1\n",
            "4     7     5    11\n",
            "Value of Row1\n",
            "col1    1\n",
            "col2    4\n",
            "col3    7\n",
            "Name: 0, dtype: int64\n",
            "Value of Row4\n",
            "col1    4\n",
            "col2    9\n",
            "col3    1\n",
            "Name: 3, dtype: int64\n"
          ]
        }
      ]
    },
    {
      "cell_type": "code",
      "source": [
        "import pandas as pd\n",
        "d = {'col1': [1, 2, 3, 4, 7], 'col2': [4, 5, 6, 9, 5], 'col3': [7, 8, 12, 1, 11]}\n",
        "df = pd.DataFrame(data=d)\n",
        "print(\"Original DataFrame\")\n",
        "print(df)\n",
        "print(\"Value of Row1\")\n",
        "print(df.iloc[0])\n",
        "print(\"Value of Row4\")\n",
        "print(df.iloc[3])"
      ],
      "metadata": {
        "colab": {
          "base_uri": "https://localhost:8080/"
        },
        "id": "wB2EcuJwyB1v",
        "outputId": "48f2e769-3c38-4dcf-c25b-5f018fbfe96f"
      },
      "execution_count": 53,
      "outputs": [
        {
          "output_type": "stream",
          "name": "stdout",
          "text": [
            "Original DataFrame\n",
            "   col1  col2  col3\n",
            "0     1     4     7\n",
            "1     2     5     8\n",
            "2     3     6    12\n",
            "3     4     9     1\n",
            "4     7     5    11\n",
            "Value of Row1\n",
            "col1    1\n",
            "col2    4\n",
            "col3    7\n",
            "Name: 0, dtype: int64\n",
            "Value of Row4\n",
            "col1    4\n",
            "col2    9\n",
            "col3    1\n",
            "Name: 3, dtype: int64\n"
          ]
        }
      ]
    },
    {
      "cell_type": "code",
      "source": [
        "import pandas as pd\n",
        "import numpy as np\n",
        "df = pd.DataFrame()\n",
        "data = pd.DataFrame({\"col1\": range(3),\"col2\": range(3)})\n",
        "print(\"After appending some data:\")\n",
        "df = df.append(data)\n",
        "print(df)"
      ],
      "metadata": {
        "colab": {
          "base_uri": "https://localhost:8080/"
        },
        "id": "bZKM8HpmyB4J",
        "outputId": "d28f3272-faa7-44ec-90e2-eb35d1235205"
      },
      "execution_count": 54,
      "outputs": [
        {
          "output_type": "stream",
          "name": "stdout",
          "text": [
            "After appending some data:\n",
            "   col1  col2\n",
            "0     0     0\n",
            "1     1     1\n",
            "2     2     2\n"
          ]
        }
      ]
    },
    {
      "cell_type": "code",
      "source": [
        "import pandas as pd\n",
        "import numpy as np\n",
        "exam_data = {'name': ['Anastasia', 'Dima', 'Katherine', 'James', 'Emily', 'Michael', 'Matthew', 'Laura', 'Kevin', 'Jonas'],\n",
        "        'score': [12.5, 9, 16.5, np.nan, 9, 20, 14.5, np.nan, 8, 19],\n",
        "        'attempts': [1, 3, 2, 3, 2, 3, 1, 1, 2, 1],\n",
        "        'qualify': ['yes', 'no', 'yes', 'no', 'no', 'yes', 'yes', 'no', 'no', 'yes']}\n",
        "df = pd.DataFrame(exam_data)\n",
        "print(\"Original DataFrame:\")\n",
        "print(df)\n",
        "print(\"\\nSort the above DataFrame on attempts, name:\")\n",
        "df = df.sort_values(['attempts', 'name'], ascending=[True, True])\n",
        "print(df)"
      ],
      "metadata": {
        "colab": {
          "base_uri": "https://localhost:8080/"
        },
        "id": "B_Ja1F0DyB68",
        "outputId": "c93b17e2-f05a-4187-de93-1844fe3d6e8f"
      },
      "execution_count": 55,
      "outputs": [
        {
          "output_type": "stream",
          "name": "stdout",
          "text": [
            "Original DataFrame:\n",
            "        name  score  attempts qualify\n",
            "0  Anastasia   12.5         1     yes\n",
            "1       Dima    9.0         3      no\n",
            "2  Katherine   16.5         2     yes\n",
            "3      James    NaN         3      no\n",
            "4      Emily    9.0         2      no\n",
            "5    Michael   20.0         3     yes\n",
            "6    Matthew   14.5         1     yes\n",
            "7      Laura    NaN         1      no\n",
            "8      Kevin    8.0         2      no\n",
            "9      Jonas   19.0         1     yes\n",
            "\n",
            "Sort the above DataFrame on attempts, name:\n",
            "        name  score  attempts qualify\n",
            "0  Anastasia   12.5         1     yes\n",
            "9      Jonas   19.0         1     yes\n",
            "7      Laura    NaN         1      no\n",
            "6    Matthew   14.5         1     yes\n",
            "4      Emily    9.0         2      no\n",
            "2  Katherine   16.5         2     yes\n",
            "8      Kevin    8.0         2      no\n",
            "1       Dima    9.0         3      no\n",
            "3      James    NaN         3      no\n",
            "5    Michael   20.0         3     yes\n"
          ]
        }
      ]
    },
    {
      "cell_type": "code",
      "source": [
        "import pandas as pd\n",
        "import numpy as np\n",
        "exam_data = {'name': ['Anastasia', 'Dima', 'Katherine', 'James', 'Emily', 'Michael', 'Matthew', 'Laura', 'Kevin', 'Jonas'],\n",
        "        'score': [12.5, 9.1, 16.5, 12.77, 9.21, 20.22, 14.5, 11.34, 8.8, 19.13],\n",
        "        'attempts': [1, 3, 2, 3, 2, 3, 1, 1, 2, 1],\n",
        "        'qualify': ['yes', 'no', 'yes', 'no', 'no', 'yes', 'yes', 'no', 'no', 'yes']}\n",
        "df = pd.DataFrame(exam_data)\n",
        "print(\"Original DataFrame:\")\n",
        "print(df)\n",
        "print(\"\\nData types of the columns of the said DataFrame:\")\n",
        "print(df.dtypes)\n",
        "print(\"\\nNow change the Data type of 'score' column from float to int:\")\n",
        "df.score = df.score.astype(int)\n",
        "print(df)\n",
        "print(\"\\nData types of the columns of the DataFrame now:\")\n",
        "print(df.dtypes)"
      ],
      "metadata": {
        "colab": {
          "base_uri": "https://localhost:8080/"
        },
        "id": "H1Yltfw8yB9W",
        "outputId": "c2858927-2744-4975-ea6a-69d5029fc0a6"
      },
      "execution_count": 56,
      "outputs": [
        {
          "output_type": "stream",
          "name": "stdout",
          "text": [
            "Original DataFrame:\n",
            "        name  score  attempts qualify\n",
            "0  Anastasia  12.50         1     yes\n",
            "1       Dima   9.10         3      no\n",
            "2  Katherine  16.50         2     yes\n",
            "3      James  12.77         3      no\n",
            "4      Emily   9.21         2      no\n",
            "5    Michael  20.22         3     yes\n",
            "6    Matthew  14.50         1     yes\n",
            "7      Laura  11.34         1      no\n",
            "8      Kevin   8.80         2      no\n",
            "9      Jonas  19.13         1     yes\n",
            "\n",
            "Data types of the columns of the said DataFrame:\n",
            "name         object\n",
            "score       float64\n",
            "attempts      int64\n",
            "qualify      object\n",
            "dtype: object\n",
            "\n",
            "Now change the Data type of 'score' column from float to int:\n",
            "        name  score  attempts qualify\n",
            "0  Anastasia     12         1     yes\n",
            "1       Dima      9         3      no\n",
            "2  Katherine     16         2     yes\n",
            "3      James     12         3      no\n",
            "4      Emily      9         2      no\n",
            "5    Michael     20         3     yes\n",
            "6    Matthew     14         1     yes\n",
            "7      Laura     11         1      no\n",
            "8      Kevin      8         2      no\n",
            "9      Jonas     19         1     yes\n",
            "\n",
            "Data types of the columns of the DataFrame now:\n",
            "name        object\n",
            "score        int64\n",
            "attempts     int64\n",
            "qualify     object\n",
            "dtype: object\n"
          ]
        }
      ]
    },
    {
      "cell_type": "code",
      "source": [
        "import pandas as pd\n",
        "import numpy as np\n",
        "df = pd.DataFrame([1000, 2000, 3000, -4000, np.inf, -np.inf])\n",
        "print(\"Original DataFrame:\")\n",
        "print(df)\n",
        "print(\"Removing infinite values:\")\n",
        "df = df.replace([np.inf, -np.inf], np.nan)\n",
        "print(df)"
      ],
      "metadata": {
        "colab": {
          "base_uri": "https://localhost:8080/"
        },
        "id": "zHDGB9gpyB_g",
        "outputId": "79743a4a-9e26-418a-9996-a2599dd2541f"
      },
      "execution_count": 57,
      "outputs": [
        {
          "output_type": "stream",
          "name": "stdout",
          "text": [
            "Original DataFrame:\n",
            "        0\n",
            "0  1000.0\n",
            "1  2000.0\n",
            "2  3000.0\n",
            "3 -4000.0\n",
            "4     inf\n",
            "5    -inf\n",
            "Removing infinite values:\n",
            "        0\n",
            "0  1000.0\n",
            "1  2000.0\n",
            "2  3000.0\n",
            "3 -4000.0\n",
            "4     NaN\n",
            "5     NaN\n"
          ]
        }
      ]
    },
    {
      "cell_type": "code",
      "source": [
        "import pandas as pd\n",
        "d = {'col2': [4, 5, 6, 9, 5], 'col3': [7, 8, 12, 1, 11]}\n",
        "df = pd.DataFrame(data=d)\n",
        "print(\"Original DataFrame\")\n",
        "print(df)\n",
        "new_col = [1, 2, 3, 4, 7]  \n",
        "# insert the said column at the beginning in the DataFrame\n",
        "idx = 0\n",
        "df.insert(loc=idx, column='col1', value=new_col)\n",
        "print(\"\\nNew DataFrame\")\n",
        "print(df)"
      ],
      "metadata": {
        "colab": {
          "base_uri": "https://localhost:8080/"
        },
        "id": "LAugZuRsyCB3",
        "outputId": "3e5c1a5b-aa25-434d-e814-2eb569d2b655"
      },
      "execution_count": 58,
      "outputs": [
        {
          "output_type": "stream",
          "name": "stdout",
          "text": [
            "Original DataFrame\n",
            "   col2  col3\n",
            "0     4     7\n",
            "1     5     8\n",
            "2     6    12\n",
            "3     9     1\n",
            "4     5    11\n",
            "\n",
            "New DataFrame\n",
            "   col1  col2  col3\n",
            "0     1     4     7\n",
            "1     2     5     8\n",
            "2     3     6    12\n",
            "3     4     9     1\n",
            "4     7     5    11\n"
          ]
        }
      ]
    },
    {
      "cell_type": "code",
      "source": [
        "import pandas as pd\n",
        "my_lists = [['col1', 'col2'], [2, 4], [1, 3]]\n",
        "# sets the headers as list\n",
        "headers = my_lists.pop(0) \n",
        "print(\"Original list of lists:\")\n",
        "print(my_lists)\n",
        "df = pd.DataFrame(my_lists, columns = headers)\n",
        "print(\"New DataFrame\")\n",
        "print(df)"
      ],
      "metadata": {
        "colab": {
          "base_uri": "https://localhost:8080/"
        },
        "id": "_2CSkgMUy9yc",
        "outputId": "9059ef8c-fa51-494b-e77a-7913f9286a4b"
      },
      "execution_count": 59,
      "outputs": [
        {
          "output_type": "stream",
          "name": "stdout",
          "text": [
            "Original list of lists:\n",
            "[[2, 4], [1, 3]]\n",
            "New DataFrame\n",
            "   col1  col2\n",
            "0     2     4\n",
            "1     1     3\n"
          ]
        }
      ]
    },
    {
      "cell_type": "code",
      "source": [
        "import pandas as pd\n",
        "df = pd.DataFrame( {'col1':['C1','C1','C2','C2','C2','C3','C2'], 'col2':[1,2,3,3,4,6,5]})\n",
        "print(\"Original DataFrame\")\n",
        "print(df)\n",
        "df = df.groupby('col1')['col2'].apply(list)\n",
        "print(\"\\nGroup on the col1:\")\n",
        "print(df)"
      ],
      "metadata": {
        "colab": {
          "base_uri": "https://localhost:8080/"
        },
        "id": "sslmlqBny938",
        "outputId": "9b897cf1-d097-456d-8f20-06035e8b7e06"
      },
      "execution_count": 60,
      "outputs": [
        {
          "output_type": "stream",
          "name": "stdout",
          "text": [
            "Original DataFrame\n",
            "  col1  col2\n",
            "0   C1     1\n",
            "1   C1     2\n",
            "2   C2     3\n",
            "3   C2     3\n",
            "4   C2     4\n",
            "5   C3     6\n",
            "6   C2     5\n",
            "\n",
            "Group on the col1:\n",
            "col1\n",
            "C1          [1, 2]\n",
            "C2    [3, 3, 4, 5]\n",
            "C3             [6]\n",
            "Name: col2, dtype: object\n"
          ]
        }
      ]
    },
    {
      "cell_type": "code",
      "source": [
        "import pandas as pd\n",
        "d = {'col1': [1, 2, 3, 4, 7], 'col2': [4, 5, 6, 9, 5], 'col3': [7, 8, 12, 1, 11]}\n",
        "df = pd.DataFrame(data=d)\n",
        "print(\"Original DataFrame\")\n",
        "print(df)\n",
        "print(\"\\nIndex of 'col2'\")\n",
        "print(df.columns.get_loc(\"col2\"))"
      ],
      "metadata": {
        "colab": {
          "base_uri": "https://localhost:8080/"
        },
        "id": "-APkIsNQy96y",
        "outputId": "cb7d7b94-6f66-4ba3-a1a8-63d1c18d3795"
      },
      "execution_count": 61,
      "outputs": [
        {
          "output_type": "stream",
          "name": "stdout",
          "text": [
            "Original DataFrame\n",
            "   col1  col2  col3\n",
            "0     1     4     7\n",
            "1     2     5     8\n",
            "2     3     6    12\n",
            "3     4     9     1\n",
            "4     7     5    11\n",
            "\n",
            "Index of 'col2'\n",
            "1\n"
          ]
        }
      ]
    },
    {
      "cell_type": "code",
      "source": [
        "import pandas as pd\n",
        "d = {'col1': [1, 2, 3, 4, 7], 'col2': [4, 5, 6, 9, 5], 'col3': [7, 8, 12, 1, 11]}\n",
        "df = pd.DataFrame(data=d)\n",
        "print(\"Original DataFrame\")\n",
        "print(df)\n",
        "print(\"\\nIndex of 'col2'\")\n",
        "print(df.columns.get_loc(\"col2\"))"
      ],
      "metadata": {
        "colab": {
          "base_uri": "https://localhost:8080/"
        },
        "id": "d1GU3gIBy9-1",
        "outputId": "37b00a23-156c-445c-aab3-13fbdd19e9df"
      },
      "execution_count": 62,
      "outputs": [
        {
          "output_type": "stream",
          "name": "stdout",
          "text": [
            "Original DataFrame\n",
            "   col1  col2  col3\n",
            "0     1     4     7\n",
            "1     2     5     8\n",
            "2     3     6    12\n",
            "3     4     9     1\n",
            "4     7     5    11\n",
            "\n",
            "Index of 'col2'\n",
            "1\n"
          ]
        }
      ]
    },
    {
      "cell_type": "code",
      "source": [
        "import pandas as pd\n",
        "d = {'col1': [1, 2, 3, 4, 7], 'col2': [4, 5, 6, 9, 5], 'col3': [7, 8, 12, 1, 11]}\n",
        "df = pd.DataFrame(data=d)\n",
        "print(\"Original DataFrame\")\n",
        "print(df)\n",
        "print(\"\\nIndex of 'col2'\")\n",
        "print(df.columns.get_loc(\"col2\"))"
      ],
      "metadata": {
        "colab": {
          "base_uri": "https://localhost:8080/"
        },
        "id": "EU254Oaoy-B1",
        "outputId": "f7e1d336-8bdb-4c78-9739-6b0f9796e17b"
      },
      "execution_count": 63,
      "outputs": [
        {
          "output_type": "stream",
          "name": "stdout",
          "text": [
            "Original DataFrame\n",
            "   col1  col2  col3\n",
            "0     1     4     7\n",
            "1     2     5     8\n",
            "2     3     6    12\n",
            "3     4     9     1\n",
            "4     7     5    11\n",
            "\n",
            "Index of 'col2'\n",
            "1\n"
          ]
        }
      ]
    },
    {
      "cell_type": "code",
      "source": [
        "import pandas as pd\n",
        "d = {'col1': [1, 2, 3, 4, 7], 'col2': [4, 5, 6, 9, 5], 'col3': [7, 8, 12, 1, 11]}\n",
        "df = pd.DataFrame(data=d)\n",
        "print(\"Original DataFrame\")\n",
        "print(df)\n",
        "print(\"\\nIndex of 'col2'\")\n",
        "print(df.columns.get_loc(\"col2\"))"
      ],
      "metadata": {
        "colab": {
          "base_uri": "https://localhost:8080/"
        },
        "id": "qb0wrbMry-EY",
        "outputId": "64e4a00c-df97-4da2-91ee-e90e50ba1570"
      },
      "execution_count": 64,
      "outputs": [
        {
          "output_type": "stream",
          "name": "stdout",
          "text": [
            "Original DataFrame\n",
            "   col1  col2  col3\n",
            "0     1     4     7\n",
            "1     2     5     8\n",
            "2     3     6    12\n",
            "3     4     9     1\n",
            "4     7     5    11\n",
            "\n",
            "Index of 'col2'\n",
            "1\n"
          ]
        }
      ]
    },
    {
      "cell_type": "code",
      "source": [
        "import pandas as pd\n",
        "d = {'col1': [1, 2, 3, 4, 7, 11], 'col2': [4, 5, 6, 9, 5, 0], 'col3': [7, 5, 8, 12, 1,11]}\n",
        "df = pd.DataFrame(data=d)\n",
        "print(\"Original DataFrame\")\n",
        "print(df)\n",
        "print(\"\\nLast 3 rows of the said DataFrame':\")\n",
        "df1 = df.tail(3)\n",
        "print(df1)"
      ],
      "metadata": {
        "colab": {
          "base_uri": "https://localhost:8080/"
        },
        "id": "ln2YRqIGy-IS",
        "outputId": "3af6df66-8166-441c-a45f-da38c247b1a0"
      },
      "execution_count": 65,
      "outputs": [
        {
          "output_type": "stream",
          "name": "stdout",
          "text": [
            "Original DataFrame\n",
            "   col1  col2  col3\n",
            "0     1     4     7\n",
            "1     2     5     5\n",
            "2     3     6     8\n",
            "3     4     9    12\n",
            "4     7     5     1\n",
            "5    11     0    11\n",
            "\n",
            "Last 3 rows of the said DataFrame':\n",
            "   col1  col2  col3\n",
            "3     4     9    12\n",
            "4     7     5     1\n",
            "5    11     0    11\n"
          ]
        }
      ]
    },
    {
      "cell_type": "code",
      "source": [
        "import pandas as pd\n",
        "d = {'col1': [1, 2, 3, 4, 7, 11], 'col2': [4, 5, 6, 9, 5, 0], 'col3': [7, 5, 8, 12, 1,11]}\n",
        "df = pd.DataFrame(data=d)\n",
        "print(\"Original DataFrame\")\n",
        "print(df)\n",
        "print(\"\\ntopmost n records within each group of a DataFrame:\")\n",
        "df1 = df.nlargest(3, 'col1')\n",
        "print(df1)\n",
        "df2 = df.nlargest(3, 'col2')\n",
        "print(df2)\n",
        "df3 = df.nlargest(3, 'col3')\n",
        "print(df3)"
      ],
      "metadata": {
        "colab": {
          "base_uri": "https://localhost:8080/"
        },
        "id": "TzXNVLp3yCEH",
        "outputId": "fa336834-6017-41da-8137-f6a31a35d6a5"
      },
      "execution_count": 66,
      "outputs": [
        {
          "output_type": "stream",
          "name": "stdout",
          "text": [
            "Original DataFrame\n",
            "   col1  col2  col3\n",
            "0     1     4     7\n",
            "1     2     5     5\n",
            "2     3     6     8\n",
            "3     4     9    12\n",
            "4     7     5     1\n",
            "5    11     0    11\n",
            "\n",
            "topmost n records within each group of a DataFrame:\n",
            "   col1  col2  col3\n",
            "5    11     0    11\n",
            "4     7     5     1\n",
            "3     4     9    12\n",
            "   col1  col2  col3\n",
            "3     4     9    12\n",
            "2     3     6     8\n",
            "1     2     5     5\n",
            "   col1  col2  col3\n",
            "3     4     9    12\n",
            "5    11     0    11\n",
            "2     3     6     8\n"
          ]
        }
      ]
    },
    {
      "cell_type": "code",
      "source": [
        "import pandas as pd\n",
        "d = {'col1': [1, 2, 3, 4, 7, 11], 'col2': [4, 5, 6, 9, 5, 0], 'col3': [7, 5, 8, 12, 1,11]}\n",
        "df = pd.DataFrame(data=d)\n",
        "print(\"Original DataFrame\")\n",
        "print(df)\n",
        "print(\"\\nAfter removing first 3 rows of the said DataFrame:\")\n",
        "df1 = df.iloc[3:]\n",
        "print(df1)"
      ],
      "metadata": {
        "colab": {
          "base_uri": "https://localhost:8080/"
        },
        "id": "JzyQTjlczjNb",
        "outputId": "376f7673-5e85-42d7-fd3e-c44c340dc5ad"
      },
      "execution_count": 67,
      "outputs": [
        {
          "output_type": "stream",
          "name": "stdout",
          "text": [
            "Original DataFrame\n",
            "   col1  col2  col3\n",
            "0     1     4     7\n",
            "1     2     5     5\n",
            "2     3     6     8\n",
            "3     4     9    12\n",
            "4     7     5     1\n",
            "5    11     0    11\n",
            "\n",
            "After removing first 3 rows of the said DataFrame:\n",
            "   col1  col2  col3\n",
            "3     4     9    12\n",
            "4     7     5     1\n",
            "5    11     0    11\n"
          ]
        }
      ]
    },
    {
      "cell_type": "code",
      "source": [
        "import pandas as pd\n",
        "d = {'col1': [1, 2, 3, 4, 7, 11], 'col2': [4, 5, 6, 9, 5, 0], 'col3': [7, 5, 8, 12, 1,11]}\n",
        "df = pd.DataFrame(data=d)\n",
        "print(\"Original DataFrame\")\n",
        "print(df)\n",
        "print(\"\\nAfter removing last 3 rows of the said DataFrame:\")\n",
        "df1 = df.iloc[:3]\n",
        "print(df1)"
      ],
      "metadata": {
        "colab": {
          "base_uri": "https://localhost:8080/"
        },
        "id": "EBaII4MczjPt",
        "outputId": "170cba5a-4f6e-4211-a915-225238111126"
      },
      "execution_count": 68,
      "outputs": [
        {
          "output_type": "stream",
          "name": "stdout",
          "text": [
            "Original DataFrame\n",
            "   col1  col2  col3\n",
            "0     1     4     7\n",
            "1     2     5     5\n",
            "2     3     6     8\n",
            "3     4     9    12\n",
            "4     7     5     1\n",
            "5    11     0    11\n",
            "\n",
            "After removing last 3 rows of the said DataFrame:\n",
            "   col1  col2  col3\n",
            "0     1     4     7\n",
            "1     2     5     5\n",
            "2     3     6     8\n"
          ]
        }
      ]
    },
    {
      "cell_type": "code",
      "source": [
        "import pandas as pd\n",
        "df = pd.DataFrame({'W':[68,75,86,80,66],'X':[78,85,96,80,86], 'Y':[84,94,89,83,86],'Z':[86,97,96,72,83]});\n",
        "print(\"Original DataFrame\")\n",
        "print(df)\n",
        "print(\"\\nAdd prefix:\")\n",
        "print(df.add_prefix(\"A_\"))\n",
        "print(\"\\nAdd suffix:\")\n",
        "print(df.add_suffix(\"_1\"))"
      ],
      "metadata": {
        "colab": {
          "base_uri": "https://localhost:8080/"
        },
        "id": "o4Pk_Yb3zjSQ",
        "outputId": "dab9ee0e-d0f0-4204-bb8f-3674216c707d"
      },
      "execution_count": 69,
      "outputs": [
        {
          "output_type": "stream",
          "name": "stdout",
          "text": [
            "Original DataFrame\n",
            "    W   X   Y   Z\n",
            "0  68  78  84  86\n",
            "1  75  85  94  97\n",
            "2  86  96  89  96\n",
            "3  80  80  83  72\n",
            "4  66  86  86  83\n",
            "\n",
            "Add prefix:\n",
            "   A_W  A_X  A_Y  A_Z\n",
            "0   68   78   84   86\n",
            "1   75   85   94   97\n",
            "2   86   96   89   96\n",
            "3   80   80   83   72\n",
            "4   66   86   86   83\n",
            "\n",
            "Add suffix:\n",
            "   W_1  X_1  Y_1  Z_1\n",
            "0   68   78   84   86\n",
            "1   75   85   94   97\n",
            "2   86   96   89   96\n",
            "3   80   80   83   72\n",
            "4   66   86   86   83\n"
          ]
        }
      ]
    },
    {
      "cell_type": "code",
      "source": [
        "import pandas as pd\n",
        "df = pd.DataFrame({'W':[68,75,86,80,66],'X':[78,85,96,80,86], 'Y':[84,94,89,83,86],'Z':[86,97,96,72,83]});\n",
        "print(\"Original DataFrame\")\n",
        "print(df)\n",
        "print(\"\\nReverse column order:\")\n",
        "print(df.loc[:, ::-1])\n",
        "print(\"\\nReverse row order:\")\n",
        "print(df.loc[::-1])\n",
        "print(\"\\nReverse row order and reset index:\")\n",
        "print(df.loc[::-1].reset_index(drop = True))"
      ],
      "metadata": {
        "colab": {
          "base_uri": "https://localhost:8080/"
        },
        "id": "OWo9U7YozjU6",
        "outputId": "72f01f86-c1a8-4624-c75d-e761dd0f7c97"
      },
      "execution_count": 70,
      "outputs": [
        {
          "output_type": "stream",
          "name": "stdout",
          "text": [
            "Original DataFrame\n",
            "    W   X   Y   Z\n",
            "0  68  78  84  86\n",
            "1  75  85  94  97\n",
            "2  86  96  89  96\n",
            "3  80  80  83  72\n",
            "4  66  86  86  83\n",
            "\n",
            "Reverse column order:\n",
            "    Z   Y   X   W\n",
            "0  86  84  78  68\n",
            "1  97  94  85  75\n",
            "2  96  89  96  86\n",
            "3  72  83  80  80\n",
            "4  83  86  86  66\n",
            "\n",
            "Reverse row order:\n",
            "    W   X   Y   Z\n",
            "4  66  86  86  83\n",
            "3  80  80  83  72\n",
            "2  86  96  89  96\n",
            "1  75  85  94  97\n",
            "0  68  78  84  86\n",
            "\n",
            "Reverse row order and reset index:\n",
            "    W   X   Y   Z\n",
            "0  66  86  86  83\n",
            "1  80  80  83  72\n",
            "2  86  96  89  96\n",
            "3  75  85  94  97\n",
            "4  68  78  84  86\n"
          ]
        }
      ]
    },
    {
      "cell_type": "code",
      "source": [
        "import pandas as pd\n",
        "df = pd.DataFrame({'W':[68,75,86,80,66],'X':[78,85,96,80,86], 'Y':[84,94,89,83,86],'Z':[86,97,96,72,83]});\n",
        "print(\"Original DataFrame\")\n",
        "print(df)\n",
        "print(\"\\nReverse column order:\")\n",
        "print(df.loc[:, ::-1])\n",
        "print(\"\\nReverse row order:\")\n",
        "print(df.loc[::-1])\n",
        "print(\"\\nReverse row order and reset index:\")\n",
        "print(df.loc[::-1].reset_index(drop = True))"
      ],
      "metadata": {
        "colab": {
          "base_uri": "https://localhost:8080/"
        },
        "id": "C9VnGgA1zjXI",
        "outputId": "90f22c16-b14c-4c71-dd4b-674f020a5ed8"
      },
      "execution_count": 71,
      "outputs": [
        {
          "output_type": "stream",
          "name": "stdout",
          "text": [
            "Original DataFrame\n",
            "    W   X   Y   Z\n",
            "0  68  78  84  86\n",
            "1  75  85  94  97\n",
            "2  86  96  89  96\n",
            "3  80  80  83  72\n",
            "4  66  86  86  83\n",
            "\n",
            "Reverse column order:\n",
            "    Z   Y   X   W\n",
            "0  86  84  78  68\n",
            "1  97  94  85  75\n",
            "2  96  89  96  86\n",
            "3  72  83  80  80\n",
            "4  83  86  86  66\n",
            "\n",
            "Reverse row order:\n",
            "    W   X   Y   Z\n",
            "4  66  86  86  83\n",
            "3  80  80  83  72\n",
            "2  86  96  89  96\n",
            "1  75  85  94  97\n",
            "0  68  78  84  86\n",
            "\n",
            "Reverse row order and reset index:\n",
            "    W   X   Y   Z\n",
            "0  66  86  86  83\n",
            "1  80  80  83  72\n",
            "2  86  96  89  96\n",
            "3  75  85  94  97\n",
            "4  68  78  84  86\n"
          ]
        }
      ]
    },
    {
      "cell_type": "code",
      "source": [
        "import pandas as pd\n",
        "df = pd.DataFrame({\n",
        "    'name': ['Alberto Franco','Gino Mcneill','Ryan Parkes', 'Eesha Hinton', 'Syed Wharton'],\n",
        "    'date_of_birth': ['17/05/2002','16/02/1999','25/09/1998','11/05/2002','15/09/1997'],\n",
        "    'age': ['18', '21', '22', '22', '23']\n",
        "})\n",
        "\n",
        "df_1 = df.sample(frac = 0.6)\n",
        "df_2 = df.drop(df_1.index)\n",
        "print(\"Original Dataframe and shape:\")\n",
        "print(df)\n",
        "print(df.shape)\n",
        "print(\"\\nSubset-1 and shape:\")\n",
        "print(df_1)\n",
        "print(df_1.shape)\n",
        "print(\"\\nSubset-2 and shape:\")\n",
        "print(df_2)\n",
        "print(df_2.shape)"
      ],
      "metadata": {
        "colab": {
          "base_uri": "https://localhost:8080/"
        },
        "id": "AgFc0XM8zjaW",
        "outputId": "d787e193-0988-46b8-d893-ed410d08cd1b"
      },
      "execution_count": 72,
      "outputs": [
        {
          "output_type": "stream",
          "name": "stdout",
          "text": [
            "Original Dataframe and shape:\n",
            "             name date_of_birth age\n",
            "0  Alberto Franco    17/05/2002  18\n",
            "1    Gino Mcneill    16/02/1999  21\n",
            "2     Ryan Parkes    25/09/1998  22\n",
            "3    Eesha Hinton    11/05/2002  22\n",
            "4    Syed Wharton    15/09/1997  23\n",
            "(5, 3)\n",
            "\n",
            "Subset-1 and shape:\n",
            "           name date_of_birth age\n",
            "3  Eesha Hinton    11/05/2002  22\n",
            "2   Ryan Parkes    25/09/1998  22\n",
            "1  Gino Mcneill    16/02/1999  21\n",
            "(3, 3)\n",
            "\n",
            "Subset-2 and shape:\n",
            "             name date_of_birth age\n",
            "0  Alberto Franco    17/05/2002  18\n",
            "4    Syed Wharton    15/09/1997  23\n",
            "(2, 3)\n"
          ]
        }
      ]
    },
    {
      "cell_type": "code",
      "source": [
        "import pandas as pd\n",
        "df = pd.DataFrame({\n",
        "    'Name': ['Alberto Franco','Gino Mcneill','Ryan Parkes', 'Eesha Hinton', 'Syed Wharton'],\n",
        "    'Date_Of_Birth ': ['17/05/2002','16/02/1999','25/09/1998','11/05/2002','15/09/1997'],\n",
        "    'Age': [18.5, 21.2, 22.5, 22, 23]\n",
        "})\n",
        "\n",
        "print(\"Original DataFrame\")\n",
        "print(df)\n",
        "df.columns = df.columns.str.lower().str.rstrip()\n",
        "print(\"\\nRemove trailing (at the end) whitesapce and convert to lowercase of the columns name\")\n",
        "print(df.head())"
      ],
      "metadata": {
        "colab": {
          "base_uri": "https://localhost:8080/"
        },
        "id": "mwrZDoiIzjc9",
        "outputId": "b162cd60-c6e5-4e67-d1f9-99dc826d40cc"
      },
      "execution_count": 73,
      "outputs": [
        {
          "output_type": "stream",
          "name": "stdout",
          "text": [
            "Original DataFrame\n",
            "             Name Date_Of_Birth    Age\n",
            "0  Alberto Franco     17/05/2002  18.5\n",
            "1    Gino Mcneill     16/02/1999  21.2\n",
            "2     Ryan Parkes     25/09/1998  22.5\n",
            "3    Eesha Hinton     11/05/2002  22.0\n",
            "4    Syed Wharton     15/09/1997  23.0\n",
            "\n",
            "Remove trailing (at the end) whitesapce and convert to lowercase of the columns name\n",
            "             name date_of_birth   age\n",
            "0  Alberto Franco    17/05/2002  18.5\n",
            "1    Gino Mcneill    16/02/1999  21.2\n",
            "2     Ryan Parkes    25/09/1998  22.5\n",
            "3    Eesha Hinton    11/05/2002  22.0\n",
            "4    Syed Wharton    15/09/1997  23.0\n"
          ]
        }
      ]
    },
    {
      "cell_type": "code",
      "source": [
        "import pandas as pd\n",
        "df = pd.DataFrame({\n",
        "    'Name': ['Alberto Franco','Gino Mcneill','Ryan Parkes', 'Eesha Hinton', 'Syed Wharton'],\n",
        "    'Date_Of_Birth ': ['17/05/2002','16/02/1999','25/09/1998','11/05/2002','15/09/1997'],\n",
        "    'Age': [18.5, 21.2, 22.5, 22, 23]\n",
        "})\n",
        "print(\"Original DataFrame:\")\n",
        "print(df)\n",
        "df1 = df.copy(deep = True)\n",
        "df = df.drop([0, 1])\n",
        "df1 = df1.drop([2])\n",
        "print(\"\\nNew DataFrames:\")\n",
        "print(df)\n",
        "print(df1)\n",
        "print('\\n\"one_to_one”: check if merge keys are unique in both left and right datasets:\"')\n",
        "df_one_to_one = pd.merge(df, df1, validate = \"one_to_one\")\n",
        "print(df_one_to_one)\n",
        "print('\\n\"one_to_many” or “1:m”: check if merge keys are unique in left dataset:')\n",
        "df_one_to_many = pd.merge(df, df1, validate = \"one_to_many\")\n",
        "print(df_one_to_many)\n",
        "print('“many_to_one” or “m:1”: check if merge keys are unique in right dataset:')\n",
        "df_many_to_one = pd.merge(df, df1, validate = \"many_to_one\")\n",
        "print(df_many_to_one)"
      ],
      "metadata": {
        "colab": {
          "base_uri": "https://localhost:8080/"
        },
        "id": "aS_hVoD3z-HL",
        "outputId": "f74456ca-ca2f-4c6b-8d55-a6b090c13609"
      },
      "execution_count": 75,
      "outputs": [
        {
          "output_type": "stream",
          "name": "stdout",
          "text": [
            "Original DataFrame:\n",
            "             Name Date_Of_Birth    Age\n",
            "0  Alberto Franco     17/05/2002  18.5\n",
            "1    Gino Mcneill     16/02/1999  21.2\n",
            "2     Ryan Parkes     25/09/1998  22.5\n",
            "3    Eesha Hinton     11/05/2002  22.0\n",
            "4    Syed Wharton     15/09/1997  23.0\n",
            "\n",
            "New DataFrames:\n",
            "           Name Date_Of_Birth    Age\n",
            "2   Ryan Parkes     25/09/1998  22.5\n",
            "3  Eesha Hinton     11/05/2002  22.0\n",
            "4  Syed Wharton     15/09/1997  23.0\n",
            "             Name Date_Of_Birth    Age\n",
            "0  Alberto Franco     17/05/2002  18.5\n",
            "1    Gino Mcneill     16/02/1999  21.2\n",
            "3    Eesha Hinton     11/05/2002  22.0\n",
            "4    Syed Wharton     15/09/1997  23.0\n",
            "\n",
            "\"one_to_one”: check if merge keys are unique in both left and right datasets:\"\n",
            "           Name Date_Of_Birth    Age\n",
            "0  Eesha Hinton     11/05/2002  22.0\n",
            "1  Syed Wharton     15/09/1997  23.0\n",
            "\n",
            "\"one_to_many” or “1:m”: check if merge keys are unique in left dataset:\n",
            "           Name Date_Of_Birth    Age\n",
            "0  Eesha Hinton     11/05/2002  22.0\n",
            "1  Syed Wharton     15/09/1997  23.0\n",
            "“many_to_one” or “m:1”: check if merge keys are unique in right dataset:\n",
            "           Name Date_Of_Birth    Age\n",
            "0  Eesha Hinton     11/05/2002  22.0\n",
            "1  Syed Wharton     15/09/1997  23.0\n"
          ]
        }
      ]
    },
    {
      "cell_type": "code",
      "source": [
        "import pandas as pd\n",
        "df = pd.DataFrame({\n",
        "    'name': ['Alberto Franco','Gino Mcneill','Ryan Parkes', 'Eesha Hinton', 'Syed Wharton', 'Kierra Gentry'],\n",
        "      'age': [18, 22, 85, 50, 80, 5]\n",
        "})\n",
        "print(\"Original DataFrame:\")\n",
        "print(df)\n",
        "print('\\nAge group:')\n",
        "df[\"age_groups\"] = pd.cut(df[\"age\"], bins = [0, 18, 65, 99], labels = [\"kids\", \"adult\", \"elderly\"])\n",
        "print(df[\"age_groups\"])"
      ],
      "metadata": {
        "colab": {
          "base_uri": "https://localhost:8080/"
        },
        "id": "yAvYfW3Pz-Lc",
        "outputId": "78baf3c9-97af-4f81-ff69-81d82e56500a"
      },
      "execution_count": 76,
      "outputs": [
        {
          "output_type": "stream",
          "name": "stdout",
          "text": [
            "Original DataFrame:\n",
            "             name  age\n",
            "0  Alberto Franco   18\n",
            "1    Gino Mcneill   22\n",
            "2     Ryan Parkes   85\n",
            "3    Eesha Hinton   50\n",
            "4    Syed Wharton   80\n",
            "5   Kierra Gentry    5\n",
            "\n",
            "Age group:\n",
            "0       kids\n",
            "1      adult\n",
            "2    elderly\n",
            "3      adult\n",
            "4    elderly\n",
            "5       kids\n",
            "Name: age_groups, dtype: category\n",
            "Categories (3, object): ['kids' < 'adult' < 'elderly']\n"
          ]
        }
      ]
    },
    {
      "cell_type": "code",
      "source": [
        "import pandas as pd\n",
        "df = pd.DataFrame({\n",
        "    'Name': ['Alberto Franco','Gino Mcneill','Ryan Parkes', 'Eesha Hinton', 'Syed Wharton'],\n",
        "    'Date_Of_Birth ': ['17/05/2002','16/02/1999','25/09/1998','11/05/2002','15/09/1997'],\n",
        "    'Age': [18.5, 21.2, 22.5, 22, 23]\n",
        "})\n",
        "print(\"Original DataFrame:\")\n",
        "print(df)\n",
        "print(\"\\nGlobal usage of memory of the DataFrame:\")\n",
        "print(df.info(memory_usage = \"deep\"))\n",
        "print(\"\\nThe usage of memory of every column of the said DataFrame:\")\n",
        "print(df.memory_usage(deep = True))"
      ],
      "metadata": {
        "colab": {
          "base_uri": "https://localhost:8080/"
        },
        "id": "oO7UCh40z-OA",
        "outputId": "08cd808a-5687-47d9-9cda-465ba6f54491"
      },
      "execution_count": 77,
      "outputs": [
        {
          "output_type": "stream",
          "name": "stdout",
          "text": [
            "Original DataFrame:\n",
            "             Name Date_Of_Birth    Age\n",
            "0  Alberto Franco     17/05/2002  18.5\n",
            "1    Gino Mcneill     16/02/1999  21.2\n",
            "2     Ryan Parkes     25/09/1998  22.5\n",
            "3    Eesha Hinton     11/05/2002  22.0\n",
            "4    Syed Wharton     15/09/1997  23.0\n",
            "\n",
            "Global usage of memory of the DataFrame:\n",
            "<class 'pandas.core.frame.DataFrame'>\n",
            "RangeIndex: 5 entries, 0 to 4\n",
            "Data columns (total 3 columns):\n",
            " #   Column          Non-Null Count  Dtype  \n",
            "---  ------          --------------  -----  \n",
            " 0   Name            5 non-null      object \n",
            " 1   Date_Of_Birth   5 non-null      object \n",
            " 2   Age             5 non-null      float64\n",
            "dtypes: float64(1), object(2)\n",
            "memory usage: 849.0 bytes\n",
            "None\n",
            "\n",
            "The usage of memory of every column of the said DataFrame:\n",
            "Index             128\n",
            "Name              346\n",
            "Date_Of_Birth     335\n",
            "Age                40\n",
            "dtype: int64\n"
          ]
        }
      ]
    },
    {
      "cell_type": "code",
      "source": [
        "import pandas as pd\n",
        "sr1 = pd.Series(['php', 'python', 'java', 'c#', 'c++'])\n",
        "sr2 = pd.Series([1, 2, 3, 4, 5])\n",
        "print(\"Original Series:\")\n",
        "print(sr1)\n",
        "print(sr2)\n",
        "print(\"Combine above series to a dataframe:\")\n",
        "ser_df = pd.DataFrame(sr1, sr2).reset_index()\n",
        "print(ser_df.head())\n",
        "print(\"\\nUsing pandas concat:\")\n",
        "ser_df = pd.concat([sr1, sr2], axis = 1)\n",
        "print(ser_df.head())\n",
        "print(\"\\nUsing pandas DataFrame with a dictionary, gives a specific name to the columns:\")\n",
        "ser_df = pd.DataFrame({\"col1\":sr1, \"col2\":sr2})\n",
        "print(ser_df.head(5))"
      ],
      "metadata": {
        "colab": {
          "base_uri": "https://localhost:8080/"
        },
        "id": "7UdMMPPHz-Qe",
        "outputId": "bd97181d-c179-4461-995d-e6b056451ee6"
      },
      "execution_count": 78,
      "outputs": [
        {
          "output_type": "stream",
          "name": "stdout",
          "text": [
            "Original Series:\n",
            "0       php\n",
            "1    python\n",
            "2      java\n",
            "3        c#\n",
            "4       c++\n",
            "dtype: object\n",
            "0    1\n",
            "1    2\n",
            "2    3\n",
            "3    4\n",
            "4    5\n",
            "dtype: int64\n",
            "Combine above series to a dataframe:\n",
            "   index       0\n",
            "0      1  python\n",
            "1      2    java\n",
            "2      3      c#\n",
            "3      4     c++\n",
            "4      5     NaN\n",
            "\n",
            "Using pandas concat:\n",
            "        0  1\n",
            "0     php  1\n",
            "1  python  2\n",
            "2    java  3\n",
            "3      c#  4\n",
            "4     c++  5\n",
            "\n",
            "Using pandas DataFrame with a dictionary, gives a specific name to the columns:\n",
            "     col1  col2\n",
            "0     php     1\n",
            "1  python     2\n",
            "2    java     3\n",
            "3      c#     4\n",
            "4     c++     5\n"
          ]
        }
      ]
    },
    {
      "cell_type": "code",
      "source": [
        "import pandas as pd\n",
        "print(\"DataFrame: Contains random values:\")\n",
        "df1 = pd.util.testing.makeDataFrame() # contains random values\n",
        "print(df1)\n",
        "print(\"\\nDataFrame: Contains missing values:\")\n",
        "df2 = pd.util.testing.makeMissingDataframe() # contains missing values\n",
        "print(df2)\n",
        "print(\"\\nDataFrame: Contains datetime values:\")\n",
        "df3 = pd.util.testing.makeTimeDataFrame() # contains datetime values\n",
        "print(df3)\n",
        "print(\"\\nDataFrame: Contains mixed values:\")\n",
        "df4 = pd.util.testing.makeMixedDataFrame() # contains mixed values\n",
        "print(df4)"
      ],
      "metadata": {
        "colab": {
          "base_uri": "https://localhost:8080/"
        },
        "id": "MEHTs5IWz-Sl",
        "outputId": "0768f241-f3b3-40ff-8447-1406d3710ee4"
      },
      "execution_count": 79,
      "outputs": [
        {
          "output_type": "stream",
          "name": "stdout",
          "text": [
            "DataFrame: Contains random values:\n",
            "                   A         B         C         D\n",
            "zM43cNmdu0 -2.197386 -0.176073  1.341992 -1.090186\n",
            "eoxQPeOg7F  1.695418 -1.524562  0.733250 -0.318974\n",
            "vVoj0fn3G9  0.758143 -0.148437 -1.078814 -1.733196\n",
            "MR4we2LDL7 -0.997154  1.065473 -0.813261  0.884142\n",
            "n1gEkYCopu -1.513282  0.041247  0.780522  0.446262\n",
            "ZBcroag0ah  1.309880 -0.867743  0.447741  0.448243\n",
            "UPbJjNLzow  0.803523 -1.772667 -1.971658 -0.434396\n",
            "3TuIHcWsMB -0.253360  0.120306 -0.314056 -0.051291\n",
            "EQlHvX2UrE  0.135830  0.007888 -1.801440 -0.206569\n",
            "4bQbakomQI  0.168200 -0.039432 -1.596794 -0.360542\n",
            "CmjXmpWNXc -0.554932  1.555653  0.201936  0.525688\n",
            "rssv5Xst0o -1.145040 -0.426804  0.798792  0.860608\n",
            "aTJdArINj1 -0.297063  1.194944  0.507077  0.035541\n",
            "j9KpPlNHCl -0.664850  0.303102  1.958537  0.558938\n",
            "Y0eAsyNPuG -0.352111 -0.068115  0.364324  0.694908\n",
            "e20QFq3Uge -0.429195  0.086808 -0.691745 -0.114812\n",
            "YwGluXRPCA  0.619788 -0.086545 -0.822164 -0.063212\n",
            "rpyBBU1Cxr -0.144220  0.168116  0.582384  1.282518\n",
            "YnEHEkYLDv -1.596787 -1.271949 -1.638730 -0.872841\n",
            "RVEn9caoB8 -1.331529  1.157733 -1.084764  0.916198\n",
            "K4ZMajBnIP -1.208048  0.386855  0.764240  0.639789\n",
            "CDwaWOrP1z -1.188839  0.997088  0.329920 -1.119942\n",
            "fxVR1A8GdL  1.640454 -1.531082 -1.401850 -1.500136\n",
            "HCCnGlVLDA  0.602937 -0.341733 -1.610911 -0.420244\n",
            "NAmNpyLgE1 -1.526817 -0.598090 -0.087889 -1.956499\n",
            "IpAog8NvL1 -0.829053 -0.111295 -1.481469 -1.168700\n",
            "CZLj1ZKQ5h -2.128488 -0.258229 -1.350826 -1.226253\n",
            "cYD5cpUrdi -0.686683 -2.653704  0.887355 -0.674431\n",
            "gzIPaGMtjM -0.682568  1.689296 -0.415305  0.019001\n",
            "8eNwsAvOBz  0.260314 -1.024195 -0.633573 -0.184380\n",
            "\n",
            "DataFrame: Contains missing values:\n",
            "                   A         B         C         D\n",
            "1S77eqkwos -1.878057  0.696677  0.364162 -1.849999\n",
            "TSI7faZVm1  0.536429 -1.623108  1.093801  0.114346\n",
            "8BDmNvgvAq  2.001705  0.988171 -0.646333  1.219004\n",
            "8ZYbYdZQJl -0.832573 -0.592635  0.686968       NaN\n",
            "A3tpPQ6bzb       NaN -0.256143 -0.116526 -1.637552\n",
            "2KZlXdldLJ       NaN  1.652680  0.212515 -0.781854\n",
            "KZLQOJFz7K -0.057194       NaN -1.318355  1.361348\n",
            "MvoF6DPHBk -0.146327  1.557064 -1.193363  0.237868\n",
            "In5gsZ8929 -1.309728  0.675477 -2.246255       NaN\n",
            "athehWcjHX  0.704604  0.783573 -0.086176       NaN\n",
            "oHKbBotX5u -0.854775  0.909387  1.539698 -0.348068\n",
            "pLvIgbM6LO -0.939445  0.055973 -0.632160 -2.536159\n",
            "Lzo3AhTImq -0.189169  0.276234  0.237690  1.256605\n",
            "YYX8Ukbd6f -0.283351  2.151376 -0.061712  0.533572\n",
            "V2dUVYIznj -0.051258  1.324543 -2.554272 -0.185725\n",
            "UZRRkmG3jR  0.736815  0.450264 -2.423344 -1.280465\n",
            "pDYh5jfDbl -0.277121 -0.410248 -0.625313 -0.772823\n",
            "5lapoEeqEJ -1.851501  1.559687  0.082319       NaN\n",
            "f7iiAcbi8p -1.455731 -0.309607  2.722531 -0.079722\n",
            "99eq072Y3K  0.131935  2.042671       NaN -1.173077\n",
            "KNTRHwAXkt  1.087331  1.621340 -0.003661  0.328151\n",
            "NSIiyqccTo -0.120821 -0.136687       NaN       NaN\n",
            "2lX9FcdeEa -1.409572       NaN -1.250167  1.007812\n",
            "Z4DMjDlqOm -0.690681 -0.053633 -1.824851  0.968778\n",
            "kAVeUDGAa2  0.789390 -0.814737 -0.304745 -0.683436\n",
            "MmVAUsDxnT -0.367378 -0.966099 -0.726496 -0.428236\n",
            "yOvXNSv18t  1.561203  0.205027 -0.250920 -0.319930\n",
            "4ziA1ePurK -1.072071  1.021834  1.188600 -0.666313\n",
            "FBcq29xLgy       NaN -0.032991  0.717097  0.679746\n",
            "UM9szzSrEg -0.957244  1.130334 -0.775796 -0.098813\n",
            "\n",
            "DataFrame: Contains datetime values:\n",
            "                   A         B         C         D\n",
            "2000-01-03  1.126738  1.238823  0.739609  1.087148\n",
            "2000-01-04 -1.368546 -0.526121 -1.145011 -0.432836\n",
            "2000-01-05  0.830585 -1.223948  1.915192  0.547766\n",
            "2000-01-06  0.810005 -2.605401  0.681290  0.832892\n",
            "2000-01-07 -0.221627 -0.700620  0.368154 -0.271310\n",
            "2000-01-10  0.369642 -1.069163 -0.212443  0.583490\n",
            "2000-01-11  0.576218 -1.920229 -0.242902 -1.010408\n",
            "2000-01-12 -0.362812  1.436005  1.237664  1.078593\n",
            "2000-01-13 -0.113965 -0.154583  1.020805  0.671089\n",
            "2000-01-14  0.332759  0.095409  0.687507  0.823137\n",
            "2000-01-17 -1.635726  0.462488 -0.854054  0.501576\n",
            "2000-01-18 -1.500322 -0.220795 -1.436735  0.773682\n",
            "2000-01-19  0.606331 -1.757080 -1.823880  0.022408\n",
            "2000-01-20  0.361471 -0.034027  0.161263 -1.401595\n",
            "2000-01-21 -0.337300  0.275278  1.292335 -1.761266\n",
            "2000-01-24  1.114207  0.437403 -0.017058 -2.553293\n",
            "2000-01-25 -2.255825  0.881212 -0.333404  0.002196\n",
            "2000-01-26 -0.418546  0.148147  0.901745  0.143041\n",
            "2000-01-27  2.327167  0.933868  0.514649  0.212710\n",
            "2000-01-28 -1.537075 -1.058657  1.125305 -0.317295\n",
            "2000-01-31  0.492760  0.862716  0.164510  2.232179\n",
            "2000-02-01 -0.659842  0.062442 -1.021683 -0.656250\n",
            "2000-02-02  1.281484 -0.386450  1.311752  0.745997\n",
            "2000-02-03  0.772179  0.580891  0.020705 -1.554067\n",
            "2000-02-04  0.412262  0.109328 -1.165972 -0.808542\n",
            "2000-02-07 -0.625493 -1.520593  0.727123 -2.091992\n",
            "2000-02-08 -0.197127  0.990363 -0.631565  2.152416\n",
            "2000-02-09  0.472177 -0.185326  0.110001 -0.098081\n",
            "2000-02-10  1.042922 -2.175629  0.251685  2.511485\n",
            "2000-02-11  0.210695 -0.724419 -0.020392 -0.983342\n",
            "\n",
            "DataFrame: Contains mixed values:\n",
            "     A    B     C          D\n",
            "0  0.0  0.0  foo1 2009-01-01\n",
            "1  1.0  1.0  foo2 2009-01-02\n",
            "2  2.0  0.0  foo3 2009-01-05\n",
            "3  3.0  1.0  foo4 2009-01-06\n",
            "4  4.0  0.0  foo5 2009-01-07\n"
          ]
        },
        {
          "output_type": "stream",
          "name": "stderr",
          "text": [
            "/usr/local/lib/python3.7/dist-packages/pandas/util/__init__.py:15: FutureWarning: pandas.util.testing is deprecated. Use the functions in the public API at pandas.testing instead.\n",
            "  import pandas.util.testing\n"
          ]
        }
      ]
    },
    {
      "cell_type": "code",
      "source": [
        "import pandas as pd\n",
        "import numpy as np\n",
        "sdata = {\"c1\":[120, 130 ,140, 150, np.nan, 170], \"c2\":[7, np.nan, 10, np.nan, 5.5, 16.5]}\n",
        "df = pd.DataFrame(sdata)\n",
        "df.index = pd.util.testing.makeDateIndex()[0:6]\n",
        "print(\"Original DataFrame:\")\n",
        "print(df)\n",
        "print(\"\\nDataFrame after interpolate:\")\n",
        "print(df.interpolate())"
      ],
      "metadata": {
        "colab": {
          "base_uri": "https://localhost:8080/"
        },
        "id": "zkrpZtJiz-Uq",
        "outputId": "06e14752-7b20-4f92-8914-5411f0d586f6"
      },
      "execution_count": 80,
      "outputs": [
        {
          "output_type": "stream",
          "name": "stdout",
          "text": [
            "Original DataFrame:\n",
            "               c1    c2\n",
            "2000-01-03  120.0   7.0\n",
            "2000-01-04  130.0   NaN\n",
            "2000-01-05  140.0  10.0\n",
            "2000-01-06  150.0   NaN\n",
            "2000-01-07    NaN   5.5\n",
            "2000-01-10  170.0  16.5\n",
            "\n",
            "DataFrame after interpolate:\n",
            "               c1     c2\n",
            "2000-01-03  120.0   7.00\n",
            "2000-01-04  130.0   8.50\n",
            "2000-01-05  140.0  10.00\n",
            "2000-01-06  150.0   7.75\n",
            "2000-01-07  160.0   5.50\n",
            "2000-01-10  170.0  16.50\n"
          ]
        }
      ]
    },
    {
      "cell_type": "code",
      "source": [
        " import pandas as pd\n",
        "df = pd.DataFrame({'W':[68,75,86,80,66],'X':[78,85,96,80,86], 'Y':[84,94,89,83,86],'Z':[86,97,96,72,83]});\n",
        "print(\"Original DataFrame\")\n",
        "print(df)\n",
        "maxx = df[\"W\"].max()\n",
        "print(\"\\nValues which are less than maximum value of 'W' column\")\n",
        "print(df.query(\"W < @maxx\"))"
      ],
      "metadata": {
        "colab": {
          "base_uri": "https://localhost:8080/"
        },
        "id": "vaTKfuUoz-W4",
        "outputId": "34f2fea3-9a8a-4ad6-d8b1-5221d9c284c4"
      },
      "execution_count": 82,
      "outputs": [
        {
          "output_type": "stream",
          "name": "stdout",
          "text": [
            "Original DataFrame\n",
            "    W   X   Y   Z\n",
            "0  68  78  84  86\n",
            "1  75  85  94  97\n",
            "2  86  96  89  96\n",
            "3  80  80  83  72\n",
            "4  66  86  86  83\n",
            "\n",
            "Values which are less than maximum value of 'W' column\n",
            "    W   X   Y   Z\n",
            "0  68  78  84  86\n",
            "1  75  85  94  97\n",
            "3  80  80  83  72\n",
            "4  66  86  86  83\n"
          ]
        }
      ]
    },
    {
      "cell_type": "code",
      "source": [
        "import pandas as pd\n",
        "df = pd.DataFrame({'W':[68,75,86,80,66],'X':[78,85,96,80,86], 'Y':[84,94,89,83,86],'Z':[86,97,96,72,83]});\n",
        "print(\"Original DataFrame\")\n",
        "print(df)\n",
        "maxx = df[\"W\"].max()\n",
        "print(\"\\nValues which are less than maximum value of 'W' column\")\n",
        "print(df.query(\"W < @maxx\"))"
      ],
      "metadata": {
        "colab": {
          "base_uri": "https://localhost:8080/"
        },
        "id": "TCfwwbdfzjfi",
        "outputId": "2159b2e1-ef92-4850-dfe2-22cd41d390e4"
      },
      "execution_count": 83,
      "outputs": [
        {
          "output_type": "stream",
          "name": "stdout",
          "text": [
            "Original DataFrame\n",
            "    W   X   Y   Z\n",
            "0  68  78  84  86\n",
            "1  75  85  94  97\n",
            "2  86  96  89  96\n",
            "3  80  80  83  72\n",
            "4  66  86  86  83\n",
            "\n",
            "Values which are less than maximum value of 'W' column\n",
            "    W   X   Y   Z\n",
            "0  68  78  84  86\n",
            "1  75  85  94  97\n",
            "3  80  80  83  72\n",
            "4  66  86  86  83\n"
          ]
        }
      ]
    },
    {
      "cell_type": "code",
      "source": [
        "import pandas as pd\n",
        "df = pd.DataFrame({\n",
        "    'Name': ['Alberto Franco','Gino Mcneill','Ryan Parkes', 'Eesha Hinton', 'Gino Mcneill'],\n",
        "    'Date_Of_Birth ': ['17/05/2002','16/02/1999','25/09/1998','11/05/2002','15/09/1997'],\n",
        "    'Age': [18.5, 21.2, 22.5, 22, 23]\n",
        "})\n",
        "print(\"Original DataFrame:\")\n",
        "print(df)\n",
        "label1, unique1 = pd.factorize(df['Name'])\n",
        "print(\"\\nNumeric representation of an array by identifying distinct values:\")\n",
        "print(label1)\n",
        "print(unique1)"
      ],
      "metadata": {
        "colab": {
          "base_uri": "https://localhost:8080/"
        },
        "id": "eLPT50IiyCGb",
        "outputId": "777abd7d-988e-417a-993b-d072c08c5607"
      },
      "execution_count": 84,
      "outputs": [
        {
          "output_type": "stream",
          "name": "stdout",
          "text": [
            "Original DataFrame:\n",
            "             Name Date_Of_Birth    Age\n",
            "0  Alberto Franco     17/05/2002  18.5\n",
            "1    Gino Mcneill     16/02/1999  21.2\n",
            "2     Ryan Parkes     25/09/1998  22.5\n",
            "3    Eesha Hinton     11/05/2002  22.0\n",
            "4    Gino Mcneill     15/09/1997  23.0\n",
            "\n",
            "Numeric representation of an array by identifying distinct values:\n",
            "[0 1 2 3 1]\n",
            "Index(['Alberto Franco', 'Gino Mcneill', 'Ryan Parkes', 'Eesha Hinton'], dtype='object')\n"
          ]
        }
      ]
    },
    {
      "cell_type": "code",
      "source": [
        "import pandas as pd\n",
        " \n",
        "print(\"Data from clipboard to DataFrame:\")\n",
        "print(df)"
      ],
      "metadata": {
        "colab": {
          "base_uri": "https://localhost:8080/"
        },
        "id": "n_iSkKlD1XXL",
        "outputId": "08462fec-5122-4778-9f28-92bc9e0d54da"
      },
      "execution_count": 91,
      "outputs": [
        {
          "output_type": "stream",
          "name": "stdout",
          "text": [
            "Data from clipboard to DataFrame:\n",
            "             Name Date_Of_Birth    Age\n",
            "0  Alberto Franco     17/05/2002  18.5\n",
            "1    Gino Mcneill     16/02/1999  21.2\n",
            "2     Ryan Parkes     25/09/1998  22.5\n",
            "3    Eesha Hinton     11/05/2002  22.0\n",
            "4    Gino Mcneill     15/09/1997  23.0\n"
          ]
        }
      ]
    },
    {
      "cell_type": "code",
      "source": [
        " import pandas as pd\n",
        " \n",
        "print(\"Data from clipboard to DataFrame:\")\n",
        "print(df)\n",
        " "
      ],
      "metadata": {
        "colab": {
          "base_uri": "https://localhost:8080/"
        },
        "id": "j3-ut9JT1eDF",
        "outputId": "0c8d1af5-9245-425d-c318-7c0c06b925a6"
      },
      "execution_count": 92,
      "outputs": [
        {
          "output_type": "stream",
          "name": "stdout",
          "text": [
            "Data from clipboard to DataFrame:\n",
            "             Name Date_Of_Birth    Age\n",
            "0  Alberto Franco     17/05/2002  18.5\n",
            "1    Gino Mcneill     16/02/1999  21.2\n",
            "2     Ryan Parkes     25/09/1998  22.5\n",
            "3    Eesha Hinton     11/05/2002  22.0\n",
            "4    Gino Mcneill     15/09/1997  23.0\n"
          ]
        }
      ]
    },
    {
      "cell_type": "code",
      "source": [
        "import pandas as pd\n",
        "d = {'col1': [1, 2, 3, 4, 7, 11], 'col2': [4, 5, 6, 9, 5, 0], 'col3': [7, 5, 8, 12, 1,11]}\n",
        "df = pd.DataFrame(data=d)\n",
        "print(\"Original DataFrame\")\n",
        "print(df)\n",
        "print(\"\\nLowest n records within each group of a DataFrame:\")\n",
        "df1 = df.nsmallest(3, 'col1')\n",
        "print(df1)\n",
        "df2 = df.nsmallest(3, 'col2')\n",
        "print(df2)\n",
        "df3 = df.nsmallest(3, 'col3')\n",
        "print(df3)"
      ],
      "metadata": {
        "colab": {
          "base_uri": "https://localhost:8080/"
        },
        "id": "ArEUHIkP1eFc",
        "outputId": "301dd9d7-7ab5-4ec9-94db-7e0a8ce60bf6"
      },
      "execution_count": 93,
      "outputs": [
        {
          "output_type": "stream",
          "name": "stdout",
          "text": [
            "Original DataFrame\n",
            "   col1  col2  col3\n",
            "0     1     4     7\n",
            "1     2     5     5\n",
            "2     3     6     8\n",
            "3     4     9    12\n",
            "4     7     5     1\n",
            "5    11     0    11\n",
            "\n",
            "Lowest n records within each group of a DataFrame:\n",
            "   col1  col2  col3\n",
            "0     1     4     7\n",
            "1     2     5     5\n",
            "2     3     6     8\n",
            "   col1  col2  col3\n",
            "5    11     0    11\n",
            "0     1     4     7\n",
            "1     2     5     5\n",
            "   col1  col2  col3\n",
            "4     7     5     1\n",
            "1     2     5     5\n",
            "0     1     4     7\n"
          ]
        }
      ]
    },
    {
      "cell_type": "code",
      "source": [
        ""
      ],
      "metadata": {
        "id": "464Gp_0M1eHu"
      },
      "execution_count": null,
      "outputs": []
    },
    {
      "cell_type": "code",
      "source": [
        ""
      ],
      "metadata": {
        "id": "B3potBcV1eKD"
      },
      "execution_count": null,
      "outputs": []
    },
    {
      "cell_type": "code",
      "source": [
        ""
      ],
      "metadata": {
        "id": "bNRqILy31XZX"
      },
      "execution_count": null,
      "outputs": []
    }
  ]
}