{
  "nbformat": 4,
  "nbformat_minor": 0,
  "metadata": {
    "colab": {
      "provenance": [],
      "authorship_tag": "ABX9TyOzdOvE2FmzZaijBtQr/9NS",
      "include_colab_link": true
    },
    "kernelspec": {
      "name": "python3",
      "display_name": "Python 3"
    },
    "language_info": {
      "name": "python"
    }
  },
  "cells": [
    {
      "cell_type": "markdown",
      "metadata": {
        "id": "view-in-github",
        "colab_type": "text"
      },
      "source": [
        "<a href=\"https://colab.research.google.com/github/s11000/pandas-data-frame/blob/main/%20KALMAN_FILTER.ipynb\" target=\"_parent\"><img src=\"https://colab.research.google.com/assets/colab-badge.svg\" alt=\"Open In Colab\"/></a>"
      ]
    },
    {
      "cell_type": "code",
      "execution_count": 4,
      "metadata": {
        "id": "c9g_HCRtfAuT"
      },
      "outputs": [],
      "source": [
        "from filterpy.kalman import KalmanFilter\n",
        "f = KalmanFilter (dim_x=2, dim_z=1)"
      ]
    },
    {
      "source": [
        "!pip install filterpy"
      ],
      "cell_type": "code",
      "metadata": {
        "colab": {
          "base_uri": "https://localhost:8080/"
        },
        "id": "YR65kP8sfNN-",
        "outputId": "ff0754b5-0823-4e0c-d4cb-afa7ec5af37e"
      },
      "execution_count": 2,
      "outputs": [
        {
          "output_type": "stream",
          "name": "stdout",
          "text": [
            "Collecting filterpy\n",
            "  Downloading filterpy-1.4.5.zip (177 kB)\n",
            "\u001b[?25l     \u001b[90m━━━━━━━━━━━━━━━━━━━━━━━━━━━━━━━━━━━━━━━━\u001b[0m \u001b[32m0.0/178.0 kB\u001b[0m \u001b[31m?\u001b[0m eta \u001b[36m-:--:--\u001b[0m\r\u001b[2K     \u001b[91m━━━━━━━━━━━━━━━━━━━━\u001b[0m\u001b[91m╸\u001b[0m\u001b[90m━━━━━━━━━━━━━━━━━━━\u001b[0m \u001b[32m92.2/178.0 kB\u001b[0m \u001b[31m2.7 MB/s\u001b[0m eta \u001b[36m0:00:01\u001b[0m\r\u001b[2K     \u001b[90m━━━━━━━━━━━━━━━━━━━━━━━━━━━━━━━━━━━━━━━━\u001b[0m \u001b[32m178.0/178.0 kB\u001b[0m \u001b[31m3.2 MB/s\u001b[0m eta \u001b[36m0:00:00\u001b[0m\n",
            "\u001b[?25h  Preparing metadata (setup.py) ... \u001b[?25l\u001b[?25hdone\n",
            "Requirement already satisfied: numpy in /usr/local/lib/python3.10/dist-packages (from filterpy) (1.25.2)\n",
            "Requirement already satisfied: scipy in /usr/local/lib/python3.10/dist-packages (from filterpy) (1.11.4)\n",
            "Requirement already satisfied: matplotlib in /usr/local/lib/python3.10/dist-packages (from filterpy) (3.7.1)\n",
            "Requirement already satisfied: contourpy>=1.0.1 in /usr/local/lib/python3.10/dist-packages (from matplotlib->filterpy) (1.2.1)\n",
            "Requirement already satisfied: cycler>=0.10 in /usr/local/lib/python3.10/dist-packages (from matplotlib->filterpy) (0.12.1)\n",
            "Requirement already satisfied: fonttools>=4.22.0 in /usr/local/lib/python3.10/dist-packages (from matplotlib->filterpy) (4.53.0)\n",
            "Requirement already satisfied: kiwisolver>=1.0.1 in /usr/local/lib/python3.10/dist-packages (from matplotlib->filterpy) (1.4.5)\n",
            "Requirement already satisfied: packaging>=20.0 in /usr/local/lib/python3.10/dist-packages (from matplotlib->filterpy) (24.1)\n",
            "Requirement already satisfied: pillow>=6.2.0 in /usr/local/lib/python3.10/dist-packages (from matplotlib->filterpy) (9.4.0)\n",
            "Requirement already satisfied: pyparsing>=2.3.1 in /usr/local/lib/python3.10/dist-packages (from matplotlib->filterpy) (3.1.2)\n",
            "Requirement already satisfied: python-dateutil>=2.7 in /usr/local/lib/python3.10/dist-packages (from matplotlib->filterpy) (2.8.2)\n",
            "Requirement already satisfied: six>=1.5 in /usr/local/lib/python3.10/dist-packages (from python-dateutil>=2.7->matplotlib->filterpy) (1.16.0)\n",
            "Building wheels for collected packages: filterpy\n",
            "  Building wheel for filterpy (setup.py) ... \u001b[?25l\u001b[?25hdone\n",
            "  Created wheel for filterpy: filename=filterpy-1.4.5-py3-none-any.whl size=110458 sha256=d6ceafa791b2c7144759e9099a3c5023002ec19ee89e5396ebf6fa1ceea99649\n",
            "  Stored in directory: /root/.cache/pip/wheels/0f/0c/ea/218f266af4ad626897562199fbbcba521b8497303200186102\n",
            "Successfully built filterpy\n",
            "Installing collected packages: filterpy\n",
            "Successfully installed filterpy-1.4.5\n"
          ]
        }
      ]
    },
    {
      "source": [
        "from filterpy.kalman import KalmanFilter\n",
        "f = KalmanFilter (dim_x=2, dim_z=1)\n",
        "# This should now work without raising an error"
      ],
      "cell_type": "code",
      "metadata": {
        "id": "hbDtxWwUfQRv"
      },
      "execution_count": 3,
      "outputs": []
    },
    {
      "source": [
        "import numpy as np  # Import NumPy\n",
        "\n",
        "f.x = np.array([[2.],    # position\n",
        "                [0.]])   # velocity"
      ],
      "cell_type": "code",
      "metadata": {
        "id": "O6DhnHLwfa3W"
      },
      "execution_count": 6,
      "outputs": []
    },
    {
      "cell_type": "code",
      "source": [
        "f.x = np.array([2., 0.])"
      ],
      "metadata": {
        "id": "o2rwQOdtfBxH"
      },
      "execution_count": 7,
      "outputs": []
    },
    {
      "cell_type": "code",
      "source": [
        "f.F = np.array([[1.,1.],\n",
        "                [0.,1.]])"
      ],
      "metadata": {
        "id": "qUNMBD_mfBux"
      },
      "execution_count": 8,
      "outputs": []
    },
    {
      "cell_type": "code",
      "source": [
        "f.H = np.array([[1.,0.]])"
      ],
      "metadata": {
        "id": "r9XyFTTyfBsg"
      },
      "execution_count": 9,
      "outputs": []
    },
    {
      "cell_type": "code",
      "source": [
        "f.P *= 1000."
      ],
      "metadata": {
        "id": "k4lKjaI-fBqG"
      },
      "execution_count": 10,
      "outputs": []
    },
    {
      "cell_type": "code",
      "source": [
        "f.P = np.array([[1000.,    0.],\n",
        "                [   0., 1000.] ])"
      ],
      "metadata": {
        "id": "tuskx364fBnw"
      },
      "execution_count": 11,
      "outputs": []
    },
    {
      "cell_type": "code",
      "source": [
        "f.R = 5"
      ],
      "metadata": {
        "id": "GiunkGOHfBlY"
      },
      "execution_count": 12,
      "outputs": []
    },
    {
      "cell_type": "code",
      "source": [
        "f.R = np.array([[5.]])"
      ],
      "metadata": {
        "id": "LkGGE4o_fBi2"
      },
      "execution_count": 13,
      "outputs": []
    },
    {
      "cell_type": "code",
      "source": [
        "from filterpy.common import Q_discrete_white_noise\n",
        "f.Q = Q_discrete_white_noise(dim=2, dt=0.1, var=0.13)"
      ],
      "metadata": {
        "id": "Tq9WsfgWfBgZ"
      },
      "execution_count": 14,
      "outputs": []
    },
    {
      "source": [
        "def get_sensor_reading():\n",
        "    # Code to generate or fetch sensor readings\n",
        "    # Replace this with your actual sensor reading logic\n",
        "    reading = np.array([[1.2]])  # Example reading, now a column vector with a single element\n",
        "    return reading\n",
        "\n",
        "z = get_sensor_reading()\n",
        "f.predict()\n",
        "f.update(z)\n",
        "\n",
        "# Replace with your actual function\n",
        "def do_something_with_estimate(x):\n",
        "    print(x)\n",
        "\n",
        "do_something_with_estimate(f.x)"
      ],
      "cell_type": "code",
      "metadata": {
        "colab": {
          "base_uri": "https://localhost:8080/"
        },
        "id": "qQwIRGHGgRFW",
        "outputId": "d8543759-81ef-4501-fdf1-7da03941f944"
      },
      "execution_count": 20,
      "outputs": [
        {
          "output_type": "stream",
          "name": "stdout",
          "text": [
            "[ 1.2003998  -0.23988022]\n"
          ]
        }
      ]
    }
  ]
}