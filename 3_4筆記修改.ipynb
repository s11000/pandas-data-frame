{
  "nbformat": 4,
  "nbformat_minor": 0,
  "metadata": {
    "colab": {
      "name": "3/4筆記修改.ipynb",
      "provenance": [],
      "authorship_tag": "ABX9TyPUQI4IsVMU3dKEpgLFqCTw",
      "include_colab_link": true
    },
    "kernelspec": {
      "name": "python3",
      "display_name": "Python 3"
    },
    "language_info": {
      "name": "python"
    }
  },
  "cells": [
    {
      "cell_type": "markdown",
      "metadata": {
        "id": "view-in-github",
        "colab_type": "text"
      },
      "source": [
        "<a href=\"https://colab.research.google.com/github/s11000/pandas-data-frame/blob/main/3_4%E7%AD%86%E8%A8%98%E4%BF%AE%E6%94%B9.ipynb\" target=\"_parent\"><img src=\"https://colab.research.google.com/assets/colab-badge.svg\" alt=\"Open In Colab\"/></a>"
      ]
    },
    {
      "cell_type": "code",
      "execution_count": 1,
      "metadata": {
        "id": "DBnL7dIKjsxw"
      },
      "outputs": [],
      "source": [
        " import numpy as np\n",
        "\n",
        " "
      ]
    },
    {
      "cell_type": "code",
      "source": [
        "ar2=np.array([2,-1,6,3], dtype='float'); \n",
        "ar2\n",
        "ar2.dtype"
      ],
      "metadata": {
        "colab": {
          "base_uri": "https://localhost:8080/"
        },
        "id": "lM1PZ4NDlVKR",
        "outputId": "dcb4fa04-00fe-46d9-c2ed-4fcac8140369"
      },
      "execution_count": 4,
      "outputs": [
        {
          "output_type": "execute_result",
          "data": {
            "text/plain": [
              "dtype('float64')"
            ]
          },
          "metadata": {},
          "execution_count": 4
        }
      ]
    },
    {
      "cell_type": "code",
      "source": [
        ""
      ],
      "metadata": {
        "id": "73XHG_DClVO4"
      },
      "execution_count": null,
      "outputs": []
    },
    {
      "cell_type": "code",
      "source": [
        ""
      ],
      "metadata": {
        "id": "a_Uax4pOlVRF"
      },
      "execution_count": null,
      "outputs": []
    },
    {
      "cell_type": "code",
      "source": [
        ""
      ],
      "metadata": {
        "id": "cBQUYTZ9lVVL"
      },
      "execution_count": null,
      "outputs": []
    }
  ]
}