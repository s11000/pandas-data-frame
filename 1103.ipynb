{
  "nbformat": 4,
  "nbformat_minor": 0,
  "metadata": {
    "colab": {
      "provenance": [],
      "authorship_tag": "ABX9TyO1HSso72vfPEtdiMInzVM0",
      "include_colab_link": true
    },
    "kernelspec": {
      "name": "python3",
      "display_name": "Python 3"
    },
    "language_info": {
      "name": "python"
    }
  },
  "cells": [
    {
      "cell_type": "markdown",
      "metadata": {
        "id": "view-in-github",
        "colab_type": "text"
      },
      "source": [
        "<a href=\"https://colab.research.google.com/github/s11000/pandas-data-frame/blob/main/1103.ipynb\" target=\"_parent\"><img src=\"https://colab.research.google.com/assets/colab-badge.svg\" alt=\"Open In Colab\"/></a>"
      ]
    },
    {
      "cell_type": "code",
      "execution_count": 13,
      "metadata": {
        "colab": {
          "base_uri": "https://localhost:8080/",
          "height": 279
        },
        "id": "h82kog8SJQvw",
        "outputId": "2a429be1-ff1b-44c2-90ae-767ba649c239"
      },
      "outputs": [
        {
          "output_type": "display_data",
          "data": {
            "text/plain": [
              "<Figure size 432x288 with 1 Axes>"
            ],
            "image/png": "[encoded data removed]"
          },
          "metadata": {
            "needs_background": "light"
          }
        }
      ],
      "source": [
        "import seaborn as sns\n",
        "import matplotlib.pyplot as plt\n",
        "df = sns.load_dataset('iris',data_home='seaborn-data',cache=True)\n",
        "sns.boxplot(x=df[\"species\"], y=df[\"sepal_length\"])\n",
        "plt.show()"
      ]
    },
    {
      "cell_type": "code",
      "source": [
        " \n",
        "sns.boxplot(x=df[\"species\"],y=df[\"sepal_length\"],showmeans=True,\n",
        " meanprops={\n",
        "     \"marker\":\"x\",\n",
        "     \"markeredgecolor\":\"black\",\n",
        "     \"markersize\":\"8\"\n",
        " })\n",
        "plt.show()"
      ],
      "metadata": {
        "colab": {
          "base_uri": "https://localhost:8080/",
          "height": 279
        },
        "id": "pwAvaJW5JRvM",
        "outputId": "d3426aff-2c8b-476a-a2fd-5d118a846d9d"
      },
      "execution_count": 20,
      "outputs": [
        {
          "output_type": "display_data",
          "data": {
            "text/plain": [
              "<Figure size 432x288 with 1 Axes>"
            ],
            "image/png": "[encoded data removed]"
          },
          "metadata": {
            "needs_background": "light"
          }
        }
      ]
    },
    {
      "cell_type": "code",
      "source": [
        " \n",
        "sns.boxplot(x=df[\"sepal_length\"],y=df[\"species\"],showmeans=True,\n",
        " meanprops={\n",
        "     \"marker\":\"x\",\n",
        "     \"markeredgecolor\":\"black\",\n",
        "     \"markersize\":\"8\"\n",
        " })\n",
        "plt.show()"
      ],
      "metadata": {
        "colab": {
          "base_uri": "https://localhost:8080/",
          "height": 280
        },
        "id": "EcjRii1VUjFN",
        "outputId": "b3c83485-5cde-4eb2-b109-326c7a9c44ca"
      },
      "execution_count": 29,
      "outputs": [
        {
          "output_type": "display_data",
          "data": {
            "text/plain": [
              "<Figure size 432x288 with 1 Axes>"
            ],
            "image/png": "[encoded data removed]"
          },
          "metadata": {
            "needs_background": "light"
          }
        }
      ]
    },
    {
      "cell_type": "code",
      "source": [
        "import numpy as np"
      ],
      "metadata": {
        "id": "sm-PLOgUV0gr"
      },
      "execution_count": 33,
      "outputs": []
    },
    {
      "cell_type": "code",
      "source": [
        "ages = np.random.randint(23, high=92, size=200)\n",
        "ages\n"
      ],
      "metadata": {
        "colab": {
          "base_uri": "https://localhost:8080/"
        },
        "id": "5YPQyxqVJRs1",
        "outputId": "73c1439e-fef1-4ddc-fb1b-6d52815413d1"
      },
      "execution_count": 34,
      "outputs": [
        {
          "output_type": "execute_result",
          "data": {
            "text/plain": [
              "array([45, 61, 83, 65, 75, 26, 51, 48, 91, 76, 76, 91, 53, 84, 82, 30, 51,\n",
              "       83, 78, 51, 82, 80, 46, 91, 63, 86, 34, 69, 89, 68, 34, 88, 69, 24,\n",
              "       84, 50, 35, 54, 59, 64, 73, 27, 40, 40, 40, 80, 36, 24, 84, 49, 76,\n",
              "       66, 58, 83, 55, 45, 27, 88, 76, 42, 62, 69, 75, 58, 30, 45, 70, 29,\n",
              "       80, 23, 46, 85, 68, 42, 42, 51, 33, 43, 68, 87, 33, 69, 39, 59, 52,\n",
              "       23, 51, 38, 52, 70, 81, 30, 79, 90, 75, 44, 67, 75, 57, 38, 68, 33,\n",
              "       78, 91, 66, 83, 45, 64, 38, 80, 55, 87, 57, 48, 79, 53, 60, 43, 64,\n",
              "       30, 69, 46, 60, 88, 87, 29, 32, 77, 71, 23, 30, 71, 83, 79, 30, 71,\n",
              "       86, 57, 40, 64, 48, 44, 25, 30, 82, 51, 31, 44, 34, 61, 74, 78, 86,\n",
              "       61, 31, 80, 55, 37, 87, 56, 36, 37, 61, 55, 69, 33, 55, 32, 63, 89,\n",
              "       24, 37, 36, 43, 55, 57, 51, 85, 24, 44, 48, 36, 49, 91, 84, 62, 50,\n",
              "       69, 41, 38, 62, 31, 58, 67, 63, 79, 80, 42, 26, 45])"
            ]
          },
          "metadata": {},
          "execution_count": 34
        }
      ]
    },
    {
      "cell_type": "code",
      "source": [
        "from scipy import stats\n",
        "stats.mode(ages)"
      ],
      "metadata": {
        "colab": {
          "base_uri": "https://localhost:8080/"
        },
        "id": "ugOlfHfeVo1y",
        "outputId": "fd871a21-2d04-4d50-c9e7-57a9cb50381d"
      },
      "execution_count": 35,
      "outputs": [
        {
          "output_type": "execute_result",
          "data": {
            "text/plain": [
              "ModeResult(mode=array([30]), count=array([7]))"
            ]
          },
          "metadata": {},
          "execution_count": 35
        }
      ]
    },
    {
      "cell_type": "code",
      "source": [
        "import numpy as np"
      ],
      "metadata": {
        "id": "22h-eD8WJRqe"
      },
      "execution_count": 36,
      "outputs": []
    },
    {
      "cell_type": "code",
      "source": [
        "points=np.random.normal(27000,15000,10000)"
      ],
      "metadata": {
        "id": "fbCZqrDOJRoM"
      },
      "execution_count": 37,
      "outputs": []
    },
    {
      "cell_type": "code",
      "source": [
        "np.mean(points)\n"
      ],
      "metadata": {
        "colab": {
          "base_uri": "https://localhost:8080/"
        },
        "id": "wiKxm07BJRlz",
        "outputId": "98f08698-37c0-4074-c511-66d8d046cf0c"
      },
      "execution_count": 38,
      "outputs": [
        {
          "output_type": "execute_result",
          "data": {
            "text/plain": [
              "27100.1762104468"
            ]
          },
          "metadata": {},
          "execution_count": 38
        }
      ]
    },
    {
      "cell_type": "code",
      "source": [
        "import matplotlib.pyplot as plt\n",
        "plt.hist(points,50)\n",
        "plt.show()"
      ],
      "metadata": {
        "colab": {
          "base_uri": "https://localhost:8080/",
          "height": 265
        },
        "id": "FGRy3H8mJRjk",
        "outputId": "0136ea26-c569-4f21-856e-ca2a3cd3e050"
      },
      "execution_count": 39,
      "outputs": [
        {
          "output_type": "display_data",
          "data": {
            "text/plain": [
              "<Figure size 432x288 with 1 Axes>"
            ],
            "image/png": "[encoded data removed]"
          },
          "metadata": {
            "needs_background": "light"
          }
        }
      ]
    },
    {
      "cell_type": "code",
      "source": [
        "np.mean(points)\n",
        "np.median(points)"
      ],
      "metadata": {
        "colab": {
          "base_uri": "https://localhost:8080/"
        },
        "id": "1cgs-qhLJRhM",
        "outputId": "34ec8c3a-f71d-4c1b-e058-e707ebf4d35b"
      },
      "execution_count": 40,
      "outputs": [
        {
          "output_type": "execute_result",
          "data": {
            "text/plain": [
              "26832.2476282672"
            ]
          },
          "metadata": {},
          "execution_count": 40
        }
      ]
    },
    {
      "cell_type": "code",
      "source": [
        "points2=np.append(points,[1000000000])\n",
        "np.mean(points2)\n",
        "np.median(points2)\n",
        "plt.hist(points2,50)\n",
        "plt.show()"
      ],
      "metadata": {
        "colab": {
          "base_uri": "https://localhost:8080/",
          "height": 278
        },
        "id": "8rTSxqatJRek",
        "outputId": "24e9458e-e3f3-4639-b213-e8c66422eb7c"
      },
      "execution_count": 41,
      "outputs": [
        {
          "output_type": "display_data",
          "data": {
            "text/plain": [
              "<Figure size 432x288 with 1 Axes>"
            ],
            "image/png": "[encoded data removed]"
          },
          "metadata": {
            "needs_background": "light"
          }
        }
      ]
    }
  ]
}