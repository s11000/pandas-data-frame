{
  "nbformat": 4,
  "nbformat_minor": 0,
  "metadata": {
    "colab": {
      "name": "G100A007.ipynb",
      "provenance": [],
      "authorship_tag": "ABX9TyNZ8BgEG2HrZTGA/MWxfRKo",
      "include_colab_link": true
    },
    "kernelspec": {
      "name": "python3",
      "display_name": "Python 3"
    },
    "language_info": {
      "name": "python"
    }
  },
  "cells": [
    {
      "cell_type": "markdown",
      "metadata": {
        "id": "view-in-github",
        "colab_type": "text"
      },
      "source": [
        "<a href=\"https://colab.research.google.com/github/s11000/pandas-data-frame/blob/main/G100A007.ipynb\" target=\"_parent\"><img src=\"https://colab.research.google.com/assets/colab-badge.svg\" alt=\"Open In Colab\"/></a>"
      ]
    },
    {
      "cell_type": "code",
      "source": [
        ""
      ],
      "metadata": {
        "id": "HKfvdAEqM5y1"
      },
      "execution_count": null,
      "outputs": []
    },
    {
      "cell_type": "code",
      "source": [
        ""
      ],
      "metadata": {
        "id": "R6Ju7FBlM5wO"
      },
      "execution_count": null,
      "outputs": []
    },
    {
      "cell_type": "code",
      "source": [
        ""
      ],
      "metadata": {
        "id": "QL2PpRFOM5sO"
      },
      "execution_count": null,
      "outputs": []
    },
    {
      "cell_type": "code",
      "source": [
        ""
      ],
      "metadata": {
        "id": "RZaEl0zQM5qO"
      },
      "execution_count": null,
      "outputs": []
    },
    {
      "cell_type": "code",
      "source": [
        ""
      ],
      "metadata": {
        "id": "Snu5Po4LM5nu"
      },
      "execution_count": null,
      "outputs": []
    },
    {
      "cell_type": "code",
      "execution_count": 163,
      "metadata": {
        "colab": {
          "base_uri": "https://localhost:8080/"
        },
        "id": "R13rlFr7LYZn",
        "outputId": "fca0b357-f9a0-4bbb-f9b3-2387fa021297"
      },
      "outputs": [
        {
          "output_type": "stream",
          "name": "stdout",
          "text": [
            "          6       148        72        35      33.6     0.627        50  \\\n",
            "0 -0.843726 -1.122086 -0.160249  0.532023 -0.683729 -0.364265 -0.188940   \n",
            "1  1.234240  1.944476 -0.263578 -1.286882 -1.102301  0.604701 -0.103795   \n",
            "2 -0.843726 -0.996920 -0.160249  0.155698 -0.493469 -0.919684 -1.040393   \n",
            "3 -1.140579  0.505069 -1.503534  0.908349  1.409132  5.482732 -0.018650   \n",
            "4  0.343683 -0.152051  0.253070 -1.286882 -0.810569 -0.817052 -0.274086   \n",
            "\n",
            "          1  \n",
            "0 -0.730753  \n",
            "1  1.368451  \n",
            "2 -0.730753  \n",
            "3  1.368451  \n",
            "4 -0.730753  \n"
          ]
        }
      ],
      "source": [
        "import numpy as np\n",
        "import pandas as pd\n",
        "#input data\n",
        "train = pd.read_csv(\"/content/FE_pima-indians-diabetes2.csv\")\n",
        "print(train.head())\n"
      ]
    },
    {
      "cell_type": "code",
      "source": [
        " \n",
        "NaN_col_names = ['Pregnancies','Glucose','Blood_Pressure','Skin_Thickness']\n",
        "#train[NaN_col_names] = train[NaN_col_names].replace(0, np.NaN)\n",
        "print(train.isnull().sum())"
      ],
      "metadata": {
        "colab": {
          "base_uri": "https://localhost:8080/"
        },
        "id": "LZCmy2uCM7eo",
        "outputId": "1273f067-2d8f-419a-d3df-a48299cc44ce"
      },
      "execution_count": 164,
      "outputs": [
        {
          "output_type": "stream",
          "name": "stdout",
          "text": [
            "6        0\n",
            "148      0\n",
            "72       0\n",
            "35       0\n",
            "33.6     0\n",
            "0.627    0\n",
            "50       0\n",
            "1        0\n",
            "dtype: int64\n"
          ]
        }
      ]
    },
    {
      "cell_type": "code",
      "source": [
        "medians = train.median() \n",
        "train = train.fillna(medians)\n",
        "\n",
        "print(train.isnull().sum())"
      ],
      "metadata": {
        "colab": {
          "base_uri": "https://localhost:8080/"
        },
        "id": "VKEPVaizM7cK",
        "outputId": "7769a8ff-0c40-43f3-c707-f5b28ceadbf9"
      },
      "execution_count": 165,
      "outputs": [
        {
          "output_type": "stream",
          "name": "stdout",
          "text": [
            "6        0\n",
            "148      0\n",
            "72       0\n",
            "35       0\n",
            "33.6     0\n",
            "0.627    0\n",
            "50       0\n",
            "1        0\n",
            "dtype: int64\n"
          ]
        }
      ]
    },
    {
      "cell_type": "code",
      "source": [
        "import numpy as np\n",
        "import pandas as pd\n",
        "#中值補充確實值\n",
        "medians = train.median() \n",
        "train = train.fillna(medians)\n",
        "\n",
        "print(train.isnull().sum())\n",
        "\n",
        "\n",
        "#  get labels\n",
        "#y_train = train.drop([0'], axis=1)  \n",
        "X_train = train.drop([\"72\"], axis=1)\n",
        "#用於保存特徵工程之後的結果\n",
        "feat_names = X_train.columns\n",
        "\n",
        "# 數據標準化\n",
        "from sklearn.preprocessing import StandardScaler\n",
        "\n",
        "# 初始化特徵的標準化器\n",
        "ss_X = StandardScaler()\n",
        "\n",
        "# 分別對訓練和測試數據的特徵進行標準化處理\n",
        "X_train = ss_X.fit_transform(X_train)\n",
        "\n",
        "#存爲csv格式\n",
        "X_train = pd.DataFrame(columns = feat_names, data = X_train)\n",
        "\n",
        "train = pd.concat([X_train], axis = 1)\n",
        "\n",
        "train.to_csv('FE_pima-indians-diabetes.csv',index = False,header=True)\n",
        "\n",
        "print(train.head())"
      ],
      "metadata": {
        "colab": {
          "base_uri": "https://localhost:8080/"
        },
        "id": "Tr9XMoocM7Zh",
        "outputId": "dc1a25b7-f3ce-434f-fcee-2359b363f210"
      },
      "execution_count": 167,
      "outputs": [
        {
          "output_type": "stream",
          "name": "stdout",
          "text": [
            "6        0\n",
            "148      0\n",
            "72       0\n",
            "35       0\n",
            "33.6     0\n",
            "0.627    0\n",
            "50       0\n",
            "1        0\n",
            "dtype: int64\n",
            "          6       148        35      33.6     0.627        50         1\n",
            "0 -0.844681 -1.121387  0.531095 -0.684212 -0.365745 -0.188804 -0.730846\n",
            "1  1.231309  1.940742 -1.286755 -1.102139  0.601848 -0.103703  1.368276\n",
            "2 -0.844681 -0.996403  0.154988 -0.494245 -0.920379 -1.039817 -0.730846\n",
            "3 -1.141251  0.503416  0.907202  1.405423  5.472973 -0.018602  1.368276\n",
            "4  0.341599 -0.152755 -1.286755 -0.810857 -0.817892 -0.273906 -0.730846\n"
          ]
        }
      ]
    },
    {
      "cell_type": "code",
      "source": [
        "# 首先 import 必要的模塊\n",
        "import pandas as pd \n",
        "import numpy as np\n",
        "\n",
        "from sklearn.model_selection import GridSearchCV\n",
        "\n",
        "import matplotlib.pyplot as plt\n",
        "\n",
        "from sklearn.model_selection import GridSearchCV\n",
        "from sklearn.linear_model import LogisticRegression\n",
        "#%matplotlib inline"
      ],
      "metadata": {
        "id": "iU9Rr9GrM7XM"
      },
      "execution_count": 168,
      "outputs": []
    },
    {
      "cell_type": "code",
      "source": [
        "\n",
        "train = pd.read_csv('/content/FE_pima-indians-diabetes2.csv')\n",
        "\n",
        "y_train = train[1:764]   \n",
        "X_train = train.drop([\"50\"], axis=1)\n"
      ],
      "metadata": {
        "id": "cf11_5DTM7U6"
      },
      "execution_count": 182,
      "outputs": []
    },
    {
      "cell_type": "code",
      "source": [
        "\n",
        "#保存特徵名字以備後用（可視化）\n",
        "feat_names = X_train.columns \n",
        "\n",
        "#需要調優的參數\n",
        "# 請嘗試將L1正則和L2正則分開，並配合合適的優化求解算法（slover）\n",
        "penaltys = ['l1','l2']\n",
        "\n",
        "#訓練數據多，C可以大一點（更多相信數據）\n",
        "Cs = [0.01, 0.1, 1, 10, 100, 1000, 10000]\n",
        "\n",
        "tuned_parameters = dict(penalty = penaltys, C = Cs)#組合調優參數\n"
      ],
      "metadata": {
        "id": "cDMz7hUruZMV"
      },
      "execution_count": 184,
      "outputs": []
    },
    {
      "cell_type": "code",
      "source": [
        "lr_penalty= LogisticRegression()\n",
        "grid= GridSearchCV(lr_penalty, tuned_parameters,cv=5, scoring='neg_log_loss')#log似然損失\n",
        "grid= GridSearchCV(lr_penalty, tuned_parameters,cv=5, scoring='accuracy')#正確率\n"
      ],
      "metadata": {
        "id": "axfDY8J_ug8-"
      },
      "execution_count": 195,
      "outputs": []
    },
    {
      "cell_type": "code",
      "source": [
        " \n",
        " # plot results\n",
        "n_Cs = len(Cs)\n",
        "number_penaltys = len(penaltys)\n",
        "test_scores = np.array(test_means).reshape(n_Cs,number_penaltys)\n",
        " \n",
        "test_stds = np.array(test_stds).reshape(n_Cs,number_penaltys)\n",
        " \n",
        "\n",
        " "
      ],
      "metadata": {
        "id": "GH9c4VScvPic"
      },
      "execution_count": 203,
      "outputs": []
    },
    {
      "cell_type": "code",
      "source": [
        "x_axis = np.log10(Cs)\n",
        "for i, value in enumerate(penaltys):\n",
        "    #pyplot.plot(log(Cs), test_scores[i], label= 'penalty:'   + str(value))\n",
        "    plt.errorbar(x_axis, -test_scores[:,i], yerr=test_stds[:,i] ,label = penaltys[i] +' Test')\n",
        "    #plt.errorbar(x_axis, -train_scores[:,i], yerr=train_stds[:,i] ,label = penaltys[i] +' Train')\n",
        "    \n",
        "plt.legend()\n",
        "plt.xlabel( 'log(C)' )                                                                                                      \n",
        "plt.ylabel( 'logloss' )\n",
        "plt.savefig('LogisticGridSearchCV_C.png' )\n",
        "\n",
        "plt.show()\n",
        " \n",
        "\n",
        " \n"
      ],
      "metadata": {
        "colab": {
          "base_uri": "https://localhost:8080/",
          "height": 279
        },
        "id": "Od_mzQuZu1Wh",
        "outputId": "2dc4ad7a-50b8-4d21-8951-0a556fbae092"
      },
      "execution_count": 206,
      "outputs": [
        {
          "output_type": "display_data",
          "data": {
            "text/plain": [
              "<Figure size 432x288 with 1 Axes>"
            ],
            "image/png": "[encoded data removed]"
          },
          "metadata": {
            "needs_background": "light"
          }
        }
      ]
    },
    {
      "cell_type": "code",
      "source": [
        ""
      ],
      "metadata": {
        "id": "uZWD6QNKu1UI"
      },
      "execution_count": null,
      "outputs": []
    },
    {
      "cell_type": "code",
      "source": [
        ""
      ],
      "metadata": {
        "id": "rBXVAPl6u1Rt"
      },
      "execution_count": null,
      "outputs": []
    },
    {
      "cell_type": "code",
      "source": [
        ""
      ],
      "metadata": {
        "id": "VWjnhDvRu1PI"
      },
      "execution_count": null,
      "outputs": []
    },
    {
      "cell_type": "code",
      "source": [
        ""
      ],
      "metadata": {
        "id": "ezIV9ujsu1Mx"
      },
      "execution_count": null,
      "outputs": []
    },
    {
      "cell_type": "code",
      "source": [
        ""
      ],
      "metadata": {
        "id": "fA_5GftHu1J9"
      },
      "execution_count": null,
      "outputs": []
    },
    {
      "cell_type": "code",
      "source": [
        ""
      ],
      "metadata": {
        "id": "ag5i5DSlu1Hd"
      },
      "execution_count": null,
      "outputs": []
    },
    {
      "cell_type": "code",
      "source": [
        ""
      ],
      "metadata": {
        "id": "0QeQMOhUu1E7"
      },
      "execution_count": null,
      "outputs": []
    },
    {
      "cell_type": "code",
      "source": [
        ""
      ],
      "metadata": {
        "id": "0pHEaDDvu1Ck"
      },
      "execution_count": null,
      "outputs": []
    },
    {
      "cell_type": "code",
      "source": [
        "import numpy as np\n",
        "import pandas as pd\n",
        "#input data\n",
        "train = pd.read_csv(\"/content/FE_pima-indians-diabetes.csv\")\n",
        "print(train.head())\n",
        "\n",
        "#查看缺失值較多的數據統計\n",
        "NaN_col_names = ['Plasma_glucose_concentration','blood_pressure','Triceps_skin_fold_thickness','serum_insulin','BMI']\n",
        "#train[NaN_col_names] = train[NaN_col_names].replace(0, np.NaN)\n",
        "print(train.isnull().sum())\n",
        "\n",
        "\n",
        "#中值補充確實值\n",
        "medians = train.median() \n",
        "train = train.fillna(medians)\n",
        "\n",
        "print(train.isnull().sum())\n",
        "\n",
        "\n",
        "#  get labels\n",
        "#y_train = train[1:768]   \n",
        "X_train = train.drop([\"72\"], axis=1)\n",
        "\n",
        "#用於保存特徵工程之後的結果\n",
        "feat_names = X_train.columns\n",
        "\n",
        "# 數據標準化\n",
        "from sklearn.preprocessing import StandardScaler\n",
        "\n",
        "# 初始化特徵的標準化器\n",
        "ss_X = StandardScaler()\n",
        "\n",
        "# 分別對訓練和測試數據的特徵進行標準化處理\n",
        "X_train = ss_X.fit_transform(X_train)\n",
        "\n",
        "#存爲csv格式\n",
        "X_train = pd.DataFrame(columns = feat_names, data = X_train)\n",
        "\n",
        "train = pd.concat([X_train, y_train], axis = 1)\n",
        "\n",
        "train.to_csv('/content/FE_pima-indians-diabetes.csv',index = False,header=True)\n",
        "\n",
        "print(train.head())"
      ],
      "metadata": {
        "colab": {
          "base_uri": "https://localhost:8080/"
        },
        "id": "33buXxbzdrza",
        "outputId": "fd28ad44-d654-4ed3-9d79-80487d14e18d"
      },
      "execution_count": 105,
      "outputs": [
        {
          "output_type": "stream",
          "name": "stdout",
          "text": [
            "          6       148        72        35      33.6     0.627        50  \\\n",
            "0 -0.843726 -1.122086 -0.160249  0.532023 -0.683729 -0.364265 -0.188940   \n",
            "1  1.234240  1.944476 -0.263578 -1.286882 -1.102301  0.604701 -0.103795   \n",
            "2 -0.843726 -0.996920 -0.160249  0.155698 -0.493469 -0.919684 -1.040393   \n",
            "3 -1.140579  0.505069 -1.503534  0.908349  1.409132  5.482732 -0.018650   \n",
            "4  0.343683 -0.152051  0.253070 -1.286882 -0.810569 -0.817052 -0.274086   \n",
            "\n",
            "          1  \n",
            "0 -0.730753  \n",
            "1  1.368451  \n",
            "2 -0.730753  \n",
            "3  1.368451  \n",
            "4 -0.730753  \n",
            "6        0\n",
            "148      0\n",
            "72       0\n",
            "35       0\n",
            "33.6     0\n",
            "0.627    0\n",
            "50       0\n",
            "1        0\n",
            "dtype: int64\n",
            "6        0\n",
            "148      0\n",
            "72       0\n",
            "35       0\n",
            "33.6     0\n",
            "0.627    0\n",
            "50       0\n",
            "1        0\n",
            "dtype: int64\n",
            "          6       148        35      33.6     0.627        50         1    0\n",
            "0 -0.843726 -1.122086  0.532023 -0.683729 -0.364265 -0.188940 -0.730753    0\n",
            "1  1.234240  1.944476 -1.286882 -1.102301  0.604701 -0.103795  1.368451    0\n",
            "2 -0.843726 -0.996920  0.155698 -0.493469 -0.919684 -1.040393 -0.730753   94\n",
            "3 -1.140579  0.505069  0.908349  1.409132  5.482732 -0.018650  1.368451  168\n",
            "4  0.343683 -0.152051 -1.286882 -0.810569 -0.817052 -0.274086 -0.730753    0\n"
          ]
        }
      ]
    },
    {
      "cell_type": "code",
      "source": [
        ""
      ],
      "metadata": {
        "id": "ARhd5EHP0E3l"
      },
      "execution_count": null,
      "outputs": []
    },
    {
      "cell_type": "code",
      "source": [
        ""
      ],
      "metadata": {
        "id": "2Bmx0HiR0EyO"
      },
      "execution_count": null,
      "outputs": []
    },
    {
      "cell_type": "code",
      "source": [
        ""
      ],
      "metadata": {
        "id": "Yg54VdxT0Eqo"
      },
      "execution_count": null,
      "outputs": []
    },
    {
      "cell_type": "code",
      "source": [
        ""
      ],
      "metadata": {
        "id": "Bve8K0k00ElM"
      },
      "execution_count": null,
      "outputs": []
    },
    {
      "cell_type": "code",
      "source": [
        ""
      ],
      "metadata": {
        "id": "iVfyv9lA0Ef0"
      },
      "execution_count": null,
      "outputs": []
    },
    {
      "cell_type": "code",
      "source": [
        ""
      ],
      "metadata": {
        "id": "V-qz1pzP0Eaz"
      },
      "execution_count": null,
      "outputs": []
    },
    {
      "cell_type": "code",
      "source": [
        "!pip install matplotlib-venn\n",
        "\n",
        "!apt-get -qq install -y libfluidsynth1\n",
        "\n",
        "\n"
      ],
      "metadata": {
        "colab": {
          "base_uri": "https://localhost:8080/"
        },
        "id": "U8GzKQMDrOwd",
        "outputId": "4a055a73-2ad5-49a9-b730-c13c4195116a"
      },
      "execution_count": 215,
      "outputs": [
        {
          "output_type": "stream",
          "name": "stdout",
          "text": [
            "Looking in indexes: https://pypi.org/simple, https://us-python.pkg.dev/colab-wheels/public/simple/\n",
            "Requirement already satisfied: matplotlib-venn in /usr/local/lib/python3.7/dist-packages (0.11.7)\n",
            "Requirement already satisfied: numpy in /usr/local/lib/python3.7/dist-packages (from matplotlib-venn) (1.21.6)\n",
            "Requirement already satisfied: matplotlib in /usr/local/lib/python3.7/dist-packages (from matplotlib-venn) (3.2.2)\n",
            "Requirement already satisfied: scipy in /usr/local/lib/python3.7/dist-packages (from matplotlib-venn) (1.4.1)\n",
            "Requirement already satisfied: cycler>=0.10 in /usr/local/lib/python3.7/dist-packages (from matplotlib->matplotlib-venn) (0.11.0)\n",
            "Requirement already satisfied: kiwisolver>=1.0.1 in /usr/local/lib/python3.7/dist-packages (from matplotlib->matplotlib-venn) (1.4.2)\n",
            "Requirement already satisfied: python-dateutil>=2.1 in /usr/local/lib/python3.7/dist-packages (from matplotlib->matplotlib-venn) (2.8.2)\n",
            "Requirement already satisfied: pyparsing!=2.0.4,!=2.1.2,!=2.1.6,>=2.0.1 in /usr/local/lib/python3.7/dist-packages (from matplotlib->matplotlib-venn) (3.0.9)\n",
            "Requirement already satisfied: typing-extensions in /usr/local/lib/python3.7/dist-packages (from kiwisolver>=1.0.1->matplotlib->matplotlib-venn) (4.2.0)\n",
            "Requirement already satisfied: six>=1.5 in /usr/local/lib/python3.7/dist-packages (from python-dateutil>=2.1->matplotlib->matplotlib-venn) (1.15.0)\n"
          ]
        }
      ]
    },
    {
      "cell_type": "code",
      "source": [
        "# https://pypi.python.org/pypi/libarchive\n",
        "!apt-get -qq install -y libarchive-dev && pip install -U libarchive\n",
        "import libarchive"
      ],
      "metadata": {
        "colab": {
          "base_uri": "https://localhost:8080/"
        },
        "id": "UB1w8U4TrOs1",
        "outputId": "effd9568-a9d7-4040-9069-3671533b1e9b"
      },
      "execution_count": 209,
      "outputs": [
        {
          "output_type": "stream",
          "name": "stdout",
          "text": [
            "Selecting previously unselected package libarchive-dev:amd64.\n",
            "(Reading database ... \r(Reading database ... 5%\r(Reading database ... 10%\r(Reading database ... 15%\r(Reading database ... 20%\r(Reading database ... 25%\r(Reading database ... 30%\r(Reading database ... 35%\r(Reading database ... 40%\r(Reading database ... 45%\r(Reading database ... 50%\r(Reading database ... 55%\r(Reading database ... 60%\r(Reading database ... 65%\r(Reading database ... 70%\r(Reading database ... 75%\r(Reading database ... 80%\r(Reading database ... 85%\r(Reading database ... 90%\r(Reading database ... 95%\r(Reading database ... 100%\r(Reading database ... 155637 files and directories currently installed.)\n",
            "Preparing to unpack .../libarchive-dev_3.2.2-3.1ubuntu0.7_amd64.deb ...\n",
            "Unpacking libarchive-dev:amd64 (3.2.2-3.1ubuntu0.7) ...\n",
            "Setting up libarchive-dev:amd64 (3.2.2-3.1ubuntu0.7) ...\n",
            "Processing triggers for man-db (2.8.3-2ubuntu0.1) ...\n",
            "Looking in indexes: https://pypi.org/simple, https://us-python.pkg.dev/colab-wheels/public/simple/\n",
            "Collecting libarchive\n",
            "  Downloading libarchive-0.4.7.tar.gz (23 kB)\n",
            "Collecting nose\n",
            "  Downloading nose-1.3.7-py3-none-any.whl (154 kB)\n",
            "\u001b[K     |████████████████████████████████| 154 kB 5.7 MB/s \n",
            "\u001b[?25hBuilding wheels for collected packages: libarchive\n",
            "  Building wheel for libarchive (setup.py) ... \u001b[?25l\u001b[?25hdone\n",
            "  Created wheel for libarchive: filename=libarchive-0.4.7-py3-none-any.whl size=31646 sha256=0c1c19ba413c18864cfb0faa2984636ed113da99894b2078022781a27999e84f\n",
            "  Stored in directory: /root/.cache/pip/wheels/63/b1/c6/b3da79bec2012175bd43603eed98ef8548ac1733b77c1d4330\n",
            "Successfully built libarchive\n",
            "Installing collected packages: nose, libarchive\n",
            "Successfully installed libarchive-0.4.7 nose-1.3.7\n"
          ]
        }
      ]
    },
    {
      "cell_type": "code",
      "source": [
        "# https://pypi.python.org/pypi/pydot\n",
        "!apt-get -qq install -y graphviz && pip install pydot\n",
        "import pydot"
      ],
      "metadata": {
        "colab": {
          "base_uri": "https://localhost:8080/"
        },
        "id": "zyMX0C38rOl8",
        "outputId": "d89d1a16-e4f2-44fb-e987-aa86cd386b30"
      },
      "execution_count": 210,
      "outputs": [
        {
          "output_type": "stream",
          "name": "stdout",
          "text": [
            "Looking in indexes: https://pypi.org/simple, https://us-python.pkg.dev/colab-wheels/public/simple/\n",
            "Requirement already satisfied: pydot in /usr/local/lib/python3.7/dist-packages (1.3.0)\n",
            "Requirement already satisfied: pyparsing>=2.1.4 in /usr/local/lib/python3.7/dist-packages (from pydot) (3.0.9)\n"
          ]
        }
      ]
    },
    {
      "cell_type": "code",
      "source": [
        "!pip install cartopy\n",
        "import cartopy"
      ],
      "metadata": {
        "colab": {
          "base_uri": "https://localhost:8080/"
        },
        "id": "LY8hXaTrzqDy",
        "outputId": "c422feee-1269-48df-a5bf-0b5fa9569d1d"
      },
      "execution_count": 211,
      "outputs": [
        {
          "output_type": "stream",
          "name": "stdout",
          "text": [
            "Looking in indexes: https://pypi.org/simple, https://us-python.pkg.dev/colab-wheels/public/simple/\n",
            "Collecting cartopy\n",
            "  Downloading Cartopy-0.20.2.tar.gz (10.8 MB)\n",
            "\u001b[K     |████████████████████████████████| 10.8 MB 3.8 MB/s \n",
            "\u001b[?25h  Installing build dependencies ... \u001b[?25l\u001b[?25hdone\n",
            "  Getting requirements to build wheel ... \u001b[?25l\u001b[?25herror\n",
            "\u001b[33mWARNING: Discarding https://files.pythonhosted.org/packages/f6/55/1e1c737dc9436b320deead73d1c455ddbb74b8b6992081863492f6f6378a/Cartopy-0.20.2.tar.gz#sha256=4d08c198ecaa50a6a6b109d0f14c070e813defc046a83ac5d7ab494f85599e35 (from https://pypi.org/simple/cartopy/) (requires-python:>=3.7). Command errored out with exit status 1: /usr/bin/python3 /usr/local/lib/python3.7/dist-packages/pip/_vendor/pep517/in_process/_in_process.py get_requires_for_build_wheel /tmp/tmp_u3fawbk Check the logs for full command output.\u001b[0m\n",
            "  Downloading Cartopy-0.20.1.tar.gz (10.8 MB)\n",
            "\u001b[K     |████████████████████████████████| 10.8 MB 23.6 MB/s \n",
            "\u001b[?25h  Installing build dependencies ... \u001b[?25l\u001b[?25hdone\n",
            "  Getting requirements to build wheel ... \u001b[?25l\u001b[?25herror\n",
            "\u001b[33mWARNING: Discarding https://files.pythonhosted.org/packages/fc/59/aa52698e3838f4cd0e7eaa75bd86837e9e0b05041dbdaee3cda2fffced06/Cartopy-0.20.1.tar.gz#sha256=91f87b130e2574547a20cd634498df97d797abd12dcfd0235bc0cdbcec8b05e3 (from https://pypi.org/simple/cartopy/) (requires-python:>=3.7). Command errored out with exit status 1: /usr/bin/python3 /usr/local/lib/python3.7/dist-packages/pip/_vendor/pep517/in_process/_in_process.py get_requires_for_build_wheel /tmp/tmplwg6td8e Check the logs for full command output.\u001b[0m\n",
            "  Downloading Cartopy-0.20.0.tar.gz (10.8 MB)\n",
            "\u001b[K     |████████████████████████████████| 10.8 MB 24.2 MB/s \n",
            "\u001b[?25h  Installing build dependencies ... \u001b[?25l\u001b[?25hdone\n",
            "  Getting requirements to build wheel ... \u001b[?25l\u001b[?25herror\n",
            "\u001b[33mWARNING: Discarding https://files.pythonhosted.org/packages/0f/c0/58453b036e79046d211f083880d58dcce787e7e07647ac25dc46c6555099/Cartopy-0.20.0.tar.gz#sha256=eae58aff26806e63cf115b2bce9477cedc4aa9f578c5e477b2c25cfa404f2b7a (from https://pypi.org/simple/cartopy/) (requires-python:>=3.7). Command errored out with exit status 1: /usr/bin/python3 /usr/local/lib/python3.7/dist-packages/pip/_vendor/pep517/in_process/_in_process.py get_requires_for_build_wheel /tmp/tmpbil4q_zf Check the logs for full command output.\u001b[0m\n",
            "  Downloading Cartopy-0.19.0.post1.tar.gz (12.1 MB)\n",
            "\u001b[K     |████████████████████████████████| 12.1 MB 28.1 MB/s \n",
            "\u001b[?25h  Installing build dependencies ... \u001b[?25l\u001b[?25hdone\n",
            "  Getting requirements to build wheel ... \u001b[?25l\u001b[?25hdone\n",
            "    Preparing wheel metadata ... \u001b[?25l\u001b[?25hdone\n",
            "Requirement already satisfied: shapely>=1.5.6 in /usr/local/lib/python3.7/dist-packages (from cartopy) (1.8.2)\n",
            "Requirement already satisfied: numpy>=1.13.3 in /usr/local/lib/python3.7/dist-packages (from cartopy) (1.21.6)\n",
            "Collecting pyshp>=2\n",
            "  Downloading pyshp-2.3.0-py2.py3-none-any.whl (46 kB)\n",
            "\u001b[K     |████████████████████████████████| 46 kB 2.3 MB/s \n",
            "\u001b[?25hBuilding wheels for collected packages: cartopy\n",
            "  Building wheel for cartopy (PEP 517) ... \u001b[?25l\u001b[?25hdone\n",
            "  Created wheel for cartopy: filename=Cartopy-0.19.0.post1-cp37-cp37m-linux_x86_64.whl size=12516275 sha256=4c4f19a2fd9c1f66adce466434ed0811e2743b473c3f2d1cd36ceff843352563\n",
            "  Stored in directory: /root/.cache/pip/wheels/98/01/f7/bd10aeb96fe4b518cde5f7c4f5e12c7202f85b7353a5017847\n",
            "Successfully built cartopy\n",
            "Installing collected packages: pyshp, cartopy\n",
            "Successfully installed cartopy-0.19.0.post1 pyshp-2.3.0\n"
          ]
        }
      ]
    },
    {
      "cell_type": "code",
      "source": [
        " from sklearn.cross_validation import cross_val_score\n"
      ],
      "metadata": {
        "colab": {
          "base_uri": "https://localhost:8080/",
          "height": 306
        },
        "id": "mEXNnfIWzp_4",
        "outputId": "b9a497fe-98b6-4fdc-81bc-ca995e50bf3d"
      },
      "execution_count": 218,
      "outputs": [
        {
          "output_type": "error",
          "ename": "ModuleNotFoundError",
          "evalue": "ignored",
          "traceback": [
            "\u001b[0;31m---------------------------------------------------------------------------\u001b[0m",
            "\u001b[0;31mModuleNotFoundError\u001b[0m                       Traceback (most recent call last)",
            "\u001b[0;32m<ipython-input-218-752bb1bee8c0>\u001b[0m in \u001b[0;36m<module>\u001b[0;34m()\u001b[0m\n\u001b[0;32m----> 1\u001b[0;31m \u001b[0;32mfrom\u001b[0m \u001b[0msklearn\u001b[0m\u001b[0;34m.\u001b[0m\u001b[0mcross_validation\u001b[0m \u001b[0;32mimport\u001b[0m \u001b[0mcross_val_score\u001b[0m\u001b[0;34m\u001b[0m\u001b[0;34m\u001b[0m\u001b[0m\n\u001b[0m",
            "\u001b[0;31mModuleNotFoundError\u001b[0m: No module named 'sklearn.cross_validation'",
            "",
            "\u001b[0;31m---------------------------------------------------------------------------\u001b[0;32m\nNOTE: If your import is failing due to a missing package, you can\nmanually install dependencies using either !pip or !apt.\n\nTo view examples of installing some common dependencies, click the\n\"Open Examples\" button below.\n\u001b[0;31m---------------------------------------------------------------------------\u001b[0m\n"
          ],
          "errorDetails": {
            "actions": [
              {
                "action": "open_url",
                "actionText": "Open Examples",
                "url": "/notebooks/snippets/importing_libraries.ipynb"
              }
            ]
          }
        }
      ]
    },
    {
      "cell_type": "code",
      "source": [
        "from sklearn import datasets\n",
        "from sklearn.cross_validation import train_test_split\n",
        "from sklearn.neighbors import KNeighborsClassifier\n",
        "import numpy as np"
      ],
      "metadata": {
        "colab": {
          "base_uri": "https://localhost:8080/",
          "height": 358
        },
        "id": "bdvNQ8l-zp7F",
        "outputId": "5d9708f5-f21b-4c1f-8ede-516dc2f65831"
      },
      "execution_count": 219,
      "outputs": [
        {
          "output_type": "error",
          "ename": "ModuleNotFoundError",
          "evalue": "ignored",
          "traceback": [
            "\u001b[0;31m---------------------------------------------------------------------------\u001b[0m",
            "\u001b[0;31mModuleNotFoundError\u001b[0m                       Traceback (most recent call last)",
            "\u001b[0;32m<ipython-input-219-5ca676130750>\u001b[0m in \u001b[0;36m<module>\u001b[0;34m()\u001b[0m\n\u001b[1;32m      1\u001b[0m \u001b[0;32mfrom\u001b[0m \u001b[0msklearn\u001b[0m \u001b[0;32mimport\u001b[0m \u001b[0mdatasets\u001b[0m\u001b[0;34m\u001b[0m\u001b[0;34m\u001b[0m\u001b[0m\n\u001b[0;32m----> 2\u001b[0;31m \u001b[0;32mfrom\u001b[0m \u001b[0msklearn\u001b[0m\u001b[0;34m.\u001b[0m\u001b[0mcross_validation\u001b[0m \u001b[0;32mimport\u001b[0m \u001b[0mtrain_test_split\u001b[0m\u001b[0;34m\u001b[0m\u001b[0;34m\u001b[0m\u001b[0m\n\u001b[0m\u001b[1;32m      3\u001b[0m \u001b[0;32mfrom\u001b[0m \u001b[0msklearn\u001b[0m\u001b[0;34m.\u001b[0m\u001b[0mneighbors\u001b[0m \u001b[0;32mimport\u001b[0m \u001b[0mKNeighborsClassifier\u001b[0m\u001b[0;34m\u001b[0m\u001b[0;34m\u001b[0m\u001b[0m\n\u001b[1;32m      4\u001b[0m \u001b[0;32mimport\u001b[0m \u001b[0mnumpy\u001b[0m \u001b[0;32mas\u001b[0m \u001b[0mnp\u001b[0m\u001b[0;34m\u001b[0m\u001b[0;34m\u001b[0m\u001b[0m\n",
            "\u001b[0;31mModuleNotFoundError\u001b[0m: No module named 'sklearn.cross_validation'",
            "",
            "\u001b[0;31m---------------------------------------------------------------------------\u001b[0;32m\nNOTE: If your import is failing due to a missing package, you can\nmanually install dependencies using either !pip or !apt.\n\nTo view examples of installing some common dependencies, click the\n\"Open Examples\" button below.\n\u001b[0;31m---------------------------------------------------------------------------\u001b[0m\n"
          ],
          "errorDetails": {
            "actions": [
              {
                "action": "open_url",
                "actionText": "Open Examples",
                "url": "/notebooks/snippets/importing_libraries.ipynb"
              }
            ]
          }
        }
      ]
    },
    {
      "cell_type": "code",
      "source": [
        "iris = datasets.load_iris()\n",
        "X = iris.data\n",
        "y = iris.target"
      ],
      "metadata": {
        "id": "AN8X4jpuzp2b"
      },
      "execution_count": 220,
      "outputs": []
    },
    {
      "cell_type": "code",
      "source": [
        "import numpy as np\n",
        "import pandas as pd\n",
        "from sklearn.neighbors import KNeighborsClassifier\n",
        "knn =KNeighborsClassifier(n_neighbors=10)"
      ],
      "metadata": {
        "id": "RFXvfKNrzpx2"
      },
      "execution_count": 226,
      "outputs": []
    },
    {
      "cell_type": "code",
      "source": [
        "from sklearn import datasets, linear_model\n",
        "from sklearn.model_selection import cross_val_score\n",
        "\n",
        "scores = cross_val_score(knn,X,y,cv=5,scoring='accuracy')\n",
        "print(scores)\n",
        "print(scores.mean())"
      ],
      "metadata": {
        "colab": {
          "base_uri": "https://localhost:8080/"
        },
        "id": "fj4dwdfldrp2",
        "outputId": "90fdabaf-ec26-46aa-e8d9-7956622c0dde"
      },
      "execution_count": 228,
      "outputs": [
        {
          "output_type": "stream",
          "name": "stdout",
          "text": [
            "[0.96666667 1.         1.         0.93333333 1.        ]\n",
            "0.9800000000000001\n"
          ]
        }
      ]
    },
    {
      "cell_type": "code",
      "source": [
        "k_range = range(1,31)\n",
        "k_scores = []\n",
        "for k_number in k_range:\n",
        "    knn = KNeighborsClassifier(n_neighbors=k_number)\n",
        "    scores = cross_val_score(knn,X,y,cv=10,scoring='accuracy')\n",
        "    k_scores.append(scores.mean())"
      ],
      "metadata": {
        "id": "_Wz_R30Sdrnf"
      },
      "execution_count": 229,
      "outputs": []
    },
    {
      "cell_type": "code",
      "source": [
        "plt.plot(k_range,k_scores)\n",
        "plt.xlabel('Value of K for KNN')\n",
        "plt.ylabel('Cross-Validated Accuracy')\n",
        "plt.show()"
      ],
      "metadata": {
        "colab": {
          "base_uri": "https://localhost:8080/",
          "height": 279
        },
        "id": "JmpYZoO2drlG",
        "outputId": "0bf3cafd-929c-4f2f-c50a-ad5aabffe894"
      },
      "execution_count": 230,
      "outputs": [
        {
          "output_type": "display_data",
          "data": {
            "text/plain": [
              "<Figure size 432x288 with 1 Axes>"
            ],
            "image/png": "[encoded data removed]"
          },
          "metadata": {
            "needs_background": "light"
          }
        }
      ]
    },
    {
      "cell_type": "code",
      "source": [
        ""
      ],
      "metadata": {
        "id": "TURvysWOdrdU"
      },
      "execution_count": null,
      "outputs": []
    },
    {
      "cell_type": "code",
      "source": [
        ""
      ],
      "metadata": {
        "id": "NQ_FUjSXM7M4"
      },
      "execution_count": null,
      "outputs": []
    },
    {
      "cell_type": "code",
      "source": [
        ""
      ],
      "metadata": {
        "id": "aMeO289CM7Ka"
      },
      "execution_count": null,
      "outputs": []
    },
    {
      "cell_type": "code",
      "source": [
        ""
      ],
      "metadata": {
        "id": "sx4C0fSqM7Ia"
      },
      "execution_count": null,
      "outputs": []
    }
  ]
}