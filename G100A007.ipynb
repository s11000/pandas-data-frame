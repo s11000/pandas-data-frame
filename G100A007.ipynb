{
  "nbformat": 4,
  "nbformat_minor": 0,
  "metadata": {
    "colab": {
      "name": "G100A007.ipynb",
      "provenance": [],
      "authorship_tag": "ABX9TyNfcCVRsYJQUlJnanhwj9Er",
      "include_colab_link": true
    },
    "kernelspec": {
      "name": "python3",
      "display_name": "Python 3"
    },
    "language_info": {
      "name": "python"
    }
  },
  "cells": [
    {
      "cell_type": "markdown",
      "metadata": {
        "id": "view-in-github",
        "colab_type": "text"
      },
      "source": [
        "<a href=\"https://colab.research.google.com/github/s11000/pandas-data-frame/blob/main/G100A007.ipynb\" target=\"_parent\"><img src=\"https://colab.research.google.com/assets/colab-badge.svg\" alt=\"Open In Colab\"/></a>"
      ]
    },
    {
      "cell_type": "code",
      "source": [
        "# coding: utf-8\n",
        "from and_gate import AND\n",
        "from or_gate import OR\n",
        "from nand_gate import NAND\n",
        "\n",
        "def AND(x1, x2):\n",
        "    x = np.array([x1, x2])\n",
        "    w = np.array([0.5, 0.5])\n",
        "    b = -0.7\n",
        "    tmp = np.sum(w*x) + b\n",
        "    if tmp <= 0:\n",
        "        return 0\n",
        "    else:\n",
        "        return 1\n",
        "\n",
        "def OR(x1, x2):\n",
        "\n",
        "\n",
        "#def OR(x1, x2):\n",
        "\n",
        "\n",
        "def NAND(x1, x2):\n",
        "\n",
        "def NOX(x1, x2):\n",
        "\n",
        "def XNOR(x1, x2):\n",
        "\n",
        "\n",
        "def XOR(x1, x2):\n",
        "    s1 = NAND(x1, x2)\n",
        "    s2 = OR(x1, x2)\n",
        "    y = AND(s1, s2)\n",
        "    return y\n",
        "\n",
        "if __name__ == '__main__':\n",
        "    for xs in [(0, 0), (1, 0), (0, 1), (1, 1)]:\n",
        "        y = XOR(xs[0], xs[1])\n",
        "        print(str(xs) + \" -> \" + str(y))"
      ],
      "metadata": {
        "colab": {
          "base_uri": "https://localhost:8080/",
          "height": 132
        },
        "id": "1lHrYuFfIlOx",
        "outputId": "4c557544-4ae5-403e-c0c3-94d40a993f64"
      },
      "execution_count": 12,
      "outputs": [
        {
          "output_type": "error",
          "ename": "IndentationError",
          "evalue": "ignored",
          "traceback": [
            "\u001b[0;36m  File \u001b[0;32m\"<ipython-input-12-8fc16cfcf45d>\"\u001b[0;36m, line \u001b[0;32m22\u001b[0m\n\u001b[0;31m    def NAND(x1, x2):\u001b[0m\n\u001b[0m      ^\u001b[0m\n\u001b[0;31mIndentationError\u001b[0m\u001b[0;31m:\u001b[0m expected an indented block\n"
          ]
        }
      ]
    },
    {
      "cell_type": "code",
      "source": [
        "# coding: utf-8\n",
        "import numpy as np\n",
        "\n",
        "\n",
        "def AND(x1, x2):\n",
        "    x = np.array([x1, x2])\n",
        "    w = np.array([0.5, 0.5])\n",
        "    b = -0.7\n",
        "    tmp = np.sum(w*x) + b\n",
        "    if tmp <= 0:\n",
        "        return 0\n",
        "    else:\n",
        "        return 1\n",
        "\n",
        "if __name__ == '__main__':\n",
        "    for xs in [(0, 0), (1, 0), (0, 1), (1, 1)]:\n",
        "        y = AND(xs[0], xs[1])\n",
        "        print(str(xs) + \" -> \" + str(y))"
      ],
      "metadata": {
        "colab": {
          "base_uri": "https://localhost:8080/"
        },
        "id": "jQZl102JIlTp",
        "outputId": "92967e69-7548-465b-e9d3-df1d425e8681"
      },
      "execution_count": 13,
      "outputs": [
        {
          "output_type": "stream",
          "name": "stdout",
          "text": [
            "(0, 0) -> 0\n",
            "(1, 0) -> 0\n",
            "(0, 1) -> 0\n",
            "(1, 1) -> 1\n"
          ]
        }
      ]
    },
    {
      "cell_type": "code",
      "source": [
        "def get_and1(x1,x2):\n",
        "    w1,w2,theta=0.5,0.5,0.7\n",
        "    tmp = x1 * w1 + x2 * w2\n",
        "    if tmp <= 0:\n",
        "        return 0\n",
        "    else:\n",
        "        return 1\n",
        "    \n",
        "print(get_and1(0,0)) #0\n",
        "print(get_and1(1,0)) #0\n",
        "print(get_and1(0,1)) #0\n",
        "print(get_and1(1,1)) #1"
      ],
      "metadata": {
        "colab": {
          "base_uri": "https://localhost:8080/"
        },
        "id": "WDYhCAnxIlZH",
        "outputId": "54e32aa4-eba7-4ed0-8389-609bb119515b"
      },
      "execution_count": 15,
      "outputs": [
        {
          "output_type": "stream",
          "name": "stdout",
          "text": [
            "0\n",
            "1\n",
            "1\n",
            "1\n"
          ]
        }
      ]
    },
    {
      "cell_type": "code",
      "source": [
        "import numpy as np\n",
        "def get_and2(x1,x2):\n",
        "    x =np.array([x1,x2]) \n",
        "    y = np.array([0.5,0.5]) # Weight\n",
        "    b = -0.7 # bias\n",
        "    tmp = np.sum(x * y) + b\n",
        "    if tmp <= 0:\n",
        "        return 0\n",
        "    else:\n",
        "        return 1\n",
        "    \n",
        "print(get_and2(1,1)) #1\n",
        "print(get_and2(1,0)) #0\n",
        "print(get_and2(0,1)) #0\n",
        "print(get_and2(0,0)) #0"
      ],
      "metadata": {
        "colab": {
          "base_uri": "https://localhost:8080/"
        },
        "id": "sn9K3cWoIlbe",
        "outputId": "6d9a61ef-4858-476c-e0d1-c9a64538e986"
      },
      "execution_count": 16,
      "outputs": [
        {
          "output_type": "stream",
          "name": "stdout",
          "text": [
            "1\n",
            "0\n",
            "0\n",
            "0\n"
          ]
        }
      ]
    },
    {
      "cell_type": "code",
      "source": [
        "import numpy as np\n",
        "def get_nand(x1,x2):\n",
        "    x = np.array([x1,x2])\n",
        "    y = np.array([-0.5,-0.5])\n",
        "    b = 0.7\n",
        "    tmp = np.sum(x * y) + b\n",
        "    if tmp <=0:\n",
        "        return 0\n",
        "    else:\n",
        "        return 1\n",
        "print(get_nand(1,1)) # 0\n",
        "print(get_nand(1,0)) # 1\n",
        "print(get_nand(0,1)) # 1\n",
        "print(get_nand(0,0)) # 1"
      ],
      "metadata": {
        "colab": {
          "base_uri": "https://localhost:8080/"
        },
        "id": "NTQqm048LqKa",
        "outputId": "bf9499e4-e89b-4aeb-e6a7-d92b5161b04e"
      },
      "execution_count": 17,
      "outputs": [
        {
          "output_type": "stream",
          "name": "stdout",
          "text": [
            "0\n",
            "1\n",
            "1\n",
            "1\n"
          ]
        }
      ]
    },
    {
      "cell_type": "code",
      "source": [
        "def get_or(x1,x2):\n",
        "    x = np.array([x1,x2])\n",
        "    y = np.array([0.5,0.5])\n",
        "    b = -0.2\n",
        "    tmp = np.sum(x * y) + b\n",
        "    if tmp <= 0:\n",
        "        return 0\n",
        "    else:\n",
        "        return 1\n",
        "print(get_or(1,1)) # 1\n",
        "print(get_or(1,0)) # 1\n",
        "print(get_or(0,1)) # 1\n",
        "print(get_or(0,0)) # 0"
      ],
      "metadata": {
        "colab": {
          "base_uri": "https://localhost:8080/"
        },
        "id": "jNnUoV8bLqIT",
        "outputId": "061e9c80-7b85-4fd3-abf3-8862a2de785c"
      },
      "execution_count": 18,
      "outputs": [
        {
          "output_type": "stream",
          "name": "stdout",
          "text": [
            "1\n",
            "1\n",
            "1\n",
            "0\n"
          ]
        }
      ]
    },
    {
      "cell_type": "code",
      "source": [
        ""
      ],
      "metadata": {
        "id": "QfGZBpsfLqFd"
      },
      "execution_count": null,
      "outputs": []
    },
    {
      "cell_type": "code",
      "source": [
        ""
      ],
      "metadata": {
        "id": "zukG1FUZLqCy"
      },
      "execution_count": null,
      "outputs": []
    },
    {
      "cell_type": "code",
      "source": [
        ""
      ],
      "metadata": {
        "id": "CciiZzJQLp-h"
      },
      "execution_count": null,
      "outputs": []
    },
    {
      "cell_type": "code",
      "source": [
        ""
      ],
      "metadata": {
        "id": "wwrqrw-9Lp74"
      },
      "execution_count": null,
      "outputs": []
    }
  ]
}