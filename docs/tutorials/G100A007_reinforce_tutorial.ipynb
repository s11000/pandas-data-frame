{
  "cells": [
    {
      "cell_type": "markdown",
      "metadata": {
        "id": "klGNgWREsvQv"
      },
      "source": [
        "##### Copyright 2021 The TF-Agents Authors."
      ]
    },
    {
      "cell_type": "code",
      "execution_count": null,
      "metadata": {
        "cellView": "form",
        "id": "nQnmcm0oI1Q-"
      },
      "outputs": [],
      "source": [
        "#@title Licensed under the Apache License, Version 2.0 (the \"License\");\n",
        "# you may not use this file except in compliance with the License.\n",
        "# You may obtain a copy of the License at\n",
        "#\n",
        "# https://www.apache.org/licenses/LICENSE-2.0\n",
        "#\n",
        "# Unless required by applicable law or agreed to in writing, software\n",
        "# distributed under the License is distributed on an \"AS IS\" BASIS,\n",
        "# WITHOUT WARRANTIES OR CONDITIONS OF ANY KIND, either express or implied.\n",
        "# See the License for the specific language governing permissions and\n",
        "# limitations under the License."
      ]
    },
    {
      "cell_type": "markdown",
      "metadata": {
        "id": "HNtBC6Bbb1YU"
      },
      "source": [
        "# REINFORCE agent\n",
        "\n",
        "<table class=\"tfo-notebook-buttons\" align=\"left\">\n",
        "  <td>\n",
        "    <a target=\"_blank\" href=\"https://www.tensorflow.org/agents/tutorials/6_reinforce_tutorial\">\n",
        "    <img src=\"https://www.tensorflow.org/images/tf_logo_32px.png\" />\n",
        "    View on TensorFlow.org</a>\n",
        "  </td>\n",
        "  <td>\n",
        "    <a target=\"_blank\" href=\"https://colab.research.google.com/github/tensorflow/agents/blob/master/docs/tutorials/6_reinforce_tutorial.ipynb\">\n",
        "    <img src=\"https://www.tensorflow.org/images/colab_logo_32px.png\" />\n",
        "    Run in Google Colab</a>\n",
        "  </td>\n",
        "  <td>\n",
        "    <a target=\"_blank\" href=\"https://github.com/tensorflow/agents/blob/master/docs/tutorials/6_reinforce_tutorial.ipynb\">\n",
        "    <img src=\"https://www.tensorflow.org/images/GitHub-Mark-32px.png\" />\n",
        "    View source on GitHub</a>\n",
        "  </td>\n",
        "  <td>\n",
        "    <a href=\"https://storage.googleapis.com/tensorflow_docs/agents/docs/tutorials/6_reinforce_tutorial.ipynb\"><img src=\"https://www.tensorflow.org/images/download_logo_32px.png\" />Download notebook</a>\n",
        "  </td>\n",
        "</table>"
      ]
    },
    {
      "cell_type": "markdown",
      "metadata": {
        "id": "ZOUOQOrFs3zn"
      },
      "source": [
        "## Introduction"
      ]
    },
    {
      "cell_type": "markdown",
      "metadata": {
        "id": "cKOCZlhUgXVK"
      },
      "source": [
        "This example shows how to train a [REINFORCE](https://www-anw.cs.umass.edu/~barto/courses/cs687/williams92simple.pdf) agent on the Cartpole environment using the TF-Agents library, similar to the [DQN tutorial](1_dqn_tutorial.ipynb).\n",
        "\n",
        "![Cartpole environment](https://github.com/tensorflow/agents/blob/master/docs/tutorials/images/cartpole.png?raw=1)\n",
        "\n",
        "We will walk you through all the components in a Reinforcement Learning (RL) pipeline for training, evaluation and data collection.\n"
      ]
    },
    {
      "cell_type": "markdown",
      "metadata": {
        "id": "1u9QVVsShC9X"
      },
      "source": [
        "## Setup"
      ]
    },
    {
      "cell_type": "markdown",
      "metadata": {
        "id": "I5PNmEzIb9t4"
      },
      "source": [
        "If you haven't installed the following dependencies, run:"
      ]
    },
    {
      "cell_type": "code",
      "execution_count": 1,
      "metadata": {
        "id": "KEHR2Ui-lo8O",
        "outputId": "349e64d7-96ba-4d31-ad6a-b3a82f88536b",
        "colab": {
          "base_uri": "https://localhost:8080/"
        }
      },
      "outputs": [
        {
          "output_type": "stream",
          "name": "stdout",
          "text": [
            "\r0% [Working]\r            \rHit:1 http://archive.ubuntu.com/ubuntu bionic InRelease\n",
            "\r0% [Connecting to security.ubuntu.com (185.125.190.36)] [Connected to cloud.r-p\r                                                                               \rGet:2 http://archive.ubuntu.com/ubuntu bionic-updates InRelease [88.7 kB]\n",
            "\r                                                                               \rGet:3 https://cloud.r-project.org/bin/linux/ubuntu bionic-cran40/ InRelease [3,626 B]\n",
            "\r0% [2 InRelease 15.6 kB/88.7 kB 18%] [Connecting to security.ubuntu.com (185.12\r0% [1 InRelease gpgv 242 kB] [2 InRelease 18.5 kB/88.7 kB 21%] [Connecting to s\r                                                                               \rHit:4 https://developer.download.nvidia.com/compute/cuda/repos/ubuntu1804/x86_64  InRelease\n",
            "\r0% [1 InRelease gpgv 242 kB] [2 InRelease 41.7 kB/88.7 kB 47%] [Waiting for hea\r0% [1 InRelease gpgv 242 kB] [Waiting for headers] [Waiting for headers] [Waiti\r                                                                               \rGet:5 http://archive.ubuntu.com/ubuntu bionic-backports InRelease [74.6 kB]\n",
            "\r0% [1 InRelease gpgv 242 kB] [5 InRelease 8,396 B/74.6 kB 11%] [Waiting for hea\r0% [1 InRelease gpgv 242 kB] [Waiting for headers] [Waiting for headers] [Waiti\r                                                                               \rGet:6 http://security.ubuntu.com/ubuntu bionic-security InRelease [88.7 kB]\n",
            "Hit:7 http://ppa.launchpad.net/c2d4u.team/c2d4u4.0+/ubuntu bionic InRelease\n",
            "Ign:8 https://developer.download.nvidia.com/compute/machine-learning/repos/ubuntu1804/x86_64  InRelease\n",
            "Hit:9 https://developer.download.nvidia.com/compute/machine-learning/repos/ubuntu1804/x86_64  Release\n",
            "Hit:10 http://ppa.launchpad.net/cran/libgit2/ubuntu bionic InRelease\n",
            "Hit:11 http://ppa.launchpad.net/deadsnakes/ppa/ubuntu bionic InRelease\n",
            "Hit:12 http://ppa.launchpad.net/graphics-drivers/ppa/ubuntu bionic InRelease\n",
            "Get:13 http://archive.ubuntu.com/ubuntu bionic-updates/restricted amd64 Packages [1,047 kB]\n",
            "Get:14 http://archive.ubuntu.com/ubuntu bionic-updates/multiverse amd64 Packages [29.8 kB]\n",
            "Get:15 http://archive.ubuntu.com/ubuntu bionic-updates/main amd64 Packages [3,298 kB]\n",
            "Get:16 http://archive.ubuntu.com/ubuntu bionic-updates/universe amd64 Packages [2,297 kB]\n",
            "Get:17 http://archive.ubuntu.com/ubuntu bionic-backports/main amd64 Packages [12.2 kB]\n",
            "Get:19 http://security.ubuntu.com/ubuntu bionic-security/multiverse amd64 Packages [22.8 kB]\n",
            "Get:20 http://security.ubuntu.com/ubuntu bionic-security/restricted amd64 Packages [1,013 kB]\n",
            "Get:21 http://security.ubuntu.com/ubuntu bionic-security/universe amd64 Packages [1,521 kB]\n",
            "Get:22 http://security.ubuntu.com/ubuntu bionic-security/main amd64 Packages [2,866 kB]\n",
            "Fetched 12.4 MB in 3s (4,047 kB/s)\n",
            "Reading package lists... Done\n",
            "Reading package lists... Done\n",
            "Building dependency tree       \n",
            "Reading state information... Done\n",
            "freeglut3-dev is already the newest version (2.8.1-3).\n",
            "freeglut3-dev set to manually installed.\n",
            "ffmpeg is already the newest version (7:3.4.11-0ubuntu0.1).\n",
            "The following package was automatically installed and is no longer required:\n",
            "  libnvidia-common-460\n",
            "Use 'sudo apt autoremove' to remove it.\n",
            "The following NEW packages will be installed:\n",
            "  xvfb\n",
            "0 upgraded, 1 newly installed, 0 to remove and 53 not upgraded.\n",
            "Need to get 784 kB of archives.\n",
            "After this operation, 2,271 kB of additional disk space will be used.\n",
            "Get:1 http://archive.ubuntu.com/ubuntu bionic-updates/universe amd64 xvfb amd64 2:1.19.6-1ubuntu4.10 [784 kB]\n",
            "Fetched 784 kB in 0s (7,687 kB/s)\n",
            "debconf: unable to initialize frontend: Dialog\n",
            "debconf: (No usable dialog-like program is installed, so the dialog based frontend cannot be used. at /usr/share/perl5/Debconf/FrontEnd/Dialog.pm line 76, <> line 1.)\n",
            "debconf: falling back to frontend: Readline\n",
            "debconf: unable to initialize frontend: Readline\n",
            "debconf: (This frontend requires a controlling tty.)\n",
            "debconf: falling back to frontend: Teletype\n",
            "dpkg-preconfigure: unable to re-open stdin: \n",
            "Selecting previously unselected package xvfb.\n",
            "(Reading database ... 155639 files and directories currently installed.)\n",
            "Preparing to unpack .../xvfb_2%3a1.19.6-1ubuntu4.10_amd64.deb ...\n",
            "Unpacking xvfb (2:1.19.6-1ubuntu4.10) ...\n",
            "Setting up xvfb (2:1.19.6-1ubuntu4.10) ...\n",
            "Processing triggers for man-db (2.8.3-2ubuntu0.1) ...\n",
            "Looking in indexes: https://pypi.org/simple, https://us-python.pkg.dev/colab-wheels/public/simple/\n",
            "Collecting imageio==2.4.0\n",
            "  Downloading imageio-2.4.0.tar.gz (3.3 MB)\n",
            "\u001b[K     |████████████████████████████████| 3.3 MB 28.6 MB/s \n",
            "\u001b[?25hRequirement already satisfied: numpy in /usr/local/lib/python3.7/dist-packages (from imageio==2.4.0) (1.21.6)\n",
            "Requirement already satisfied: pillow in /usr/local/lib/python3.7/dist-packages (from imageio==2.4.0) (7.1.2)\n",
            "Building wheels for collected packages: imageio\n",
            "  Building wheel for imageio (setup.py) ... \u001b[?25l\u001b[?25hdone\n",
            "  Created wheel for imageio: filename=imageio-2.4.0-py3-none-any.whl size=3303895 sha256=af574a92be41bb84720be5b0d09fcf61e488f19e7d82c22e2256af38ae3050b7\n",
            "  Stored in directory: /root/.cache/pip/wheels/aa/de/2f/6c5a75120d68a2c3138120c8d0ce1c6f9483a4b96307986bf2\n",
            "Successfully built imageio\n",
            "Installing collected packages: imageio\n",
            "  Attempting uninstall: imageio\n",
            "    Found existing installation: imageio 2.4.1\n",
            "    Uninstalling imageio-2.4.1:\n",
            "      Successfully uninstalled imageio-2.4.1\n",
            "\u001b[31mERROR: pip's dependency resolver does not currently take into account all the packages that are installed. This behaviour is the source of the following dependency conflicts.\n",
            "albumentations 0.1.12 requires imgaug<0.2.7,>=0.2.5, but you have imgaug 0.2.9 which is incompatible.\u001b[0m\n",
            "Successfully installed imageio-2.4.0\n",
            "Looking in indexes: https://pypi.org/simple, https://us-python.pkg.dev/colab-wheels/public/simple/\n",
            "Collecting pyvirtualdisplay\n",
            "  Downloading PyVirtualDisplay-3.0-py3-none-any.whl (15 kB)\n",
            "Installing collected packages: pyvirtualdisplay\n",
            "Successfully installed pyvirtualdisplay-3.0\n",
            "Looking in indexes: https://pypi.org/simple, https://us-python.pkg.dev/colab-wheels/public/simple/\n",
            "Collecting tf-agents[reverb]\n",
            "  Downloading tf_agents-0.13.0-py3-none-any.whl (1.3 MB)\n",
            "\u001b[K     |████████████████████████████████| 1.3 MB 30.5 MB/s \n",
            "\u001b[?25hRequirement already satisfied: wrapt>=1.11.1 in /usr/local/lib/python3.7/dist-packages (from tf-agents[reverb]) (1.14.1)\n",
            "Requirement already satisfied: numpy>=1.13.3 in /usr/local/lib/python3.7/dist-packages (from tf-agents[reverb]) (1.21.6)\n",
            "Requirement already satisfied: absl-py>=0.6.1 in /usr/local/lib/python3.7/dist-packages (from tf-agents[reverb]) (1.1.0)\n",
            "Requirement already satisfied: tensorflow-probability>=0.16.0 in /usr/local/lib/python3.7/dist-packages (from tf-agents[reverb]) (0.16.0)\n",
            "Collecting pygame==2.1.0\n",
            "  Downloading pygame-2.1.0-cp37-cp37m-manylinux_2_17_x86_64.manylinux2014_x86_64.whl (18.3 MB)\n",
            "\u001b[K     |████████████████████████████████| 18.3 MB 1.1 MB/s \n",
            "\u001b[?25hRequirement already satisfied: protobuf>=3.11.3 in /usr/local/lib/python3.7/dist-packages (from tf-agents[reverb]) (3.17.3)\n",
            "Requirement already satisfied: cloudpickle>=1.3 in /usr/local/lib/python3.7/dist-packages (from tf-agents[reverb]) (1.3.0)\n",
            "Requirement already satisfied: gin-config>=0.4.0 in /usr/local/lib/python3.7/dist-packages (from tf-agents[reverb]) (0.5.0)\n",
            "Requirement already satisfied: typing-extensions>=3.7.4.3 in /usr/local/lib/python3.7/dist-packages (from tf-agents[reverb]) (4.1.1)\n",
            "Requirement already satisfied: gym<=0.23.0,>=0.17.0 in /usr/local/lib/python3.7/dist-packages (from tf-agents[reverb]) (0.17.3)\n",
            "Requirement already satisfied: pillow in /usr/local/lib/python3.7/dist-packages (from tf-agents[reverb]) (7.1.2)\n",
            "Requirement already satisfied: six>=1.10.0 in /usr/local/lib/python3.7/dist-packages (from tf-agents[reverb]) (1.15.0)\n",
            "Collecting dm-reverb~=0.8.0\n",
            "  Downloading dm_reverb-0.8.0-cp37-cp37m-manylinux2014_x86_64.whl (6.5 MB)\n",
            "\u001b[K     |████████████████████████████████| 6.5 MB 41.6 MB/s \n",
            "\u001b[?25hCollecting tensorflow~=2.9.0\n",
            "  Downloading tensorflow-2.9.1-cp37-cp37m-manylinux_2_17_x86_64.manylinux2014_x86_64.whl (511.7 MB)\n",
            "\u001b[K     |████████████████████████████████| 511.7 MB 6.5 kB/s \n",
            "\u001b[?25hCollecting rlds\n",
            "  Downloading rlds-0.1.4-py3-none-manylinux2010_x86_64.whl (37 kB)\n",
            "Requirement already satisfied: portpicker in /usr/local/lib/python3.7/dist-packages (from dm-reverb~=0.8.0->tf-agents[reverb]) (1.3.9)\n",
            "Requirement already satisfied: dm-tree in /usr/local/lib/python3.7/dist-packages (from dm-reverb~=0.8.0->tf-agents[reverb]) (0.1.7)\n",
            "Requirement already satisfied: scipy in /usr/local/lib/python3.7/dist-packages (from gym<=0.23.0,>=0.17.0->tf-agents[reverb]) (1.4.1)\n",
            "Requirement already satisfied: pyglet<=1.5.0,>=1.4.0 in /usr/local/lib/python3.7/dist-packages (from gym<=0.23.0,>=0.17.0->tf-agents[reverb]) (1.5.0)\n",
            "Requirement already satisfied: future in /usr/local/lib/python3.7/dist-packages (from pyglet<=1.5.0,>=1.4.0->gym<=0.23.0,>=0.17.0->tf-agents[reverb]) (0.16.0)\n",
            "Requirement already satisfied: tensorflow-io-gcs-filesystem>=0.23.1 in /usr/local/lib/python3.7/dist-packages (from tensorflow~=2.9.0->tf-agents[reverb]) (0.26.0)\n",
            "Requirement already satisfied: opt-einsum>=2.3.2 in /usr/local/lib/python3.7/dist-packages (from tensorflow~=2.9.0->tf-agents[reverb]) (3.3.0)\n",
            "Requirement already satisfied: astunparse>=1.6.0 in /usr/local/lib/python3.7/dist-packages (from tensorflow~=2.9.0->tf-agents[reverb]) (1.6.3)\n",
            "Collecting keras<2.10.0,>=2.9.0rc0\n",
            "  Downloading keras-2.9.0-py2.py3-none-any.whl (1.6 MB)\n",
            "\u001b[K     |████████████████████████████████| 1.6 MB 62.4 MB/s \n",
            "\u001b[?25hCollecting tensorboard<2.10,>=2.9\n",
            "  Downloading tensorboard-2.9.1-py3-none-any.whl (5.8 MB)\n",
            "\u001b[K     |████████████████████████████████| 5.8 MB 29.0 MB/s \n",
            "\u001b[?25hCollecting tensorflow-estimator<2.10.0,>=2.9.0rc0\n",
            "  Downloading tensorflow_estimator-2.9.0-py2.py3-none-any.whl (438 kB)\n",
            "\u001b[K     |████████████████████████████████| 438 kB 71.6 MB/s \n",
            "\u001b[?25hCollecting flatbuffers<2,>=1.12\n",
            "  Downloading flatbuffers-1.12-py2.py3-none-any.whl (15 kB)\n",
            "Collecting gast<=0.4.0,>=0.2.1\n",
            "  Downloading gast-0.4.0-py3-none-any.whl (9.8 kB)\n",
            "Requirement already satisfied: libclang>=13.0.0 in /usr/local/lib/python3.7/dist-packages (from tensorflow~=2.9.0->tf-agents[reverb]) (14.0.1)\n",
            "Requirement already satisfied: google-pasta>=0.1.1 in /usr/local/lib/python3.7/dist-packages (from tensorflow~=2.9.0->tf-agents[reverb]) (0.2.0)\n",
            "Requirement already satisfied: packaging in /usr/local/lib/python3.7/dist-packages (from tensorflow~=2.9.0->tf-agents[reverb]) (21.3)\n",
            "Requirement already satisfied: h5py>=2.9.0 in /usr/local/lib/python3.7/dist-packages (from tensorflow~=2.9.0->tf-agents[reverb]) (3.1.0)\n",
            "Requirement already satisfied: termcolor>=1.1.0 in /usr/local/lib/python3.7/dist-packages (from tensorflow~=2.9.0->tf-agents[reverb]) (1.1.0)\n",
            "Requirement already satisfied: setuptools in /usr/local/lib/python3.7/dist-packages (from tensorflow~=2.9.0->tf-agents[reverb]) (57.4.0)\n",
            "Requirement already satisfied: keras-preprocessing>=1.1.1 in /usr/local/lib/python3.7/dist-packages (from tensorflow~=2.9.0->tf-agents[reverb]) (1.1.2)\n",
            "Requirement already satisfied: grpcio<2.0,>=1.24.3 in /usr/local/lib/python3.7/dist-packages (from tensorflow~=2.9.0->tf-agents[reverb]) (1.46.3)\n",
            "Requirement already satisfied: wheel<1.0,>=0.23.0 in /usr/local/lib/python3.7/dist-packages (from astunparse>=1.6.0->tensorflow~=2.9.0->tf-agents[reverb]) (0.37.1)\n",
            "Requirement already satisfied: cached-property in /usr/local/lib/python3.7/dist-packages (from h5py>=2.9.0->tensorflow~=2.9.0->tf-agents[reverb]) (1.5.2)\n",
            "Requirement already satisfied: werkzeug>=1.0.1 in /usr/local/lib/python3.7/dist-packages (from tensorboard<2.10,>=2.9->tensorflow~=2.9.0->tf-agents[reverb]) (1.0.1)\n",
            "Requirement already satisfied: requests<3,>=2.21.0 in /usr/local/lib/python3.7/dist-packages (from tensorboard<2.10,>=2.9->tensorflow~=2.9.0->tf-agents[reverb]) (2.23.0)\n",
            "Requirement already satisfied: google-auth<3,>=1.6.3 in /usr/local/lib/python3.7/dist-packages (from tensorboard<2.10,>=2.9->tensorflow~=2.9.0->tf-agents[reverb]) (1.35.0)\n",
            "Requirement already satisfied: google-auth-oauthlib<0.5,>=0.4.1 in /usr/local/lib/python3.7/dist-packages (from tensorboard<2.10,>=2.9->tensorflow~=2.9.0->tf-agents[reverb]) (0.4.6)\n",
            "Requirement already satisfied: tensorboard-data-server<0.7.0,>=0.6.0 in /usr/local/lib/python3.7/dist-packages (from tensorboard<2.10,>=2.9->tensorflow~=2.9.0->tf-agents[reverb]) (0.6.1)\n",
            "Requirement already satisfied: tensorboard-plugin-wit>=1.6.0 in /usr/local/lib/python3.7/dist-packages (from tensorboard<2.10,>=2.9->tensorflow~=2.9.0->tf-agents[reverb]) (1.8.1)\n",
            "Requirement already satisfied: markdown>=2.6.8 in /usr/local/lib/python3.7/dist-packages (from tensorboard<2.10,>=2.9->tensorflow~=2.9.0->tf-agents[reverb]) (3.3.7)\n",
            "Requirement already satisfied: pyasn1-modules>=0.2.1 in /usr/local/lib/python3.7/dist-packages (from google-auth<3,>=1.6.3->tensorboard<2.10,>=2.9->tensorflow~=2.9.0->tf-agents[reverb]) (0.2.8)\n",
            "Requirement already satisfied: cachetools<5.0,>=2.0.0 in /usr/local/lib/python3.7/dist-packages (from google-auth<3,>=1.6.3->tensorboard<2.10,>=2.9->tensorflow~=2.9.0->tf-agents[reverb]) (4.2.4)\n",
            "Requirement already satisfied: rsa<5,>=3.1.4 in /usr/local/lib/python3.7/dist-packages (from google-auth<3,>=1.6.3->tensorboard<2.10,>=2.9->tensorflow~=2.9.0->tf-agents[reverb]) (4.8)\n",
            "Requirement already satisfied: requests-oauthlib>=0.7.0 in /usr/local/lib/python3.7/dist-packages (from google-auth-oauthlib<0.5,>=0.4.1->tensorboard<2.10,>=2.9->tensorflow~=2.9.0->tf-agents[reverb]) (1.3.1)\n",
            "Requirement already satisfied: importlib-metadata>=4.4 in /usr/local/lib/python3.7/dist-packages (from markdown>=2.6.8->tensorboard<2.10,>=2.9->tensorflow~=2.9.0->tf-agents[reverb]) (4.11.4)\n",
            "Requirement already satisfied: zipp>=0.5 in /usr/local/lib/python3.7/dist-packages (from importlib-metadata>=4.4->markdown>=2.6.8->tensorboard<2.10,>=2.9->tensorflow~=2.9.0->tf-agents[reverb]) (3.8.0)\n",
            "Requirement already satisfied: pyasn1<0.5.0,>=0.4.6 in /usr/local/lib/python3.7/dist-packages (from pyasn1-modules>=0.2.1->google-auth<3,>=1.6.3->tensorboard<2.10,>=2.9->tensorflow~=2.9.0->tf-agents[reverb]) (0.4.8)\n",
            "Requirement already satisfied: certifi>=2017.4.17 in /usr/local/lib/python3.7/dist-packages (from requests<3,>=2.21.0->tensorboard<2.10,>=2.9->tensorflow~=2.9.0->tf-agents[reverb]) (2022.6.15)\n",
            "Requirement already satisfied: idna<3,>=2.5 in /usr/local/lib/python3.7/dist-packages (from requests<3,>=2.21.0->tensorboard<2.10,>=2.9->tensorflow~=2.9.0->tf-agents[reverb]) (2.10)\n",
            "Requirement already satisfied: chardet<4,>=3.0.2 in /usr/local/lib/python3.7/dist-packages (from requests<3,>=2.21.0->tensorboard<2.10,>=2.9->tensorflow~=2.9.0->tf-agents[reverb]) (3.0.4)\n",
            "Requirement already satisfied: urllib3!=1.25.0,!=1.25.1,<1.26,>=1.21.1 in /usr/local/lib/python3.7/dist-packages (from requests<3,>=2.21.0->tensorboard<2.10,>=2.9->tensorflow~=2.9.0->tf-agents[reverb]) (1.24.3)\n",
            "Requirement already satisfied: oauthlib>=3.0.0 in /usr/local/lib/python3.7/dist-packages (from requests-oauthlib>=0.7.0->google-auth-oauthlib<0.5,>=0.4.1->tensorboard<2.10,>=2.9->tensorflow~=2.9.0->tf-agents[reverb]) (3.2.0)\n",
            "Requirement already satisfied: decorator in /usr/local/lib/python3.7/dist-packages (from tensorflow-probability>=0.16.0->tf-agents[reverb]) (4.4.2)\n",
            "Requirement already satisfied: pyparsing!=3.0.5,>=2.0.2 in /usr/local/lib/python3.7/dist-packages (from packaging->tensorflow~=2.9.0->tf-agents[reverb]) (3.0.9)\n",
            "Installing collected packages: gast, tensorflow-estimator, tensorboard, pygame, keras, flatbuffers, tf-agents, tensorflow, rlds, dm-reverb\n",
            "  Attempting uninstall: gast\n",
            "    Found existing installation: gast 0.5.3\n",
            "    Uninstalling gast-0.5.3:\n",
            "      Successfully uninstalled gast-0.5.3\n",
            "  Attempting uninstall: tensorflow-estimator\n",
            "    Found existing installation: tensorflow-estimator 2.8.0\n",
            "    Uninstalling tensorflow-estimator-2.8.0:\n",
            "      Successfully uninstalled tensorflow-estimator-2.8.0\n",
            "  Attempting uninstall: tensorboard\n",
            "    Found existing installation: tensorboard 2.8.0\n",
            "    Uninstalling tensorboard-2.8.0:\n",
            "      Successfully uninstalled tensorboard-2.8.0\n",
            "  Attempting uninstall: keras\n",
            "    Found existing installation: keras 2.8.0\n",
            "    Uninstalling keras-2.8.0:\n",
            "      Successfully uninstalled keras-2.8.0\n",
            "  Attempting uninstall: flatbuffers\n",
            "    Found existing installation: flatbuffers 2.0\n",
            "    Uninstalling flatbuffers-2.0:\n",
            "      Successfully uninstalled flatbuffers-2.0\n",
            "  Attempting uninstall: tensorflow\n",
            "    Found existing installation: tensorflow 2.8.2+zzzcolab20220527125636\n",
            "    Uninstalling tensorflow-2.8.2+zzzcolab20220527125636:\n",
            "      Successfully uninstalled tensorflow-2.8.2+zzzcolab20220527125636\n",
            "Successfully installed dm-reverb-0.8.0 flatbuffers-1.12 gast-0.4.0 keras-2.9.0 pygame-2.1.0 rlds-0.1.4 tensorboard-2.9.1 tensorflow-2.9.1 tensorflow-estimator-2.9.0 tf-agents-0.13.0\n",
            "Looking in indexes: https://pypi.org/simple, https://us-python.pkg.dev/colab-wheels/public/simple/\n",
            "Requirement already satisfied: pyglet in /usr/local/lib/python3.7/dist-packages (1.5.0)\n",
            "Collecting xvfbwrapper\n",
            "  Downloading xvfbwrapper-0.2.9.tar.gz (5.6 kB)\n",
            "Requirement already satisfied: future in /usr/local/lib/python3.7/dist-packages (from pyglet) (0.16.0)\n",
            "Building wheels for collected packages: xvfbwrapper\n",
            "  Building wheel for xvfbwrapper (setup.py) ... \u001b[?25l\u001b[?25hdone\n",
            "  Created wheel for xvfbwrapper: filename=xvfbwrapper-0.2.9-py3-none-any.whl size=5023 sha256=bd8bec5094c7760dbaf075d33abb19790cfabacaef1e5397d4119caf258c1c57\n",
            "  Stored in directory: /root/.cache/pip/wheels/f4/a7/4b/c559bd2437620de067a11d4ab79222445bfe3c4f2130882f76\n",
            "Successfully built xvfbwrapper\n",
            "Installing collected packages: xvfbwrapper\n",
            "Successfully installed xvfbwrapper-0.2.9\n"
          ]
        }
      ],
      "source": [
        "!sudo apt-get update\n",
        "!sudo apt-get install -y xvfb ffmpeg freeglut3-dev\n",
        "!pip install 'imageio==2.4.0'\n",
        "!pip install pyvirtualdisplay\n",
        "!pip install tf-agents[reverb]\n",
        "!pip install pyglet xvfbwrapper\n"
      ]
    },
    {
      "cell_type": "code",
      "execution_count": 2,
      "metadata": {
        "id": "sMitx5qSgJk1"
      },
      "outputs": [],
      "source": [
        "from __future__ import absolute_import\n",
        "from __future__ import division\n",
        "from __future__ import print_function\n",
        "\n",
        "import base64\n",
        "import imageio\n",
        "import IPython\n",
        "import matplotlib.pyplot as plt\n",
        "import numpy as np\n",
        "import PIL.Image\n",
        "import pyvirtualdisplay\n",
        "import reverb\n",
        "\n",
        "import tensorflow as tf\n",
        "\n",
        "from tf_agents.agents.reinforce import reinforce_agent\n",
        "from tf_agents.drivers import py_driver\n",
        "from tf_agents.environments import suite_gym\n",
        "from tf_agents.environments import tf_py_environment\n",
        "from tf_agents.networks import actor_distribution_network\n",
        "from tf_agents.policies import py_tf_eager_policy\n",
        "from tf_agents.replay_buffers import reverb_replay_buffer\n",
        "from tf_agents.replay_buffers import reverb_utils\n",
        "from tf_agents.specs import tensor_spec\n",
        "from tf_agents.trajectories import trajectory\n",
        "from tf_agents.utils import common\n",
        "\n",
        "# Set up a virtual display for rendering OpenAI gym environments.\n",
        "display = pyvirtualdisplay.Display(visible=0, size=(1400, 900)).start()"
      ]
    },
    {
      "cell_type": "markdown",
      "metadata": {
        "id": "LmC0NDhdLIKY"
      },
      "source": [
        "## Hyperparameters"
      ]
    },
    {
      "cell_type": "code",
      "execution_count": 3,
      "metadata": {
        "id": "HC1kNrOsLSIZ"
      },
      "outputs": [],
      "source": [
        "env_name = \"CartPole-v0\" # @param {type:\"string\"}\n",
        "num_iterations = 250 # @param {type:\"integer\"}\n",
        "collect_episodes_per_iteration = 2 # @param {type:\"integer\"}\n",
        "replay_buffer_capacity = 2000 # @param {type:\"integer\"}\n",
        "\n",
        "fc_layer_params = (100,)\n",
        "\n",
        "learning_rate = 1e-3 # @param {type:\"number\"}\n",
        "log_interval = 25 # @param {type:\"integer\"}\n",
        "num_eval_episodes = 10 # @param {type:\"integer\"}\n",
        "eval_interval = 50 # @param {type:\"integer\"}"
      ]
    },
    {
      "cell_type": "markdown",
      "metadata": {
        "id": "VMsJC3DEgI0x"
      },
      "source": [
        "## Environment\n",
        "\n",
        "Environments in RL represent the task or problem that we are trying to solve. Standard environments can be easily created in TF-Agents using `suites`. We have different `suites` for loading environments from sources such as the OpenAI Gym, Atari, DM Control, etc., given a string environment name.\n",
        "\n",
        "Now let us load the CartPole environment from the OpenAI Gym suite."
      ]
    },
    {
      "cell_type": "code",
      "execution_count": 4,
      "metadata": {
        "id": "pYEz-S9gEv2-"
      },
      "outputs": [],
      "source": [
        "env = suite_gym.load(env_name)"
      ]
    },
    {
      "cell_type": "markdown",
      "metadata": {
        "id": "IIHYVBkuvPNw"
      },
      "source": [
        "We can render this environment to see how it looks. A free-swinging pole is attached to a cart.  The goal is to move the cart right or left in order to keep the pole pointing up."
      ]
    },
    {
      "cell_type": "code",
      "execution_count": 5,
      "metadata": {
        "id": "RlO7WIQHu_7D",
        "outputId": "98a36f45-6b98-45d2-b740-5bcf5038acf1",
        "colab": {
          "base_uri": "https://localhost:8080/",
          "height": 417
        }
      },
      "outputs": [
        {
          "output_type": "execute_result",
          "data": {
            "text/plain": [
              "<PIL.Image.Image image mode=RGB size=600x400 at 0x7F6E895A3BD0>"
            ],
            "image/png": "[encoded data removed]"
          },
          "metadata": {},
          "execution_count": 5
        }
      ],
      "source": [
        "#@test {\"skip\": true}\n",
        "env.reset()\n",
        "PIL.Image.fromarray(env.render())"
      ]
    },
    {
      "cell_type": "markdown",
      "metadata": {
        "id": "B9_lskPOey18"
      },
      "source": [
        "The `time_step = environment.step(action)` statement takes `action` in the environment.  The `TimeStep` tuple returned contains the environment's next observation and reward for that action. The `time_step_spec()` and `action_spec()` methods in the environment return the specifications (types, shapes, bounds) of the `time_step` and `action` respectively."
      ]
    },
    {
      "cell_type": "code",
      "execution_count": 6,
      "metadata": {
        "id": "exDv57iHfwQV",
        "outputId": "7502cd51-5072-4dc6-e339-3065b249c2fb",
        "colab": {
          "base_uri": "https://localhost:8080/"
        }
      },
      "outputs": [
        {
          "output_type": "stream",
          "name": "stdout",
          "text": [
            "Observation Spec:\n",
            "BoundedArraySpec(shape=(4,), dtype=dtype('float32'), name='observation', minimum=[-4.8000002e+00 -3.4028235e+38 -4.1887903e-01 -3.4028235e+38], maximum=[4.8000002e+00 3.4028235e+38 4.1887903e-01 3.4028235e+38])\n",
            "Action Spec:\n",
            "BoundedArraySpec(shape=(), dtype=dtype('int64'), name='action', minimum=0, maximum=1)\n"
          ]
        }
      ],
      "source": [
        "print('Observation Spec:')\n",
        "print(env.time_step_spec().observation)\n",
        "print('Action Spec:')\n",
        "print(env.action_spec())"
      ]
    },
    {
      "cell_type": "markdown",
      "metadata": {
        "id": "eJCgJnx3g0yY"
      },
      "source": [
        "So, we see that observation is an array of 4 floats: the position and velocity of the cart, and the angular position and velocity of the pole. Since only two actions are possible (move left or move right), the `action_spec` is a scalar where 0 means \"move left\" and 1 means \"move right.\""
      ]
    },
    {
      "cell_type": "code",
      "execution_count": 7,
      "metadata": {
        "id": "V2UGR5t_iZX-",
        "outputId": "d61b1721-e9d5-4d79-976e-c9051bdb1416",
        "colab": {
          "base_uri": "https://localhost:8080/"
        }
      },
      "outputs": [
        {
          "output_type": "stream",
          "name": "stdout",
          "text": [
            "Time step:\n",
            "TimeStep(\n",
            "{'discount': array(1., dtype=float32),\n",
            " 'observation': array([-0.00558126, -0.00546365, -0.03538398, -0.04261834], dtype=float32),\n",
            " 'reward': array(0., dtype=float32),\n",
            " 'step_type': array(0, dtype=int32)})\n",
            "Next time step:\n",
            "TimeStep(\n",
            "{'discount': array(1., dtype=float32),\n",
            " 'observation': array([-0.00569053,  0.19014736, -0.03623635, -0.3462519 ], dtype=float32),\n",
            " 'reward': array(1., dtype=float32),\n",
            " 'step_type': array(1, dtype=int32)})\n"
          ]
        }
      ],
      "source": [
        "time_step = env.reset()\n",
        "print('Time step:')\n",
        "print(time_step)\n",
        "\n",
        "action = np.array(1, dtype=np.int32)\n",
        "\n",
        "next_time_step = env.step(action)\n",
        "print('Next time step:')\n",
        "print(next_time_step)"
      ]
    },
    {
      "cell_type": "markdown",
      "metadata": {
        "id": "zuUqXAVmecTU"
      },
      "source": [
        "Usually we create two environments: one for training and one for evaluation. Most environments are written in pure python, but they can be easily converted to TensorFlow using the `TFPyEnvironment` wrapper. The original environment's API uses numpy arrays, the `TFPyEnvironment` converts these to/from `Tensors` for you to more easily interact with TensorFlow policies and agents.\n"
      ]
    },
    {
      "cell_type": "code",
      "execution_count": 8,
      "metadata": {
        "id": "Xp-Y4mD6eDhF"
      },
      "outputs": [],
      "source": [
        "train_py_env = suite_gym.load(env_name)\n",
        "eval_py_env = suite_gym.load(env_name)\n",
        "\n",
        "train_env = tf_py_environment.TFPyEnvironment(train_py_env)\n",
        "eval_env = tf_py_environment.TFPyEnvironment(eval_py_env)"
      ]
    },
    {
      "cell_type": "markdown",
      "metadata": {
        "id": "E9lW_OZYFR8A"
      },
      "source": [
        "## Agent\n",
        "\n",
        "The algorithm that we use to solve an RL problem is represented as an `Agent`. In addition to the REINFORCE agent, TF-Agents provides standard implementations of a variety of `Agents` such as [DQN](https://storage.googleapis.com/deepmind-media/dqn/DQNNaturePaper.pdf), [DDPG](https://arxiv.org/pdf/1509.02971.pdf), [TD3](https://arxiv.org/pdf/1802.09477.pdf), [PPO](https://arxiv.org/abs/1707.06347) and [SAC](https://arxiv.org/abs/1801.01290).\n",
        "\n",
        "To create a REINFORCE Agent, we first need an `Actor Network` that can learn to predict the action given an observation from the environment.\n",
        "\n",
        "We can easily create an `Actor Network` using the specs of the observations and actions. We can specify the layers in the network which, in this example, is the `fc_layer_params` argument set to a tuple of `ints` representing the sizes of each hidden layer (see the Hyperparameters section above).\n"
      ]
    },
    {
      "cell_type": "code",
      "execution_count": 9,
      "metadata": {
        "id": "TgkdEPg_muzV"
      },
      "outputs": [],
      "source": [
        "actor_net = actor_distribution_network.ActorDistributionNetwork(\n",
        "    train_env.observation_spec(),\n",
        "    train_env.action_spec(),\n",
        "    fc_layer_params=fc_layer_params)"
      ]
    },
    {
      "cell_type": "markdown",
      "metadata": {
        "id": "z62u55hSmviJ"
      },
      "source": [
        "We also need an `optimizer` to train the network we just created, and a `train_step_counter` variable to keep track of how many times the network was updated.\n"
      ]
    },
    {
      "cell_type": "code",
      "execution_count": 10,
      "metadata": {
        "id": "jbY4yrjTEyc9"
      },
      "outputs": [],
      "source": [
        "optimizer = tf.keras.optimizers.Adam(learning_rate=learning_rate)\n",
        "\n",
        "train_step_counter = tf.Variable(0)\n",
        "\n",
        "tf_agent = reinforce_agent.ReinforceAgent(\n",
        "    train_env.time_step_spec(),\n",
        "    train_env.action_spec(),\n",
        "    actor_network=actor_net,\n",
        "    optimizer=optimizer,\n",
        "    normalize_returns=True,\n",
        "    train_step_counter=train_step_counter)\n",
        "tf_agent.initialize()"
      ]
    },
    {
      "cell_type": "markdown",
      "metadata": {
        "id": "I0KLrEPwkn5x"
      },
      "source": [
        "## Policies\n",
        "\n",
        "In TF-Agents, policies represent the standard notion of policies in RL: given a `time_step` produce an action or a distribution over actions. The main method is `policy_step = policy.action(time_step)` where `policy_step` is a named tuple `PolicyStep(action, state, info)`.  The `policy_step.action` is the `action` to be applied to the environment, `state` represents the state for stateful (RNN) policies and `info` may contain auxiliary information such as log probabilities of the actions.\n",
        "\n",
        "Agents contain two policies: the main policy that is used for evaluation/deployment (agent.policy) and another policy that is used for data collection (agent.collect_policy)."
      ]
    },
    {
      "cell_type": "code",
      "execution_count": 11,
      "metadata": {
        "id": "BwY7StuMkuV4"
      },
      "outputs": [],
      "source": [
        "eval_policy = tf_agent.policy\n",
        "collect_policy = tf_agent.collect_policy"
      ]
    },
    {
      "cell_type": "markdown",
      "metadata": {
        "id": "94rCXQtbUbXv"
      },
      "source": [
        "## Metrics and Evaluation\n",
        "\n",
        "The most common metric used to evaluate a policy is the average return. The return is the sum of rewards obtained while running a policy in an environment for an episode, and we usually average this over a few episodes. We can compute the average return metric as follows.\n"
      ]
    },
    {
      "cell_type": "code",
      "execution_count": 12,
      "metadata": {
        "id": "bitzHo5_UbXy"
      },
      "outputs": [],
      "source": [
        "#@test {\"skip\": true}\n",
        "def compute_avg_return(environment, policy, num_episodes=10):\n",
        "\n",
        "  total_return = 0.0\n",
        "  for _ in range(num_episodes):\n",
        "\n",
        "    time_step = environment.reset()\n",
        "    episode_return = 0.0\n",
        "\n",
        "    while not time_step.is_last():\n",
        "      action_step = policy.action(time_step)\n",
        "      time_step = environment.step(action_step.action)\n",
        "      episode_return += time_step.reward\n",
        "    total_return += episode_return\n",
        "\n",
        "  avg_return = total_return / num_episodes\n",
        "  return avg_return.numpy()[0]\n",
        "\n",
        "\n",
        "# Please also see the metrics module for standard implementations of different\n",
        "# metrics."
      ]
    },
    {
      "cell_type": "markdown",
      "metadata": {
        "id": "NLva6g2jdWgr"
      },
      "source": [
        "## Replay Buffer\n",
        "\n",
        "In order to keep track of the data collected from the environment, we will use [Reverb](https://deepmind.com/research/open-source/Reverb), an efficient, extensible, and easy-to-use replay system by Deepmind. It stores experience data when we collect trajectories and is consumed during training.\n",
        "\n",
        "This replay buffer is constructed using specs describing the tensors that are to be stored, which can be obtained from the agent using `tf_agent.collect_data_spec`."
      ]
    },
    {
      "cell_type": "code",
      "execution_count": 13,
      "metadata": {
        "id": "vX2zGUWJGWAl"
      },
      "outputs": [],
      "source": [
        "table_name = 'uniform_table'\n",
        "replay_buffer_signature = tensor_spec.from_spec(\n",
        "      tf_agent.collect_data_spec)\n",
        "replay_buffer_signature = tensor_spec.add_outer_dim(\n",
        "      replay_buffer_signature)\n",
        "table = reverb.Table(\n",
        "    table_name,\n",
        "    max_size=replay_buffer_capacity,\n",
        "    sampler=reverb.selectors.Uniform(),\n",
        "    remover=reverb.selectors.Fifo(),\n",
        "    rate_limiter=reverb.rate_limiters.MinSize(1),\n",
        "    signature=replay_buffer_signature)\n",
        "\n",
        "reverb_server = reverb.Server([table])\n",
        "\n",
        "replay_buffer = reverb_replay_buffer.ReverbReplayBuffer(\n",
        "    tf_agent.collect_data_spec,\n",
        "    table_name=table_name,\n",
        "    sequence_length=None,\n",
        "    local_server=reverb_server)\n",
        "\n",
        "rb_observer = reverb_utils.ReverbAddEpisodeObserver(\n",
        "    replay_buffer.py_client,\n",
        "    table_name,\n",
        "    replay_buffer_capacity\n",
        ")"
      ]
    },
    {
      "cell_type": "markdown",
      "metadata": {
        "id": "ZGNTDJpZs4NN"
      },
      "source": [
        "For most agents, the `collect_data_spec` is a `Trajectory` named tuple containing the observation, action, reward etc."
      ]
    },
    {
      "cell_type": "markdown",
      "metadata": {
        "id": "rVD5nQ9ZGo8_"
      },
      "source": [
        "## Data Collection\n",
        "\n",
        "As REINFORCE learns from whole episodes, we define a function to collect an episode using the given data collection policy and save the data (observations, actions, rewards etc.) as trajectories in the replay buffer. Here we are using 'PyDriver' to run the experience collecting loop. You can learn more about TF Agents driver in our [drivers tutorial](https://www.tensorflow.org/agents/tutorials/4_drivers_tutorial)."
      ]
    },
    {
      "cell_type": "code",
      "execution_count": 14,
      "metadata": {
        "id": "wr1KSAEGG4h9"
      },
      "outputs": [],
      "source": [
        "#@test {\"skip\": true}\n",
        "\n",
        "def collect_episode(environment, policy, num_episodes):\n",
        "\n",
        "  driver = py_driver.PyDriver(\n",
        "    environment,\n",
        "    py_tf_eager_policy.PyTFEagerPolicy(\n",
        "      policy, use_tf_function=True),\n",
        "    [rb_observer],\n",
        "    max_episodes=num_episodes)\n",
        "  initial_time_step = environment.reset()\n",
        "  driver.run(initial_time_step)"
      ]
    },
    {
      "cell_type": "markdown",
      "metadata": {
        "id": "hBc9lj9VWWtZ"
      },
      "source": [
        "## Training the agent\n",
        "\n",
        "The training loop involves both collecting data from the environment and optimizing the agent's networks. Along the way, we will occasionally evaluate the agent's policy to see how we are doing.\n",
        "\n",
        "The following will take ~3 minutes to run."
      ]
    },
    {
      "cell_type": "code",
      "execution_count": 15,
      "metadata": {
        "id": "0pTbJ3PeyF-u",
        "outputId": "78405d43-a67e-4044-e417-479825081542",
        "colab": {
          "base_uri": "https://localhost:8080/"
        }
      },
      "outputs": [
        {
          "output_type": "stream",
          "name": "stdout",
          "text": [
            "CPU times: user 3 µs, sys: 0 ns, total: 3 µs\n",
            "Wall time: 5.96 µs\n",
            "step = 25: loss = 1.2348828315734863\n",
            "step = 50: loss = 0.8297450542449951\n",
            "step = 50: Average Return = 75.5\n",
            "step = 75: loss = 1.7536067962646484\n",
            "step = 100: loss = 1.330648422241211\n",
            "step = 100: Average Return = 180.1999969482422\n",
            "step = 125: loss = 1.9885563850402832\n",
            "step = 150: loss = -1.3172898292541504\n",
            "step = 150: Average Return = 127.0\n",
            "step = 175: loss = 1.2486677169799805\n",
            "step = 200: loss = 1.8639898300170898\n",
            "step = 200: Average Return = 177.10000610351562\n",
            "step = 225: loss = -2.956256866455078\n",
            "step = 250: loss = 0.22380638122558594\n",
            "step = 250: Average Return = 200.0\n"
          ]
        }
      ],
      "source": [
        "#@test {\"skip\": true}\n",
        "try:\n",
        "  %%time\n",
        "except:\n",
        "  pass\n",
        "\n",
        "# (Optional) Optimize by wrapping some of the code in a graph using TF function.\n",
        "tf_agent.train = common.function(tf_agent.train)\n",
        "\n",
        "# Reset the train step\n",
        "tf_agent.train_step_counter.assign(0)\n",
        "\n",
        "# Evaluate the agent's policy once before training.\n",
        "avg_return = compute_avg_return(eval_env, tf_agent.policy, num_eval_episodes)\n",
        "returns = [avg_return]\n",
        "\n",
        "for _ in range(num_iterations):\n",
        "\n",
        "  # Collect a few episodes using collect_policy and save to the replay buffer.\n",
        "  collect_episode(\n",
        "      train_py_env, tf_agent.collect_policy, collect_episodes_per_iteration)\n",
        "\n",
        "  # Use data from the buffer and update the agent's network.\n",
        "  iterator = iter(replay_buffer.as_dataset(sample_batch_size=1))\n",
        "  trajectories, _ = next(iterator)\n",
        "  train_loss = tf_agent.train(experience=trajectories)  \n",
        "\n",
        "  replay_buffer.clear()\n",
        "\n",
        "  step = tf_agent.train_step_counter.numpy()\n",
        "\n",
        "  if step % log_interval == 0:\n",
        "    print('step = {0}: loss = {1}'.format(step, train_loss.loss))\n",
        "\n",
        "  if step % eval_interval == 0:\n",
        "    avg_return = compute_avg_return(eval_env, tf_agent.policy, num_eval_episodes)\n",
        "    print('step = {0}: Average Return = {1}'.format(step, avg_return))\n",
        "    returns.append(avg_return)"
      ]
    },
    {
      "cell_type": "markdown",
      "metadata": {
        "id": "68jNcA_TiJDq"
      },
      "source": [
        "## Visualization\n"
      ]
    },
    {
      "cell_type": "markdown",
      "metadata": {
        "id": "aO-LWCdbbOIC"
      },
      "source": [
        "### Plots\n",
        "\n",
        "We can plot return vs global steps to see the performance of our agent. In `Cartpole-v0`, the environment gives a reward of +1 for every time step the pole stays up, and since the maximum number of steps is 200, the maximum possible return is also 200."
      ]
    },
    {
      "cell_type": "code",
      "execution_count": 16,
      "metadata": {
        "id": "NxtL1mbOYCVO",
        "outputId": "8186fea4-a716-4584-fbec-8db97ef84daa",
        "colab": {
          "base_uri": "https://localhost:8080/",
          "height": 305
        }
      },
      "outputs": [
        {
          "output_type": "execute_result",
          "data": {
            "text/plain": [
              "(-0.025000000000000355, 250.0)"
            ]
          },
          "metadata": {},
          "execution_count": 16
        },
        {
          "output_type": "display_data",
          "data": {
            "text/plain": [
              "<Figure size 432x288 with 1 Axes>"
            ],
            "image/png": "[encoded data removed]"
          },
          "metadata": {
            "needs_background": "light"
          }
        }
      ],
      "source": [
        "#@test {\"skip\": true}\n",
        "\n",
        "steps = range(0, num_iterations + 1, eval_interval)\n",
        "plt.plot(steps, returns)\n",
        "plt.ylabel('Average Return')\n",
        "plt.xlabel('Step')\n",
        "plt.ylim(top=250)"
      ]
    },
    {
      "cell_type": "markdown",
      "metadata": {
        "id": "M7-XpPP99Cy7"
      },
      "source": [
        "### Videos"
      ]
    },
    {
      "cell_type": "markdown",
      "metadata": {
        "id": "9pGfGxSH32gn"
      },
      "source": [
        "It is helpful to visualize the performance of an agent by rendering the environment at each step. Before we do that, let us first create a function to embed videos in this colab."
      ]
    },
    {
      "cell_type": "code",
      "execution_count": 17,
      "metadata": {
        "id": "ULaGr8pvOKbl"
      },
      "outputs": [],
      "source": [
        "def embed_mp4(filename):\n",
        "  \"\"\"Embeds an mp4 file in the notebook.\"\"\"\n",
        "  video = open(filename,'rb').read()\n",
        "  b64 = base64.b64encode(video)\n",
        "  tag = '''\n",
        "  <video width=\"640\" height=\"480\" controls>\n",
        "    <source src=\"data:video/mp4;base64,{0}\" type=\"video/mp4\">\n",
        "  Your browser does not support the video tag.\n",
        "  </video>'''.format(b64.decode())\n",
        "\n",
        "  return IPython.display.HTML(tag)"
      ]
    },
    {
      "cell_type": "markdown",
      "metadata": {
        "id": "9c_PH-pX4Pr5"
      },
      "source": [
        "The following code visualizes the agent's policy for a few episodes:"
      ]
    },
    {
      "cell_type": "code",
      "execution_count": 18,
      "metadata": {
        "id": "owOVWB158NlF",
        "outputId": "7853814b-9642-49ba-d9ac-61b9c4a3f156",
        "colab": {
          "base_uri": "https://localhost:8080/",
          "height": 545
        }
      },
      "outputs": [
        {
          "output_type": "stream",
          "name": "stderr",
          "text": [
            "WARNING:root:IMAGEIO FFMPEG_WRITER WARNING: input image is not divisible by macro_block_size=16, resizing from (400, 600) to (400, 608) to ensure video compatibility with most codecs and players. To prevent resizing, make your input image divisible by the macro_block_size or set the macro_block_size to None (risking incompatibility). You may also see a FFMPEG warning concerning speedloss due to data not being aligned.\n"
          ]
        },
        {
          "output_type": "execute_result",
          "data": {
            "text/plain": [
              "<IPython.core.display.HTML object>"
            ],
            "text/html": [
              "\n",
              "  <video width=\"640\" height=\"480\" controls>\n",
              "    <source src=\"data:video/mp4;base64,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\" type=\"video/mp4\">\n",
              "  Your browser does not support the video tag.\n",
              "  </video>"
            ]
          },
          "metadata": {},
          "execution_count": 18
        }
      ],
      "source": [
        "num_episodes = 3\n",
        "video_filename = 'imageio.mp4'\n",
        "with imageio.get_writer(video_filename, fps=60) as video:\n",
        "  for _ in range(num_episodes):\n",
        "    time_step = eval_env.reset()\n",
        "    video.append_data(eval_py_env.render())\n",
        "    while not time_step.is_last():\n",
        "      action_step = tf_agent.policy.action(time_step)\n",
        "      time_step = eval_env.step(action_step.action)\n",
        "      video.append_data(eval_py_env.render())\n",
        "\n",
        "embed_mp4(video_filename)"
      ]
    }
  ],
  "metadata": {
    "accelerator": "GPU",
    "colab": {
      "collapsed_sections": [],
      "name": "6_reinforce_tutorial.ipynb",
      "provenance": [],
      "toc_visible": true
    },
    "kernelspec": {
      "display_name": "Python 3",
      "name": "python3"
    }
  },
  "nbformat": 4,
  "nbformat_minor": 0
}