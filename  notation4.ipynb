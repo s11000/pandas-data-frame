{
  "nbformat": 4,
  "nbformat_minor": 0,
  "metadata": {
    "colab": {
      "provenance": [],
      "authorship_tag": "ABX9TyNvv8AmV3aCGa8VegeJ7e+w",
      "include_colab_link": true
    },
    "kernelspec": {
      "name": "python3",
      "display_name": "Python 3"
    },
    "language_info": {
      "name": "python"
    }
  },
  "cells": [
    {
      "cell_type": "markdown",
      "metadata": {
        "id": "view-in-github",
        "colab_type": "text"
      },
      "source": [
        "<a href=\"https://colab.research.google.com/github/s11000/pandas-data-frame/blob/main/%20notation4.ipynb\" target=\"_parent\"><img src=\"https://colab.research.google.com/assets/colab-badge.svg\" alt=\"Open In Colab\"/></a>"
      ]
    },
    {
      "cell_type": "code",
      "source": [
        "def constant_algo(items):\n",
        "    result = items[0] * items[0]\n",
        "    print(result)\n",
        "\n",
        "constant_algo([4, 5, 6, 8])"
      ],
      "metadata": {
        "colab": {
          "base_uri": "https://localhost:8080/"
        },
        "id": "XMoMSXNJhmVf",
        "outputId": "74d95ee6-64de-47b1-ca70-e45d6e8f9c8e"
      },
      "execution_count": 50,
      "outputs": [
        {
          "output_type": "stream",
          "name": "stdout",
          "text": [
            "16\n"
          ]
        }
      ]
    },
    {
      "cell_type": "code",
      "source": [
        "%timeit fact(50)"
      ],
      "metadata": {
        "colab": {
          "base_uri": "https://localhost:8080/"
        },
        "id": "ImDCRnlGkJMt",
        "outputId": "3c4fe72b-722a-4c23-ae15-8c4e8373f82b"
      },
      "execution_count": 65,
      "outputs": [
        {
          "output_type": "stream",
          "name": "stdout",
          "text": [
            "4.55 µs ± 117 ns per loop (mean ± std. dev. of 7 runs, 100000 loops each)\n"
          ]
        }
      ]
    },
    {
      "cell_type": "code",
      "source": [],
      "metadata": {
        "id": "tXAkIOS9kJKN"
      },
      "execution_count": null,
      "outputs": []
    },
    {
      "cell_type": "code",
      "source": [
        "def fact2(n):\n",
        "    if n == 0:\n",
        "        return 1\n",
        "    else:\n",
        "        return n * fact2(n-1)\n",
        "\n",
        "print(fact2(5))\n",
        "import matplotlib.pyplot as plt\n",
        "\n",
        "# Calculate the factorial for a range of numbers\n",
        "x_values = range(1, 6)  # Numbers from 1 to 5\n",
        "y_values = [fact(n) for n in x_values]  # Calculate factorials\n",
        "\n",
        "plt.plot(x_values, y_values)  # Plot x against y\n",
        "plt.show()"
      ],
      "metadata": {
        "colab": {
          "base_uri": "https://localhost:8080/",
          "height": 447
        },
        "id": "LeyFEf8OhmQX",
        "outputId": "5c9f4c9d-f1a8-482d-c524-2e353b7ed5f0"
      },
      "execution_count": 62,
      "outputs": [
        {
          "output_type": "stream",
          "name": "stdout",
          "text": [
            "120\n"
          ]
        },
        {
          "output_type": "display_data",
          "data": {
            "text/plain": [
              "<Figure size 640x480 with 1 Axes>"
            ],
            "image/png": "[encoded data removed]"
          },
          "metadata": {}
        }
      ]
    },
    {
      "cell_type": "code",
      "source": [
        "%timeit fact(50)"
      ],
      "metadata": {
        "colab": {
          "base_uri": "https://localhost:8080/"
        },
        "id": "jhU9rrudiFZi",
        "outputId": "7fca51b3-649d-49cc-85c4-540e0e90c91e"
      },
      "execution_count": 53,
      "outputs": [
        {
          "output_type": "stream",
          "name": "stdout",
          "text": [
            "4.81 µs ± 152 ns per loop (mean ± std. dev. of 7 runs, 100000 loops each)\n"
          ]
        }
      ]
    },
    {
      "cell_type": "code",
      "source": [
        "%timeit fact2(50)"
      ],
      "metadata": {
        "colab": {
          "base_uri": "https://localhost:8080/"
        },
        "id": "Sfp5be4ciFU5",
        "outputId": "320c3c9f-6c86-4f3c-f758-454646c04825"
      },
      "execution_count": 55,
      "outputs": [
        {
          "output_type": "stream",
          "name": "stdout",
          "text": [
            "11.1 µs ± 2.64 µs per loop (mean ± std. dev. of 7 runs, 100000 loops each)\n"
          ]
        }
      ]
    },
    {
      "cell_type": "code",
      "source": [
        "steps = []\n",
        "def linear(n):\n",
        "    return n\n",
        "\n",
        "for i in range(1, 100):\n",
        "    steps.append(linear(i))\n",
        "\n",
        "plt.plot(steps)\n",
        "plt.xlabel('Inputs')\n",
        "plt.ylabel('Steps')"
      ],
      "metadata": {
        "colab": {
          "base_uri": "https://localhost:8080/",
          "height": 466
        },
        "id": "w1tGC83niFST",
        "outputId": "54bc2099-ccd3-4904-f49d-d72fdfcd6701"
      },
      "execution_count": 66,
      "outputs": [
        {
          "output_type": "execute_result",
          "data": {
            "text/plain": [
              "Text(0, 0.5, 'Steps')"
            ]
          },
          "metadata": {},
          "execution_count": 66
        },
        {
          "output_type": "display_data",
          "data": {
            "text/plain": [
              "<Figure size 640x480 with 1 Axes>"
            ],
            "image/png": "[encoded data removed]"
          },
          "metadata": {}
        }
      ]
    },
    {
      "cell_type": "code",
      "source": [],
      "metadata": {
        "id": "oy104XE3iFPt"
      },
      "execution_count": null,
      "outputs": []
    },
    {
      "cell_type": "code",
      "source": [],
      "metadata": {
        "id": "_uu6zaVliFNK"
      },
      "execution_count": null,
      "outputs": []
    },
    {
      "cell_type": "code",
      "source": [],
      "metadata": {
        "id": "6tfpgAVWiFKw"
      },
      "execution_count": null,
      "outputs": []
    },
    {
      "cell_type": "code",
      "source": [],
      "metadata": {
        "id": "CvvsdU9MiFIP"
      },
      "execution_count": null,
      "outputs": []
    },
    {
      "cell_type": "code",
      "source": [],
      "metadata": {
        "id": "CbdKaGG0iFFs"
      },
      "execution_count": null,
      "outputs": []
    },
    {
      "cell_type": "code",
      "source": [],
      "metadata": {
        "id": "j_0Nw10hiFDG"
      },
      "execution_count": null,
      "outputs": []
    },
    {
      "cell_type": "code",
      "source": [],
      "metadata": {
        "id": "tuQqTqY8iFAh"
      },
      "execution_count": null,
      "outputs": []
    },
    {
      "cell_type": "code",
      "source": [],
      "metadata": {
        "id": "e-Utj8CHiE-J"
      },
      "execution_count": null,
      "outputs": []
    },
    {
      "cell_type": "code",
      "source": [],
      "metadata": {
        "id": "enXBRFmkiE7q"
      },
      "execution_count": null,
      "outputs": []
    },
    {
      "cell_type": "code",
      "source": [],
      "metadata": {
        "id": "AtUdS2TchmOH"
      },
      "execution_count": null,
      "outputs": []
    },
    {
      "cell_type": "code",
      "source": [],
      "metadata": {
        "id": "OLJEMNg7hmL3"
      },
      "execution_count": null,
      "outputs": []
    },
    {
      "cell_type": "code",
      "source": [],
      "metadata": {
        "id": "JWIbccZ_hmJA"
      },
      "execution_count": null,
      "outputs": []
    },
    {
      "cell_type": "code",
      "source": [
        "def constant_algo(items):\n",
        "    \"\"\"\n",
        "\n",
        "    Args:\n",
        "      items:\n",
        "    \"\"\"\n",
        "    result = items[0:50] # Extract the first 3 elements\n",
        "    result_multiplied = [x * x for x in result] # Multiply each element by 2 (or any desired factor)\n",
        "    print(result_multiplied)\n",
        "    return result_multiplied # Return the calculated values\n",
        "\n",
        "import matplotlib.pyplot as plt\n",
        "result = constant_algo(items=list(range(1,50))) # Store the result\n",
        "\n",
        "\n",
        "plt.plot(result) # Plot the result\n",
        "\n",
        "plt.plot(steps) # Plot the result\n",
        "plt.show() # Display the plot\n",
        "result_list\n",
        "steps"
      ],
      "metadata": {
        "id": "Z9rVQIJpXFX5",
        "colab": {
          "base_uri": "https://localhost:8080/",
          "height": 1000
        },
        "outputId": "c4bd660d-c982-428d-a66d-7c9170fa860d"
      },
      "execution_count": 47,
      "outputs": [
        {
          "output_type": "stream",
          "name": "stdout",
          "text": [
            "[1, 4, 9, 16, 25, 36, 49, 64, 81, 100, 121, 144, 169, 196, 225, 256, 289, 324, 361, 400, 441, 484, 529, 576, 625, 676, 729, 784, 841, 900, 961, 1024, 1089, 1156, 1225, 1296, 1369, 1444, 1521, 1600, 1681, 1764, 1849, 1936, 2025, 2116, 2209, 2304, 2401]\n"
          ]
        },
        {
          "output_type": "display_data",
          "data": {
            "text/plain": [
              "<Figure size 640x480 with 1 Axes>"
            ],
            "image/png": "[encoded data removed]"
          },
          "metadata": {}
        },
        {
          "output_type": "execute_result",
          "data": {
            "text/plain": [
              "[1,\n",
              " 2,\n",
              " 3,\n",
              " 4,\n",
              " 5,\n",
              " 6,\n",
              " 7,\n",
              " 8,\n",
              " 9,\n",
              " 10,\n",
              " 11,\n",
              " 12,\n",
              " 13,\n",
              " 14,\n",
              " 15,\n",
              " 16,\n",
              " 17,\n",
              " 18,\n",
              " 19,\n",
              " 20,\n",
              " 21,\n",
              " 22,\n",
              " 23,\n",
              " 24,\n",
              " 25,\n",
              " 26,\n",
              " 27,\n",
              " 28,\n",
              " 29,\n",
              " 30,\n",
              " 31,\n",
              " 32,\n",
              " 33,\n",
              " 34,\n",
              " 35,\n",
              " 36,\n",
              " 37,\n",
              " 38,\n",
              " 39,\n",
              " 40,\n",
              " 41,\n",
              " 42,\n",
              " 43,\n",
              " 44,\n",
              " 45,\n",
              " 46,\n",
              " 47,\n",
              " 48,\n",
              " 49,\n",
              " 50]"
            ]
          },
          "metadata": {},
          "execution_count": 47
        }
      ]
    },
    {
      "source": [
        "import matplotlib.pyplot as plt\n",
        "def constant_algo(num_steps):\n",
        "\n",
        "    result = [1] * num_steps # Generate a list of 1s (or any constant value)\n",
        "    return result\n",
        "steps = []\n",
        "plt.xlabel('Inputs')\n",
        "plt.ylabel('Steps')\n",
        "steps = range(1, 100)  # Define the number of steps\n",
        "result_list = constant_algo(len(steps))  # Get the constant results\n",
        "#plt.plot(steps)\n",
        "\n",
        "plt.plot(steps, result_list)  # Plot steps vs. constant results\n"
      ],
      "cell_type": "code",
      "metadata": {
        "colab": {
          "base_uri": "https://localhost:8080/",
          "height": 466
        },
        "id": "jcsNOWN8e3SV",
        "outputId": "2d40e0aa-28b3-4bf8-8001-cd942bc16719"
      },
      "execution_count": 78,
      "outputs": [
        {
          "output_type": "execute_result",
          "data": {
            "text/plain": [
              "[<matplotlib.lines.Line2D at 0x7ee55233ca00>]"
            ]
          },
          "metadata": {},
          "execution_count": 78
        },
        {
          "output_type": "display_data",
          "data": {
            "text/plain": [
              "<Figure size 640x480 with 1 Axes>"
            ],
            "image/png": "[encoded data removed]"
          },
          "metadata": {}
        }
      ]
    },
    {
      "cell_type": "code",
      "source": [
        "\n",
        "def linear(n):\n",
        "    return n\n",
        "\n",
        "for i in range(1, 100):\n",
        "    steps.append(linear(i))\n",
        "plt.ylabel('Steps')\n",
        "plt.plot(steps)\n",
        "plt.xlabel('Inputs')"
      ],
      "metadata": {
        "id": "jib8d2JPXFVT",
        "colab": {
          "base_uri": "https://localhost:8080/",
          "height": 211
        },
        "outputId": "ec219a71-881f-463f-c113-9d5869b985d5"
      },
      "execution_count": 79,
      "outputs": [
        {
          "output_type": "error",
          "ename": "AttributeError",
          "evalue": "'range' object has no attribute 'append'",
          "traceback": [
            "\u001b[0;31m---------------------------------------------------------------------------\u001b[0m",
            "\u001b[0;31mAttributeError\u001b[0m                            Traceback (most recent call last)",
            "\u001b[0;32m<ipython-input-79-82e6b93be1a9>\u001b[0m in \u001b[0;36m<cell line: 4>\u001b[0;34m()\u001b[0m\n\u001b[1;32m      3\u001b[0m \u001b[0;34m\u001b[0m\u001b[0m\n\u001b[1;32m      4\u001b[0m \u001b[0;32mfor\u001b[0m \u001b[0mi\u001b[0m \u001b[0;32min\u001b[0m \u001b[0mrange\u001b[0m\u001b[0;34m(\u001b[0m\u001b[0;36m1\u001b[0m\u001b[0;34m,\u001b[0m \u001b[0;36m100\u001b[0m\u001b[0;34m)\u001b[0m\u001b[0;34m:\u001b[0m\u001b[0;34m\u001b[0m\u001b[0;34m\u001b[0m\u001b[0m\n\u001b[0;32m----> 5\u001b[0;31m     \u001b[0msteps\u001b[0m\u001b[0;34m.\u001b[0m\u001b[0mappend\u001b[0m\u001b[0;34m(\u001b[0m\u001b[0mlinear\u001b[0m\u001b[0;34m(\u001b[0m\u001b[0mi\u001b[0m\u001b[0;34m)\u001b[0m\u001b[0;34m)\u001b[0m\u001b[0;34m\u001b[0m\u001b[0;34m\u001b[0m\u001b[0m\n\u001b[0m\u001b[1;32m      6\u001b[0m \u001b[0mplt\u001b[0m\u001b[0;34m.\u001b[0m\u001b[0mylabel\u001b[0m\u001b[0;34m(\u001b[0m\u001b[0;34m'Steps'\u001b[0m\u001b[0;34m)\u001b[0m\u001b[0;34m\u001b[0m\u001b[0;34m\u001b[0m\u001b[0m\n\u001b[1;32m      7\u001b[0m \u001b[0mplt\u001b[0m\u001b[0;34m.\u001b[0m\u001b[0mplot\u001b[0m\u001b[0;34m(\u001b[0m\u001b[0msteps\u001b[0m\u001b[0;34m)\u001b[0m\u001b[0;34m\u001b[0m\u001b[0;34m\u001b[0m\u001b[0m\n",
            "\u001b[0;31mAttributeError\u001b[0m: 'range' object has no attribute 'append'"
          ]
        }
      ]
    },
    {
      "source": [
        "import matplotlib.pyplot as plt\n",
        "\n",
        "def linear(n):\n",
        "    return n\n",
        "\n",
        "steps = []  # Initialize steps as a list\n",
        "for i in range(1, 100):\n",
        "    steps.append(linear(i))\n",
        "plt.ylabel('Steps')\n",
        "plt.plot(steps)\n",
        "plt.xlabel('Inputs')"
      ],
      "cell_type": "code",
      "metadata": {
        "colab": {
          "base_uri": "https://localhost:8080/",
          "height": 466
        },
        "id": "RjY4QCt7prQ_",
        "outputId": "f239e35a-d3fe-400c-b976-8e5fc333508b"
      },
      "execution_count": 80,
      "outputs": [
        {
          "output_type": "execute_result",
          "data": {
            "text/plain": [
              "Text(0.5, 0, 'Inputs')"
            ]
          },
          "metadata": {},
          "execution_count": 80
        },
        {
          "output_type": "display_data",
          "data": {
            "text/plain": [
              "<Figure size 640x480 with 1 Axes>"
            ],
            "image/png": "[encoded data removed]"
          },
          "metadata": {}
        }
      ]
    },
    {
      "cell_type": "code",
      "source": [],
      "metadata": {
        "id": "nqVibnU2XFSq"
      },
      "execution_count": null,
      "outputs": []
    },
    {
      "cell_type": "code",
      "source": [
        "// Takes in an array and recursively merge sorts it\n",
        "const mergeSort = (array, p, r) => {\n",
        "  if (p < r) {\n",
        "  var q = Math.floor((p + r)/2);\n",
        "  mergeSort(array, p, q);\n",
        "  mergeSort(array, q+1, r);\n",
        "  merge(array, p, q, r);\n",
        "  }\n",
        "};\n",
        "\n",
        "// Takes in an array that has two sorted subarrays,\n",
        "//  from [p..q] and [q+1..r], and merges the array\n",
        "const merge = (array, p, q, r) => {\n",
        "  const lowHalf=[];\n",
        "  const highHalf=[];\n",
        "  let k=p;\n",
        "  let i,j;\n",
        "  for(i=0;k<=q;i++,k++){\n",
        "    lowHalf[i]=array[k];\n",
        "  }\n",
        "  for(j=0;k<=r;j++,k++){\n",
        "    highHalf[j]=array[k];\n",
        "  }\n",
        "  k=p;\n",
        "  for(j=i=0;i<lowHalf.length && j<highHalf.length;){\n",
        "    if(lowHalf[i]<highHalf[j]){\n",
        "      array[k]=lowHalf[i];i++;\n",
        "    } else {\n",
        "      array[k]=highHalf[j]; j++;\n",
        "    }\n",
        "    k++;\n",
        "  }\n",
        "  for(;i<lowHalf.length;){\n",
        "    array[k]=lowHalf[i];\n",
        "    i++;\n",
        "    k++;\n",
        "    }\n",
        "  for(;j<highHalf.length;){\n",
        "    array[k]=highHalf[j];\n",
        "    j++;\n",
        "    k++;\n",
        "  }\n",
        "};"
      ],
      "metadata": {
        "id": "4zNAymyhXFQZ",
        "colab": {
          "base_uri": "https://localhost:8080/",
          "height": 106
        },
        "outputId": "dbd346a4-e44f-47ec-8c3a-c4c207c27f97"
      },
      "execution_count": 82,
      "outputs": [
        {
          "output_type": "error",
          "ename": "SyntaxError",
          "evalue": "invalid syntax (<ipython-input-82-b84df6f94e0b>, line 1)",
          "traceback": [
            "\u001b[0;36m  File \u001b[0;32m\"<ipython-input-82-b84df6f94e0b>\"\u001b[0;36m, line \u001b[0;32m1\u001b[0m\n\u001b[0;31m    // Takes in an array and recursively merge sorts it\u001b[0m\n\u001b[0m    ^\u001b[0m\n\u001b[0;31mSyntaxError\u001b[0m\u001b[0;31m:\u001b[0m invalid syntax\n"
          ]
        }
      ]
    },
    {
      "source": [
        "def mergeSort(array, p, r):\n",
        "  if (p < r):\n",
        "    q = (p + r)//2\n",
        "    mergeSort(array, p, q)\n",
        "    mergeSort(array, q+1, r) # Fixed indentation here\n",
        "    merge(array, p, q, r)\n",
        "\n",
        "def merge(array, p, q, r):  # Also changed const to def as this is Python, not Javascript\n",
        "  lowHalf = []\n",
        "  highHalf = []\n",
        "  k = p\n",
        "  i = 0\n",
        "  j = 0\n",
        "  for i in range(q - p + 1):\n",
        "    lowHalf.append(array[k])\n",
        "    k += 1\n",
        "  for j in range(r - q):\n",
        "    highHalf.append(array[k])\n",
        "    k += 1\n",
        "  k = p\n",
        "  i = 0\n",
        "  j = 0\n",
        "  while i < len(lowHalf) and j < len(highHalf):\n",
        "    if lowHalf[i] < highHalf[j]:\n",
        "      array[k] = lowHalf[i]\n",
        "      i += 1\n",
        "    else:\n",
        "      array[k] = highHalf[j]\n",
        "      j += 1\n",
        "    k += 1\n",
        "  while i < len(lowHalf):\n",
        "    array[k] = lowHalf[i]\n",
        "    i += 1\n",
        "    k += 1\n",
        "  while j < len(highHalf):\n",
        "    array[k] = highHalf[j]\n",
        "    j += 1\n",
        "    k += 1\n",
        ""
      ],
      "cell_type": "code",
      "metadata": {
        "id": "tjt8K_r6uwPV"
      },
      "execution_count": 97,
      "outputs": []
    },
    {
      "cell_type": "code",
      "source": [],
      "metadata": {
        "id": "CSZ9Xm2IXFLZ"
      },
      "execution_count": null,
      "outputs": []
    },
    {
      "cell_type": "code",
      "source": [
        "Numbers = [5,17,33,41,55,61,80]\n",
        "Find = 55\n",
        "\n",
        "low = 0\n",
        "high = len(Numbers) - 1\n",
        "\n",
        "while low <= high:\n",
        "    mid = (low + high) // 2\n",
        "    if Numbers[mid] > Find:\n",
        "        high = mid - 1\n",
        "    elif Numbers[mid] < Find:\n",
        "low = mid + 1\n",
        "    else:\n",
        "        break\n",
        "\n",
        "print(mid)"
      ],
      "metadata": {
        "id": "43LiyreaXFIX",
        "colab": {
          "base_uri": "https://localhost:8080/",
          "height": 106
        },
        "outputId": "5195229f-c3e9-469f-c2c9-7621decc2e5e"
      },
      "execution_count": 102,
      "outputs": [
        {
          "output_type": "error",
          "ename": "IndentationError",
          "evalue": "expected an indented block after 'elif' statement on line 11 (<ipython-input-102-a065791fd048>, line 12)",
          "traceback": [
            "\u001b[0;36m  File \u001b[0;32m\"<ipython-input-102-a065791fd048>\"\u001b[0;36m, line \u001b[0;32m12\u001b[0m\n\u001b[0;31m    low = mid + 1\u001b[0m\n\u001b[0m                 ^\u001b[0m\n\u001b[0;31mIndentationError\u001b[0m\u001b[0;31m:\u001b[0m expected an indented block after 'elif' statement on line 11\n"
          ]
        }
      ]
    },
    {
      "source": [
        "Numbers = [5,17,33,41,55,61,80]\n",
        "Find = 55\n",
        "\n",
        "low = 0\n",
        "high = len(Numbers) - 1\n",
        "\n",
        "while low <= high:\n",
        "    mid = (low + high) // 2\n",
        "    if Numbers[mid] > Find:\n",
        "        high = mid - 1\n",
        "    elif Numbers[mid] < Find:\n",
        "        low = mid + 1  # Indent this line to align with the 'if' and 'else' blocks\n",
        "    else:\n",
        "        break\n",
        "\n",
        "print(mid)"
      ],
      "cell_type": "code",
      "metadata": {
        "colab": {
          "base_uri": "https://localhost:8080/"
        },
        "id": "UhdglTKEvu5t",
        "outputId": "cb263cd5-79c2-4bcc-e51a-8a1ce22293ab"
      },
      "execution_count": 103,
      "outputs": [
        {
          "output_type": "stream",
          "name": "stdout",
          "text": [
            "4\n"
          ]
        }
      ]
    },
    {
      "cell_type": "code",
      "source": [
        "class Solution:\n",
        "    def search(self, nums: List[int], target: int) -> int:\n",
        "        #Left Pointer starting at 0\n",
        "        left = 0\n",
        "        #Right Pointer starting at last element's index\n",
        "        right = len(nums) - 1\n",
        "        #If left is higher than right exit the loop\n",
        "        #Means we have exhausted search space\n",
        "        while left <= right:\n",
        "            #Finding the midpoint and taking the lower value if decimal\n",
        "            mid = (left+right) // 2\n",
        "            #1.If the mid point element is the target\n",
        "            #2.We found our element! let's return the index!\n",
        "            if nums[mid] == target:\n",
        "                return mid\n",
        "            #1.If the target is larger than the mid element\n",
        "            #2.We need to reduce our search space and only search the right part\n",
        "            elif target > nums[mid]:\n",
        "                #1.Lets decrease the search space by\n",
        "                #2.Moving the left pointer over to the right side\n",
        "                #3.(mid + 1) because we already checked the mid and its not the target,\n",
        "                #4.Therefore move over one more\n",
        "                left = mid + 1\n",
        "            else:\n",
        "                #1.If our target is lower than our mid then we need to\n",
        "                #2.Bring the Right pointer over to decrease search space\n",
        "                #3.(mid - 1)because we already checked the mid\n",
        "                #4.Mid is not the target, so move forward one more\n",
        "                right = mid - 1\n",
        "        #Return -1 to indicate the element was not present in the list\n",
        "        return -1"
      ],
      "metadata": {
        "id": "1Hq_A8IFXFGA",
        "colab": {
          "base_uri": "https://localhost:8080/",
          "height": 332
        },
        "outputId": "a8d3ae88-9f45-4f3c-87d1-d4c64cf991fe"
      },
      "execution_count": 104,
      "outputs": [
        {
          "output_type": "error",
          "ename": "NameError",
          "evalue": "name 'List' is not defined",
          "traceback": [
            "\u001b[0;31m---------------------------------------------------------------------------\u001b[0m",
            "\u001b[0;31mNameError\u001b[0m                                 Traceback (most recent call last)",
            "\u001b[0;32m<ipython-input-104-9cd31266b6d2>\u001b[0m in \u001b[0;36m<cell line: 1>\u001b[0;34m()\u001b[0m\n\u001b[0;32m----> 1\u001b[0;31m \u001b[0;32mclass\u001b[0m \u001b[0mSolution\u001b[0m\u001b[0;34m:\u001b[0m\u001b[0;34m\u001b[0m\u001b[0;34m\u001b[0m\u001b[0m\n\u001b[0m\u001b[1;32m      2\u001b[0m     \u001b[0;32mdef\u001b[0m \u001b[0msearch\u001b[0m\u001b[0;34m(\u001b[0m\u001b[0mself\u001b[0m\u001b[0;34m,\u001b[0m \u001b[0mnums\u001b[0m\u001b[0;34m:\u001b[0m \u001b[0mList\u001b[0m\u001b[0;34m[\u001b[0m\u001b[0mint\u001b[0m\u001b[0;34m]\u001b[0m\u001b[0;34m,\u001b[0m \u001b[0mtarget\u001b[0m\u001b[0;34m:\u001b[0m \u001b[0mint\u001b[0m\u001b[0;34m)\u001b[0m \u001b[0;34m->\u001b[0m \u001b[0mint\u001b[0m\u001b[0;34m:\u001b[0m\u001b[0;34m\u001b[0m\u001b[0;34m\u001b[0m\u001b[0m\n\u001b[1;32m      3\u001b[0m         \u001b[0;31m#Left Pointer starting at 0\u001b[0m\u001b[0;34m\u001b[0m\u001b[0;34m\u001b[0m\u001b[0m\n\u001b[1;32m      4\u001b[0m         \u001b[0mleft\u001b[0m \u001b[0;34m=\u001b[0m \u001b[0;36m0\u001b[0m\u001b[0;34m\u001b[0m\u001b[0;34m\u001b[0m\u001b[0m\n\u001b[1;32m      5\u001b[0m         \u001b[0;31m#Right Pointer starting at last element's index\u001b[0m\u001b[0;34m\u001b[0m\u001b[0;34m\u001b[0m\u001b[0m\n",
            "\u001b[0;32m<ipython-input-104-9cd31266b6d2>\u001b[0m in \u001b[0;36mSolution\u001b[0;34m()\u001b[0m\n\u001b[1;32m      1\u001b[0m \u001b[0;32mclass\u001b[0m \u001b[0mSolution\u001b[0m\u001b[0;34m:\u001b[0m\u001b[0;34m\u001b[0m\u001b[0;34m\u001b[0m\u001b[0m\n\u001b[0;32m----> 2\u001b[0;31m     \u001b[0;32mdef\u001b[0m \u001b[0msearch\u001b[0m\u001b[0;34m(\u001b[0m\u001b[0mself\u001b[0m\u001b[0;34m,\u001b[0m \u001b[0mnums\u001b[0m\u001b[0;34m:\u001b[0m \u001b[0mList\u001b[0m\u001b[0;34m[\u001b[0m\u001b[0mint\u001b[0m\u001b[0;34m]\u001b[0m\u001b[0;34m,\u001b[0m \u001b[0mtarget\u001b[0m\u001b[0;34m:\u001b[0m \u001b[0mint\u001b[0m\u001b[0;34m)\u001b[0m \u001b[0;34m->\u001b[0m \u001b[0mint\u001b[0m\u001b[0;34m:\u001b[0m\u001b[0;34m\u001b[0m\u001b[0;34m\u001b[0m\u001b[0m\n\u001b[0m\u001b[1;32m      3\u001b[0m         \u001b[0;31m#Left Pointer starting at 0\u001b[0m\u001b[0;34m\u001b[0m\u001b[0;34m\u001b[0m\u001b[0m\n\u001b[1;32m      4\u001b[0m         \u001b[0mleft\u001b[0m \u001b[0;34m=\u001b[0m \u001b[0;36m0\u001b[0m\u001b[0;34m\u001b[0m\u001b[0;34m\u001b[0m\u001b[0m\n\u001b[1;32m      5\u001b[0m         \u001b[0;31m#Right Pointer starting at last element's index\u001b[0m\u001b[0;34m\u001b[0m\u001b[0;34m\u001b[0m\u001b[0m\n",
            "\u001b[0;31mNameError\u001b[0m: name 'List' is not defined"
          ]
        }
      ]
    },
    {
      "source": [
        "from typing import List  # Import the List type from the typing module\n",
        "\n",
        "class Solution:\n",
        "    def search(self, nums: List[int], target: int) -> int:\n",
        "        #Left Pointer starting at 0\n",
        "        left = 0\n",
        "        #Right Pointer starting at last element's index\n",
        "        right = len(nums) - 1\n",
        "        #If left is higher than right exit the loop\n",
        "        #Means we have exhausted search space\n",
        "        while left <= right:\n",
        "            #Finding the midpoint and taking the lower value if decimal\n",
        "            mid = (left+right) // 2\n",
        "            #1.If the mid point element is the target\n",
        "            #2.We found our element! let's return the index!\n",
        "            if nums[mid] == target:\n",
        "                return mid\n",
        "            #1.If the target is larger than the mid element\n",
        "            #2.We need to reduce our search space and only search the right part\n",
        "            elif target > nums[mid]:\n",
        "                #1.Lets decrease the search space by\n",
        "                #2.Moving the left pointer over to the right side\n",
        "                #3.(mid + 1) because we already checked the mid and its not the target,\n",
        "                #4.Therefore move over one more\n",
        "                left = mid + 1\n",
        "            else:\n",
        "                #1.If our target is lower than our mid then we need to\n",
        "                #2.Bring the Right pointer over to decrease search space\n",
        "                #3.(mid - 1)because we already checked the mid\n",
        "                #4.Mid is not the target, so move forward one more\n",
        "                right = mid - 1\n",
        "        #Return -1 to indicate the element was not present in the list\n",
        "        return -1"
      ],
      "cell_type": "code",
      "metadata": {
        "id": "Oy8hmGYQz7w-"
      },
      "execution_count": 105,
      "outputs": []
    },
    {
      "cell_type": "code",
      "source": [
        "def merge_sort(data):\n",
        "    if len(data) <= 1:\n",
        "        return\n",
        "\n",
        "    mid = len(data) // 2\n",
        "    left_data = data[:mid]\n",
        "    right_data = data[mid:]\n",
        "\n",
        "    merge_sort(left_data)\n",
        "    merge_sort(right_data)\n",
        "\n",
        "    left_index = 0\n",
        "    right_index = 0\n",
        "    data_index = 0\n",
        "\n",
        "    while left_index < len(left_data) and right_index < len(right_data):\n",
        "        if left_data[left_index] < right_data[right_index]:\n",
        "            data[data_index] = left_data[left_index]\n",
        "            left_index += 1\n",
        "        else:\n",
        "            data[data_index] = right_data[right_index]\n",
        "            right_index += 1\n",
        "        data_index += 1\n",
        "\n",
        "    if left_index < len(left_data):\n",
        "        del data[data_index:]\n",
        "        data += left_data[left_index:]\n",
        "    elif right_index < len(right_data):\n",
        "        del data[data_index:]\n",
        "        data += right_data[right_index:]\n",
        "\n",
        "if __name__ == '__main__':\n",
        "    data = [9, 1, 7, 6, 2, 8, 5, 3, 4, 0]\n",
        "    merge_sort(data)\n",
        "    print(data)\n",
        "plt.plot(data)\n",
        "plt.show()\n",
        "plt.plot(steps)\n"
      ],
      "metadata": {
        "colab": {
          "base_uri": "https://localhost:8080/",
          "height": 878
        },
        "id": "kpTgWPS0zzlQ",
        "outputId": "808570da-7031-4948-c8d4-9d287135a24a"
      },
      "execution_count": 116,
      "outputs": [
        {
          "output_type": "stream",
          "name": "stdout",
          "text": [
            "[0, 1, 2, 3, 4, 5, 6, 7, 8, 9]\n"
          ]
        },
        {
          "output_type": "display_data",
          "data": {
            "text/plain": [
              "<Figure size 640x480 with 1 Axes>"
            ],
            "image/png": "[encoded data removed]"
          },
          "metadata": {}
        },
        {
          "output_type": "execute_result",
          "data": {
            "text/plain": [
              "[<matplotlib.lines.Line2D at 0x7ee52653a800>]"
            ]
          },
          "metadata": {},
          "execution_count": 116
        },
        {
          "output_type": "display_data",
          "data": {
            "text/plain": [
              "<Figure size 640x480 with 1 Axes>"
            ],
            "image/png": "[encoded data removed]"
          },
          "metadata": {}
        }
      ]
    },
    {
      "cell_type": "code",
      "source": [],
      "metadata": {
        "id": "rAj01Sy3zzf2"
      },
      "execution_count": null,
      "outputs": []
    },
    {
      "cell_type": "code",
      "source": [
        "def complex_algo(items):\n",
        "\n",
        "    for i in range(5):\n",
        "        print(\"Python is awesome\")\n",
        "\n",
        "    for item in items:\n",
        "        print(item)\n",
        "\n",
        "    for item in items:\n",
        "        print(item)\n",
        "\n",
        "    print(\"Big O\")\n",
        "    print(\"Big O\")\n",
        "    print(\"Big O\")\n",
        "\n",
        "complex_algo([4, 5, 6, 8])"
      ],
      "metadata": {
        "colab": {
          "base_uri": "https://localhost:8080/"
        },
        "id": "I58UV3Guzzdh",
        "outputId": "0c071794-d241-4356-eac4-1b03a13caa0d"
      },
      "execution_count": 117,
      "outputs": [
        {
          "output_type": "stream",
          "name": "stdout",
          "text": [
            "Python is awesome\n",
            "Python is awesome\n",
            "Python is awesome\n",
            "Python is awesome\n",
            "Python is awesome\n",
            "4\n",
            "5\n",
            "6\n",
            "8\n",
            "4\n",
            "5\n",
            "6\n",
            "8\n",
            "Big O\n",
            "Big O\n",
            "Big O\n"
          ]
        }
      ]
    },
    {
      "cell_type": "code",
      "source": [
        "def merge_sort(data):\n",
        "    if len(data) <= 1:\n",
        "        return\n",
        "\n",
        "    mid = len(data) // 2\n",
        "    left_data = data[:mid]\n",
        "    right_data = data[mid:]\n",
        "\n",
        "    merge_sort(left_data)\n",
        "    merge_sort(right_data)\n",
        "\n",
        "    left_index = 0\n",
        "    right_index = 0\n",
        "    data_index = 0\n",
        "\n",
        "    while left_index < len(left_data) and right_index < len(right_data):\n",
        "        if left_data[left_index] < right_data[right_index]:\n",
        "            data[data_index] = left_data[left_index]\n",
        "            left_index += 1\n",
        "        else:\n",
        "            data[data_index] = right_data[right_index]\n",
        "            right_index += 1\n",
        "        data_index += 1\n",
        "\n",
        "    if left_index < len(left_data):\n",
        "        del data[data_index:]\n",
        "        data += left_data[left_index:]\n",
        "    elif right_index < len(right_data):\n",
        "        del data[data_index:]\n",
        "        data += right_data[right_index:]\n",
        "\n",
        "if __name__ == '__main__':\n",
        "    data = [9, 1, 7, 6, 2, 8, 5, 3, 4, 0]\n",
        "    merge_sort(data)\n",
        "    print(data)"
      ],
      "metadata": {
        "colab": {
          "base_uri": "https://localhost:8080/"
        },
        "id": "6NBezwV5zzam",
        "outputId": "68705fa3-fc5a-4c43-bada-55d669cd8f20"
      },
      "execution_count": 118,
      "outputs": [
        {
          "output_type": "stream",
          "name": "stdout",
          "text": [
            "[0, 1, 2, 3, 4, 5, 6, 7, 8, 9]\n"
          ]
        }
      ]
    },
    {
      "cell_type": "code",
      "source": [
        "import matplotlib.pyplot as plt\n",
        "import time\n",
        "\n",
        "\n",
        "steps = []\n",
        "def linear(n):\n",
        "    return n\n",
        "\n",
        "for i in range(1, 100):\n",
        "    steps.append(linear(i))\n",
        "\n",
        "plt.plot(steps)\n",
        "\n",
        "\n",
        "x = list(range(0, 1000))\n",
        "y = list(range(0,1))\n",
        "\n",
        "\n",
        "\n",
        "plt.xlabel('Steps')\n",
        "plt.ylabel('Time')\n",
        "plt.title('Linear')\n",
        "\n",
        "plt.show()"
      ],
      "metadata": {
        "colab": {
          "base_uri": "https://localhost:8080/",
          "height": 472
        },
        "id": "8zJB2GwTzzYC",
        "outputId": "7b0fccae-b18a-4e55-fe63-5e6c07be06a9"
      },
      "execution_count": 1,
      "outputs": [
        {
          "output_type": "display_data",
          "data": {
            "text/plain": [
              "<Figure size 640x480 with 1 Axes>"
            ],
            "image/png": "[encoded data removed]"
          },
          "metadata": {}
        }
      ]
    },
    {
      "cell_type": "code",
      "source": [],
      "metadata": {
        "id": "LJENl7ZWzzTp"
      },
      "execution_count": null,
      "outputs": []
    },
    {
      "cell_type": "code",
      "source": [],
      "metadata": {
        "id": "i_Rp_Gr1zzRK"
      },
      "execution_count": null,
      "outputs": []
    }
  ]
}